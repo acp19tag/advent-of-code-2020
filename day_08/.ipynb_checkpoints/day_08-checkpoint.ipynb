{
 "cells": [
  {
   "cell_type": "markdown",
   "metadata": {},
   "source": [
    "Instructions: \n",
    "\n",
    "--- Day 8: Handheld Halting ---\n",
    "\n",
    "Your flight to the major airline hub reaches cruising altitude without incident. While you consider checking the in-flight menu for one of those drinks that come with a little umbrella, you are interrupted by the kid sitting next to you.\n",
    "\n",
    "Their handheld game console won't turn on! They ask if you can take a look.\n",
    "\n",
    "You narrow the problem down to a strange infinite loop in the boot code (your puzzle input) of the device. You should be able to fix it, but first you need to be able to run the code in isolation.\n",
    "\n",
    "The boot code is represented as a text file with one instruction per line of text. Each instruction consists of an operation (acc, jmp, or nop) and an argument (a signed number like +4 or -20).\n",
    "\n",
    "    acc increases or decreases a single global value called the accumulator by the value given in the argument. For example, acc +7 would increase the accumulator by 7. The accumulator starts at 0. After an acc instruction, the instruction immediately below it is executed next.\n",
    "    jmp jumps to a new instruction relative to itself. The next instruction to execute is found using the argument as an offset from the jmp instruction; for example, jmp +2 would skip the next instruction, jmp +1 would continue to the instruction immediately below it, and jmp -20 would cause the instruction 20 lines above to be executed next.\n",
    "    nop stands for No OPeration - it does nothing. The instruction immediately below it is executed next.\n",
    "\n",
    "For example, consider the following program:\n",
    "\n",
    "nop +0\n",
    "acc +1\n",
    "jmp +4\n",
    "acc +3\n",
    "jmp -3\n",
    "acc -99\n",
    "acc +1\n",
    "jmp -4\n",
    "acc +6\n",
    "\n",
    "These instructions are visited in this order:\n",
    "\n",
    "nop +0  | 1\n",
    "acc +1  | 2, 8(!)\n",
    "jmp +4  | 3\n",
    "acc +3  | 6\n",
    "jmp -3  | 7\n",
    "acc -99 |\n",
    "acc +1  | 4\n",
    "jmp -4  | 5\n",
    "acc +6  |\n",
    "\n",
    "First, the nop +0 does nothing. Then, the accumulator is increased from 0 to 1 (acc +1) and jmp +4 sets the next instruction to the other acc +1 near the bottom. After it increases the accumulator from 1 to 2, jmp -4 executes, setting the next instruction to the only acc +3. It sets the accumulator to 5, and jmp -3 causes the program to continue back at the first acc +1.\n",
    "\n",
    "This is an infinite loop: with this sequence of jumps, the program will run forever. The moment the program tries to run any instruction a second time, you know it will never terminate.\n",
    "\n",
    "Immediately before the program would run an instruction a second time, the value in the accumulator is 5.\n",
    "\n",
    "Run your copy of the boot code. Immediately before any instruction is executed a second time, what value is in the accumulator?\n"
   ]
  },
  {
   "cell_type": "code",
   "execution_count": 6,
   "metadata": {},
   "outputs": [],
   "source": [
    "puzzle_input = []\n",
    "\n",
    "with open('puzzle_input') as infile:\n",
    "    for line in infile: \n",
    "        puzzle_input.append(line.rstrip('\\n'))"
   ]
  },
  {
   "cell_type": "code",
   "execution_count": 1,
   "metadata": {},
   "outputs": [],
   "source": [
    "sample_puzzle_input = [\n",
    "    'nop +0',\n",
    "    'acc +1',\n",
    "    'jmp +4',\n",
    "    'acc +3',\n",
    "    'jmp -3',\n",
    "    'acc -99',\n",
    "    'acc +1',\n",
    "    'jmp -4',\n",
    "    'acc +6'\n",
    "]"
   ]
  },
  {
   "cell_type": "code",
   "execution_count": 19,
   "metadata": {},
   "outputs": [],
   "source": [
    "def create_boot_code_dict(puzzle_input):\n",
    "    \n",
    "    line_index = 0\n",
    "    boot_code_dict = {}\n",
    "    \n",
    "    for line in puzzle_input:\n",
    "        \n",
    "        operation, argument = line.split()\n",
    "        \n",
    "        boot_code_dict[line_index] = {\n",
    "            'operation': operation,\n",
    "            'argument': int(argument)\n",
    "        }\n",
    "        \n",
    "        line_index += 1\n",
    "    \n",
    "    return boot_code_dict"
   ]
  },
  {
   "cell_type": "code",
   "execution_count": 20,
   "metadata": {},
   "outputs": [
    {
     "name": "stdout",
     "output_type": "stream",
     "text": [
      "{0: {'operation': 'nop', 'argument': 0}, 1: {'operation': 'acc', 'argument': 1}, 2: {'operation': 'jmp', 'argument': 4}, 3: {'operation': 'acc', 'argument': 3}, 4: {'operation': 'jmp', 'argument': -3}, 5: {'operation': 'acc', 'argument': -99}, 6: {'operation': 'acc', 'argument': 1}, 7: {'operation': 'jmp', 'argument': -4}, 8: {'operation': 'acc', 'argument': 6}}\n"
     ]
    }
   ],
   "source": [
    "print(create_boot_code_dict(sample_puzzle_input))"
   ]
  },
  {
   "cell_type": "code",
   "execution_count": 21,
   "metadata": {},
   "outputs": [],
   "source": [
    "def perform_operation(line_index, boot_code_dict, accumulator=0):\n",
    "    \n",
    "    operation = boot_code_dict[line_index]['operation']\n",
    "    argument = boot_code_dict[line_index]['argument']\n",
    "    \n",
    "    if operation == 'acc':\n",
    "        \n",
    "        accumulator += argument\n",
    "        line_index += 1\n",
    "        \n",
    "    elif operation == 'jmp':\n",
    "        \n",
    "        line_index += argument\n",
    "        \n",
    "    elif operation == 'nop':\n",
    "        \n",
    "        line_index += 1\n",
    "        \n",
    "    return line_index, accumulator"
   ]
  },
  {
   "cell_type": "code",
   "execution_count": 22,
   "metadata": {},
   "outputs": [],
   "source": [
    "def show_accumulator_before_second_boot(puzzle_input):\n",
    "    \n",
    "    boot_code_dict = create_boot_code_dict(puzzle_input)\n",
    "    \n",
    "    line_index = 0\n",
    "    accumulator = 0\n",
    "    second_loop = False\n",
    "    \n",
    "    visited_indices = set()\n",
    "    \n",
    "    while not second_loop:\n",
    "        \n",
    "        visited_indices.add(line_index)\n",
    "        \n",
    "        line_index, accumulator = perform_operation(line_index, boot_code_dict, accumulator)\n",
    "        \n",
    "        if line_index in visited_indices:\n",
    "            \n",
    "            second_loop = True\n",
    "    \n",
    "    return accumulator"
   ]
  },
  {
   "cell_type": "code",
   "execution_count": 25,
   "metadata": {},
   "outputs": [
    {
     "name": "stdout",
     "output_type": "stream",
     "text": [
      "5\n"
     ]
    }
   ],
   "source": [
    "print(show_accumulator_before_second_boot(sample_puzzle_input))"
   ]
  },
  {
   "cell_type": "code",
   "execution_count": 24,
   "metadata": {},
   "outputs": [
    {
     "name": "stdout",
     "output_type": "stream",
     "text": [
      "1594\n"
     ]
    }
   ],
   "source": [
    "print(show_accumulator_before_second_boot(puzzle_input))"
   ]
  },
  {
   "cell_type": "markdown",
   "metadata": {},
   "source": [
    "--- Part Two ---\n",
    "\n",
    "After some careful analysis, you believe that exactly one instruction is corrupted.\n",
    "\n",
    "Somewhere in the program, either a jmp is supposed to be a nop, or a nop is supposed to be a jmp. (No acc instructions were harmed in the corruption of this boot code.)\n",
    "\n",
    "The program is supposed to terminate by attempting to execute an instruction immediately after the last instruction in the file. By changing exactly one jmp or nop, you can repair the boot code and make it terminate correctly.\n",
    "\n",
    "For example, consider the same program from above:\n",
    "\n",
    "nop +0\n",
    "acc +1\n",
    "jmp +4\n",
    "acc +3\n",
    "jmp -3\n",
    "acc -99\n",
    "acc +1\n",
    "jmp -4\n",
    "acc +6\n",
    "\n",
    "If you change the first instruction from nop +0 to jmp +0, it would create a single-instruction infinite loop, never leaving that instruction. If you change almost any of the jmp instructions, the program will still eventually find another jmp instruction and loop forever.\n",
    "\n",
    "However, if you change the second-to-last instruction (from jmp -4 to nop -4), the program terminates! The instructions are visited in this order:\n",
    "\n",
    "nop +0  | 1\n",
    "acc +1  | 2\n",
    "jmp +4  | 3\n",
    "acc +3  |\n",
    "jmp -3  |\n",
    "acc -99 |\n",
    "acc +1  | 4\n",
    "nop -4  | 5\n",
    "acc +6  | 6\n",
    "\n",
    "After the last instruction (acc +6), the program terminates by attempting to run the instruction below the last instruction in the file. With this change, after the program terminates, the accumulator contains the value 8 (acc +1, acc +1, acc +6).\n",
    "\n",
    "Fix the program so that it terminates normally by changing exactly one jmp (to nop) or nop (to jmp). What is the value of the accumulator after the program terminates?\n"
   ]
  },
  {
   "cell_type": "code",
   "execution_count": 26,
   "metadata": {},
   "outputs": [],
   "source": [
    "sample_puzzle_input_2 = [\n",
    "    'nop +0',\n",
    "    'acc +1',\n",
    "    'jmp +4',\n",
    "    'acc +3',\n",
    "    'jmp -3',\n",
    "    'acc -99',\n",
    "    'acc +1',\n",
    "    'nop -4',\n",
    "    'acc +6'\n",
    "]"
   ]
  },
  {
   "cell_type": "code",
   "execution_count": 52,
   "metadata": {},
   "outputs": [],
   "source": [
    "def check_if_resolves(boot_code_dict):\n",
    "     \n",
    "    line_index = 0\n",
    "    accumulator = 0\n",
    "    second_loop = False\n",
    "    resolves = False\n",
    "    goal_index = max(boot_code_dict.keys())+1\n",
    "    \n",
    "    visited_indices = set()\n",
    "    \n",
    "    while not second_loop and not resolves:\n",
    "        \n",
    "        visited_indices.add(line_index)\n",
    "        \n",
    "        line_index, accumulator = perform_operation(line_index, boot_code_dict, accumulator)\n",
    "        \n",
    "        if line_index in visited_indices:\n",
    "            \n",
    "            second_loop = True\n",
    "            \n",
    "        elif line_index == goal_index:\n",
    "            \n",
    "            resolves = True\n",
    "            \n",
    "    if second_loop:\n",
    "        \n",
    "        return False\n",
    "    \n",
    "    elif resolves:\n",
    "        \n",
    "        return True\n",
    "    \n",
    "    else:\n",
    "        \n",
    "        return 'SOMETHING AWFUL HAS HAPPENED'"
   ]
  },
  {
   "cell_type": "code",
   "execution_count": 53,
   "metadata": {},
   "outputs": [
    {
     "data": {
      "text/plain": [
       "True"
      ]
     },
     "execution_count": 53,
     "metadata": {},
     "output_type": "execute_result"
    }
   ],
   "source": [
    "check_if_resolves(create_boot_code_dict(sample_puzzle_input_2))"
   ]
  },
  {
   "cell_type": "code",
   "execution_count": 56,
   "metadata": {},
   "outputs": [],
   "source": [
    "def show_accumulator(boot_code_dict):\n",
    "    \n",
    "    line_index = 0\n",
    "    accumulator = 0\n",
    "    resolved = False\n",
    "    goal_index = max(boot_code_dict.keys())+1\n",
    "    \n",
    "    while not resolved:\n",
    "        \n",
    "        line_index, accumulator = perform_operation(line_index, boot_code_dict, accumulator)\n",
    "        \n",
    "        if line_index == goal_index:\n",
    "            \n",
    "            resolved = True\n",
    "    \n",
    "    return accumulator"
   ]
  },
  {
   "cell_type": "code",
   "execution_count": 59,
   "metadata": {},
   "outputs": [
    {
     "data": {
      "text/plain": [
       "8"
      ]
     },
     "execution_count": 59,
     "metadata": {},
     "output_type": "execute_result"
    }
   ],
   "source": [
    "show_accumulator(create_boot_code_dict(sample_puzzle_input_2))"
   ]
  },
  {
   "cell_type": "code",
   "execution_count": 69,
   "metadata": {},
   "outputs": [],
   "source": [
    "def change_operation(index_to_change, boot_code_dict):\n",
    "    \n",
    "    new_boot_code_dict = boot_code_dict.copy()\n",
    "    \n",
    "    if boot_code_dict[index_to_change]['operation'] == 'jmp':\n",
    "        \n",
    "        new_boot_code_dict[index_to_change]['operation'] = 'nop'\n",
    "        \n",
    "        return new_boot_code_dict\n",
    "    \n",
    "    elif boot_code_dict[index_to_change]['operation'] == 'nop':\n",
    "        \n",
    "        new_boot_code_dict[index_to_change]['operation'] = 'jmp'\n",
    "        \n",
    "        return new_boot_code_dict\n",
    "    \n",
    "    else:\n",
    "        \n",
    "        return False"
   ]
  },
  {
   "cell_type": "code",
   "execution_count": 70,
   "metadata": {},
   "outputs": [
    {
     "name": "stdout",
     "output_type": "stream",
     "text": [
      "{0: {'operation': 'nop', 'argument': 0}, 1: {'operation': 'acc', 'argument': 1}, 2: {'operation': 'jmp', 'argument': 4}, 3: {'operation': 'acc', 'argument': 3}, 4: {'operation': 'jmp', 'argument': -3}, 5: {'operation': 'acc', 'argument': -99}, 6: {'operation': 'acc', 'argument': 1}, 7: {'operation': 'jmp', 'argument': -4}, 8: {'operation': 'acc', 'argument': 6}}\n"
     ]
    }
   ],
   "source": [
    "boot_code_dict = create_boot_code_dict(sample_puzzle_input)\n",
    "print(boot_code_dict)"
   ]
  },
  {
   "cell_type": "code",
   "execution_count": 82,
   "metadata": {},
   "outputs": [
    {
     "name": "stdout",
     "output_type": "stream",
     "text": [
      "['nop +0', 'acc +1', 'jmp +4', 'acc +3', 'jmp -3', 'acc -99', 'acc +1', 'jmp -4', 'acc +6']\n"
     ]
    }
   ],
   "source": [
    "print(sample_puzzle_input)"
   ]
  },
  {
   "cell_type": "code",
   "execution_count": 89,
   "metadata": {},
   "outputs": [],
   "source": [
    "import copy\n",
    "\n",
    "def fix_code_and_show_accumulator(puzzle_input):\n",
    "    \n",
    "    output = False\n",
    "    \n",
    "    boot_code_dict = create_boot_code_dict(puzzle_input)\n",
    "    \n",
    "    for index in boot_code_dict:\n",
    "        \n",
    "        boot_code_dict_copy = copy.deepcopy(boot_code_dict)\n",
    "        \n",
    "        new_boot_code_dict = change_operation(index, boot_code_dict_copy)\n",
    "                \n",
    "        if new_boot_code_dict:\n",
    "                        \n",
    "            if check_if_resolves(new_boot_code_dict):\n",
    "                \n",
    "                output = show_accumulator(new_boot_code_dict)\n",
    "                \n",
    "    return output"
   ]
  },
  {
   "cell_type": "code",
   "execution_count": 91,
   "metadata": {},
   "outputs": [
    {
     "data": {
      "text/plain": [
       "758"
      ]
     },
     "execution_count": 91,
     "metadata": {},
     "output_type": "execute_result"
    }
   ],
   "source": [
    "fix_code_and_show_accumulator(puzzle_input)"
   ]
  }
 ],
 "metadata": {
  "kernelspec": {
   "display_name": "Python 3",
   "language": "python",
   "name": "python3"
  },
  "language_info": {
   "codemirror_mode": {
    "name": "ipython",
    "version": 3
   },
   "file_extension": ".py",
   "mimetype": "text/x-python",
   "name": "python",
   "nbconvert_exporter": "python",
   "pygments_lexer": "ipython3",
   "version": "3.7.3"
  }
 },
 "nbformat": 4,
 "nbformat_minor": 2
}
