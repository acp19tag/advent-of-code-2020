{
 "cells": [
  {
   "cell_type": "markdown",
   "metadata": {},
   "source": [
    "Instructions: \n",
    "\n",
    "You arrive at the airport only to realize that you grabbed your North Pole Credentials instead of your passport. While these documents are extremely similar, North Pole Credentials aren't issued by a country and therefore aren't actually valid documentation for travel in most of the world.\n",
    "\n",
    "It seems like you're not the only one having problems, though; a very long line has formed for the automatic passport scanners, and the delay could upset your travel itinerary.\n",
    "\n",
    "Due to some questionable network security, you realize you might be able to solve both of these problems at the same time.\n",
    "\n",
    "The automatic passport scanners are slow because they're having trouble detecting which passports have all required fields. The expected fields are as follows:\n",
    "\n",
    "    byr (Birth Year)\n",
    "    iyr (Issue Year)\n",
    "    eyr (Expiration Year)\n",
    "    hgt (Height)\n",
    "    hcl (Hair Color)\n",
    "    ecl (Eye Color)\n",
    "    pid (Passport ID)\n",
    "    cid (Country ID)\n",
    "\n",
    "Passport data is validated in batch files (your puzzle input). Each passport is represented as a sequence of key:value pairs separated by spaces or newlines. Passports are separated by blank lines.\n",
    "\n",
    "Here is an example batch file containing four passports:\n",
    "\n",
    "ecl:gry pid:860033327 eyr:2020 hcl:#fffffd\n",
    "byr:1937 iyr:2017 cid:147 hgt:183cm\n",
    "\n",
    "iyr:2013 ecl:amb cid:350 eyr:2023 pid:028048884\n",
    "hcl:#cfa07d byr:1929\n",
    "\n",
    "hcl:#ae17e1 iyr:2013\n",
    "eyr:2024\n",
    "ecl:brn pid:760753108 byr:1931\n",
    "hgt:179cm\n",
    "\n",
    "hcl:#cfa07d eyr:2025 pid:166559648\n",
    "iyr:2011 ecl:brn hgt:59in\n",
    "\n",
    "The first passport is valid - all eight fields are present. The second passport is invalid - it is missing hgt (the Height field).\n",
    "\n",
    "The third passport is interesting; the only missing field is cid, so it looks like data from North Pole Credentials, not a passport at all! Surely, nobody would mind if you made the system temporarily ignore missing cid fields. Treat this \"passport\" as valid.\n",
    "\n",
    "The fourth passport is missing two fields, cid and byr. Missing cid is fine, but missing any other field is not, so this passport is invalid.\n",
    "\n",
    "According to the above rules, your improved system would report 2 valid passports.\n",
    "\n",
    "Count the number of valid passports - those that have all required fields. Treat cid as optional. In your batch file, how many passports are valid?"
   ]
  },
  {
   "cell_type": "code",
   "execution_count": 37,
   "metadata": {},
   "outputs": [],
   "source": [
    "puzzle_input = []\n",
    "\n",
    "with open('puzzle_input') as infile:\n",
    "    for line in infile: \n",
    "        puzzle_input.append(line.rstrip('\\n'))"
   ]
  },
  {
   "cell_type": "code",
   "execution_count": 14,
   "metadata": {},
   "outputs": [],
   "source": [
    "sample_puzzle_input = [\n",
    "    'ecl:gry pid:860033327 eyr:2020 hcl:#fffffd',\n",
    "    'byr:1937 iyr:2017 cid:147 hgt:183cm',\n",
    "    '',\n",
    "    'iyr:2013 ecl:amb cid:350 eyr:2023 pid:028048884',\n",
    "    'hcl:#cfa07d byr:1929',\n",
    "    '',\n",
    "    'hcl:#ae17e1 iyr:2013',\n",
    "    'eyr:2024',\n",
    "    'ecl:brn pid:760753108 byr:1931',\n",
    "    'hgt:179cm',\n",
    "    '',\n",
    "    'hcl:#cfa07d eyr:2025 pid:166559648',\n",
    "    'iyr:2011 ecl:brn hgt:59in',\n",
    "    ''\n",
    "]"
   ]
  },
  {
   "cell_type": "code",
   "execution_count": 54,
   "metadata": {},
   "outputs": [],
   "source": [
    "def reformat_passport_list(raw_puzzle_input):\n",
    "    \n",
    "    reformatted_passport_list = []\n",
    "    passport = ''\n",
    "\n",
    "    for line in raw_puzzle_input:\n",
    "\n",
    "        if line != '':\n",
    "\n",
    "            passport += line + ' '\n",
    "\n",
    "        else:\n",
    "\n",
    "            reformatted_passport_list.append(passport)\n",
    "            passport = ''\n",
    "\n",
    "    return reformatted_passport_list\n",
    "\n",
    "def create_passport_dictionary_list(reformatted_passport_list):\n",
    "    \n",
    "    dictionary_passport_list = []\n",
    "\n",
    "    for passport in reformatted_passport_list:\n",
    "        dictionary = {}\n",
    "        for match in re.findall( r'([a-z]{3}):(\\S*)', passport):\n",
    "            dictionary[match[0]] = match[1]\n",
    "        dictionary_passport_list.append(dictionary)\n",
    "        \n",
    "    return dictionary_passport_list\n",
    "\n",
    "def count_valid_passports(raw_puzzle_input, necessary_fields):\n",
    "    \n",
    "    reformatted_passport_list = reformat_passport_list(raw_puzzle_input)\n",
    "    \n",
    "    dictionary_passport_list = create_passport_dictionary_list(reformatted_passport_list)\n",
    "    \n",
    "    valid_passport_count = 0\n",
    "    for dictionary in dictionary_passport_list:\n",
    "        if all(item in dictionary.keys() for item in necessary_fields):\n",
    "            valid_passport_count += 1 \n",
    "        \n",
    "    return valid_passport_count"
   ]
  },
  {
   "cell_type": "code",
   "execution_count": 55,
   "metadata": {},
   "outputs": [
    {
     "name": "stdout",
     "output_type": "stream",
     "text": [
      "2\n"
     ]
    }
   ],
   "source": [
    "sample_puzzle_answer = count_valid_passports(sample_puzzle_input, necessary_fields)\n",
    "print(sample_puzzle_answer)"
   ]
  },
  {
   "cell_type": "code",
   "execution_count": 56,
   "metadata": {},
   "outputs": [
    {
     "name": "stdout",
     "output_type": "stream",
     "text": [
      "170\n"
     ]
    }
   ],
   "source": [
    "puzzle_answer = count_valid_passports(puzzle_input, necessary_fields)\n",
    "print(puzzle_answer)"
   ]
  },
  {
   "cell_type": "markdown",
   "metadata": {},
   "source": [
    "--- Part Two ---\n",
    "\n",
    "The line is moving more quickly now, but you overhear airport security talking about how passports with invalid data are getting through. Better add some data validation, quick!\n",
    "\n",
    "You can continue to ignore the cid field, but each other field has strict rules about what values are valid for automatic validation:\n",
    "\n",
    "    byr (Birth Year) - four digits; at least 1920 and at most 2002.\n",
    "    iyr (Issue Year) - four digits; at least 2010 and at most 2020.\n",
    "    eyr (Expiration Year) - four digits; at least 2020 and at most 2030.\n",
    "    hgt (Height) - a number followed by either cm or in:\n",
    "        If cm, the number must be at least 150 and at most 193.\n",
    "        If in, the number must be at least 59 and at most 76.\n",
    "    hcl (Hair Color) - a # followed by exactly six characters 0-9 or a-f.\n",
    "    ecl (Eye Color) - exactly one of: amb blu brn gry grn hzl oth.\n",
    "    pid (Passport ID) - a nine-digit number, including leading zeroes.\n",
    "    cid (Country ID) - ignored, missing or not.\n",
    "\n",
    "Your job is to count the passports where all required fields are both present and valid according to the above rules. Here are some example values:\n",
    "\n",
    "byr valid:   2002\n",
    "byr invalid: 2003\n",
    "\n",
    "hgt valid:   60in\n",
    "hgt valid:   190cm\n",
    "hgt invalid: 190in\n",
    "hgt invalid: 190\n",
    "\n",
    "hcl valid:   #123abc\n",
    "hcl invalid: #123abz\n",
    "hcl invalid: 123abc\n",
    "\n",
    "ecl valid:   brn\n",
    "ecl invalid: wat\n",
    "\n",
    "pid valid:   000000001\n",
    "pid invalid: 0123456789\n",
    "\n",
    "Here are some invalid passports:\n",
    "\n",
    "eyr:1972 cid:100\n",
    "hcl:#18171d ecl:amb hgt:170 pid:186cm iyr:2018 byr:1926\n",
    "\n",
    "iyr:2019\n",
    "hcl:#602927 eyr:1967 hgt:170cm\n",
    "ecl:grn pid:012533040 byr:1946\n",
    "\n",
    "hcl:dab227 iyr:2012\n",
    "ecl:brn hgt:182cm pid:021572410 eyr:2020 byr:1992 cid:277\n",
    "\n",
    "hgt:59cm ecl:zzz\n",
    "eyr:2038 hcl:74454a iyr:2023\n",
    "pid:3556412378 byr:2007\n",
    "\n",
    "Here are some valid passports:\n",
    "\n",
    "pid:087499704 hgt:74in ecl:grn iyr:2012 eyr:2030 byr:1980\n",
    "hcl:#623a2f\n",
    "\n",
    "eyr:2029 ecl:blu cid:129 byr:1989\n",
    "iyr:2014 pid:896056539 hcl:#a97842 hgt:165cm\n",
    "\n",
    "hcl:#888785\n",
    "hgt:164cm byr:2001 iyr:2015 cid:88\n",
    "pid:545766238 ecl:hzl\n",
    "eyr:2022\n",
    "\n",
    "iyr:2010 hgt:158cm hcl:#b6652a ecl:blu byr:1944 eyr:2021 pid:093154719\n",
    "\n",
    "Count the number of valid passports - those that have all required fields and valid values. Continue to treat cid as optional. In your batch file, how many passports are valid?"
   ]
  },
  {
   "cell_type": "code",
   "execution_count": 91,
   "metadata": {},
   "outputs": [],
   "source": [
    "# create a function that takes a passport values dictionary and checks all the rules\n",
    "\n",
    "def check_passport_values(passport_dictionary):\n",
    "    \n",
    "    # byr - four digits, between 1920 and 2002\n",
    "    byr_check = (len(str(passport_dictionary['byr'])) == 4 and (1920 <= int(passport_dictionary['byr']) <= 2002))\n",
    "                    \n",
    "    # iyr - four digits, between 2010 and 2020\n",
    "    iyr_check = (len(str(passport_dictionary['iyr'])) == 4 and (2010 <= int(passport_dictionary['iyr']) <= 2020))\n",
    "    \n",
    "    # eyr - four digits, between 2020 and 2030\n",
    "    eyr_check = (len(str(passport_dictionary['eyr'])) == 4 and (2020 <= int(passport_dictionary['eyr']) <= 2030))\n",
    "    \n",
    "    # hgt - if cm, between 150 and 193, or if in, between 59 and 76\n",
    "    hgt_check = (passport_dictionary['hgt'][-2:] == 'cm' and 150 <= int(passport_dictionary['hgt'][:-2]) <= 193) \\\n",
    "                    or (passport_dictionary['hgt'][-2:] == 'in' and 59 <= int(passport_dictionary['hgt'][:-2]) <= 76)\n",
    "    \n",
    "    # hcl - must be a # followed by exactly six characters 0-9 or a-f.\n",
    "    hcl_check = bool(re.match(r\"#{1}[0-9,a-f]{6}\", passport_dictionary['hcl']))\n",
    "                    \n",
    "    # ecl - must be exactly one element of set {'amb', 'blu', 'brn', 'gry', 'grn', 'hzl', 'oth'}\n",
    "    ecl_check = passport_dictionary['ecl'] in {'amb', 'blu', 'brn', 'gry', 'grn', 'hzl', 'oth'}\n",
    "                    \n",
    "    # pid - a nine-digit number \n",
    "    pid_check = bool(re.match(r\"^[0-9]{9}$\", passport_dictionary['pid']))\n",
    "                    \n",
    "    # cid - NO CHECK RIGHT NOW\n",
    "    cid_check = True \n",
    "                    \n",
    "    return all([byr_check,iyr_check,eyr_check,hgt_check,hcl_check,ecl_check,pid_check,cid_check])"
   ]
  },
  {
   "cell_type": "code",
   "execution_count": 71,
   "metadata": {},
   "outputs": [],
   "source": [
    "def count_valid_passports(raw_puzzle_input, necessary_fields):\n",
    "    \n",
    "    reformatted_passport_list = reformat_passport_list(raw_puzzle_input)\n",
    "    \n",
    "    dictionary_passport_list = create_passport_dictionary_list(reformatted_passport_list)\n",
    "    \n",
    "    valid_passport_count = 0\n",
    "    for dictionary in dictionary_passport_list:\n",
    "        if all(item in dictionary.keys() for item in necessary_fields) and check_passport_values(dictionary):\n",
    "            valid_passport_count += 1 \n",
    "        \n",
    "    return valid_passport_count"
   ]
  },
  {
   "cell_type": "code",
   "execution_count": 73,
   "metadata": {},
   "outputs": [],
   "source": [
    "sample_valid_passports = [\n",
    "    'pid:087499704 hgt:74in ecl:grn iyr:2012 eyr:2030 byr:1980',\n",
    "    'hcl:#623a2f',\n",
    "    '',\n",
    "    'eyr:2029 ecl:blu cid:129 byr:1989',\n",
    "    'iyr:2014 pid:896056539 hcl:#a97842 hgt:165cm',\n",
    "    '',\n",
    "    'hcl:#888785',\n",
    "    'hgt:164cm byr:2001 iyr:2015 cid:88',\n",
    "    'pid:545766238 ecl:hzl',\n",
    "    'eyr:2022',\n",
    "    '',\n",
    "    'iyr:2010 hgt:158cm hcl:#b6652a ecl:blu byr:1944 eyr:2021 pid:093154719',\n",
    "    ''\n",
    "]"
   ]
  },
  {
   "cell_type": "code",
   "execution_count": 93,
   "metadata": {},
   "outputs": [
    {
     "name": "stdout",
     "output_type": "stream",
     "text": [
      "4\n"
     ]
    }
   ],
   "source": [
    "sample_puzzle_answer = count_valid_passports(sample_valid_passports, necessary_fields)\n",
    "print(sample_puzzle_answer)"
   ]
  },
  {
   "cell_type": "code",
   "execution_count": 94,
   "metadata": {},
   "outputs": [
    {
     "name": "stdout",
     "output_type": "stream",
     "text": [
      "103\n"
     ]
    }
   ],
   "source": [
    "puzzle_answer = count_valid_passports(puzzle_input, necessary_fields)\n",
    "print(puzzle_answer)"
   ]
  }
 ],
 "metadata": {
  "kernelspec": {
   "display_name": "Python 3",
   "language": "python",
   "name": "python3"
  },
  "language_info": {
   "codemirror_mode": {
    "name": "ipython",
    "version": 3
   },
   "file_extension": ".py",
   "mimetype": "text/x-python",
   "name": "python",
   "nbconvert_exporter": "python",
   "pygments_lexer": "ipython3",
   "version": "3.7.3"
  }
 },
 "nbformat": 4,
 "nbformat_minor": 2
}
