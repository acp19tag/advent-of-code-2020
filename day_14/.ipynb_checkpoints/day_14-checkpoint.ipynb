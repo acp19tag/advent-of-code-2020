{
 "cells": [
  {
   "cell_type": "markdown",
   "metadata": {},
   "source": [
    "Instructions: \n",
    "\n",
    "--- Day 14: Docking Data ---\n",
    "\n",
    "As your ferry approaches the sea port, the captain asks for your help again. The computer system that runs this port isn't compatible with the docking program on the ferry, so the docking parameters aren't being correctly initialized in the docking program's memory.\n",
    "\n",
    "After a brief inspection, you discover that the sea port's computer system uses a strange bitmask system in its initialization program. Although you don't have the correct decoder chip handy, you can emulate it in software!\n",
    "\n",
    "The initialization program (your puzzle input) can either update the bitmask or write a value to memory. Values and memory addresses are both 36-bit unsigned integers. For example, ignoring bitmasks for a moment, a line like mem[8] = 11 would write the value 11 to memory address 8.\n",
    "\n",
    "The bitmask is always given as a string of 36 bits, written with the most significant bit (representing 2^35) on the left and the least significant bit (2^0, that is, the 1s bit) on the right. The current bitmask is applied to values immediately before they are written to memory: a 0 or 1 overwrites the corresponding bit in the value, while an X leaves the bit in the value unchanged.\n",
    "\n",
    "For example, consider the following program:\n",
    "\n",
    "mask = XXXXXXXXXXXXXXXXXXXXXXXXXXXXX1XXXX0X\n",
    "mem[8] = 11\n",
    "mem[7] = 101\n",
    "mem[8] = 0\n",
    "\n",
    "This program starts by specifying a bitmask (mask = ....). The mask it specifies will overwrite two bits in every written value: the 2s bit is overwritten with 0, and the 64s bit is overwritten with 1.\n",
    "\n",
    "The program then attempts to write the value 11 to memory address 8. By expanding everything out to individual bits, the mask is applied as follows:\n",
    "\n",
    "value:  000000000000000000000000000000001011  (decimal 11)\n",
    "mask:   XXXXXXXXXXXXXXXXXXXXXXXXXXXXX1XXXX0X\n",
    "result: 000000000000000000000000000001001001  (decimal 73)\n",
    "\n",
    "So, because of the mask, the value 73 is written to memory address 8 instead. Then, the program tries to write 101 to address 7:\n",
    "\n",
    "value:  000000000000000000000000000001100101  (decimal 101)\n",
    "mask:   XXXXXXXXXXXXXXXXXXXXXXXXXXXXX1XXXX0X\n",
    "result: 000000000000000000000000000001100101  (decimal 101)\n",
    "\n",
    "This time, the mask has no effect, as the bits it overwrote were already the values the mask tried to set. Finally, the program tries to write 0 to address 8:\n",
    "\n",
    "value:  000000000000000000000000000000000000  (decimal 0)\n",
    "mask:   XXXXXXXXXXXXXXXXXXXXXXXXXXXXX1XXXX0X\n",
    "result: 000000000000000000000000000001000000  (decimal 64)\n",
    "\n",
    "64 is written to address 8 instead, overwriting the value that was there previously.\n",
    "\n",
    "To initialize your ferry's docking program, you need the sum of all values left in memory after the initialization program completes. (The entire 36-bit address space begins initialized to the value 0 at every address.) In the above example, only two values in memory are not zero - 101 (at address 7) and 64 (at address 8) - producing a sum of 165.\n",
    "\n",
    "Execute the initialization program. What is the sum of all values left in memory after it completes? (Do not truncate the sum to 36 bits.)\n"
   ]
  },
  {
   "cell_type": "code",
   "execution_count": 1,
   "metadata": {},
   "outputs": [],
   "source": [
    "puzzle_input = []\n",
    "\n",
    "with open('puzzle_input') as infile:\n",
    "    for line in infile: \n",
    "        puzzle_input.append(line.rstrip('\\n'))"
   ]
  },
  {
   "cell_type": "code",
   "execution_count": 2,
   "metadata": {},
   "outputs": [],
   "source": [
    "sample_puzzle_input = [\n",
    "'mask = XXXXXXXXXXXXXXXXXXXXXXXXXXXXX1XXXX0X',\n",
    "'mem[8] = 11',\n",
    "'mem[7] = 101',\n",
    "'mem[8] = 0'\n",
    "]"
   ]
  },
  {
   "cell_type": "code",
   "execution_count": 4,
   "metadata": {},
   "outputs": [],
   "source": [
    "import re\n",
    "\n",
    "def reformat_puzzle_input(puzzle_input):\n",
    "    \n",
    "#     # regex patterns\n",
    "#     re_mask = re.compile('mask = (.*)')\n",
    "#     re_mem = re.compile('mem\\[(\\d*)\\] = (\\d*)')\n",
    "    \n",
    "    index = 1\n",
    "    temp_dict = {}\n",
    "    first_time = True\n",
    "    output_list = []\n",
    "    \n",
    "    for line in puzzle_input: \n",
    "        \n",
    "        if line[:4] == 'mask' and first_time: \n",
    "            \n",
    "            re_mask = re.match('mask = (.*)', line)\n",
    "            mask = re_mask.group(1)\n",
    "            \n",
    "            temp_dict['mask'] = mask\n",
    "            # also open up a list for memory instructions\n",
    "            temp_dict['instructions'] = []\n",
    "            \n",
    "            first_time = False\n",
    "            \n",
    "        elif line[:4] == 'mask':\n",
    "            \n",
    "            # dump the contents of the temp dict to the output list\n",
    "            output_list.append(temp_dict)\n",
    "            \n",
    "            # reset the temp dict\n",
    "            temp_dict = {}\n",
    "            \n",
    "            re_mask = re.match('mask = (.*)', line)\n",
    "            mask = re_mask.group(1)\n",
    "            \n",
    "            temp_dict['mask'] = mask\n",
    "            # also open up a list for memory instructions\n",
    "            temp_dict['instructions'] = []\n",
    "            \n",
    "        else: \n",
    "            \n",
    "            re_mem = re.match('mem\\[(\\d*)\\] = (\\d*)', line)\n",
    "            temp_dict['instructions'].append((int(re_mem.group(1)), int(re_mem.group(2))))\n",
    "            \n",
    "    # append the final one to the list\n",
    "    output_list.append(temp_dict)\n",
    "            \n",
    "    return output_list"
   ]
  },
  {
   "cell_type": "code",
   "execution_count": 6,
   "metadata": {},
   "outputs": [],
   "source": [
    "def decimal_to_binarystring(value):\n",
    "    \n",
    "    return \"{0:036b}\".format(int(value))"
   ]
  },
  {
   "cell_type": "code",
   "execution_count": 7,
   "metadata": {},
   "outputs": [],
   "source": [
    "def apply_mask(binary_string, mask):\n",
    "    \n",
    "    output = \"\"\n",
    "    \n",
    "    for index in range(36):\n",
    "        \n",
    "        if mask[index] == 'X':\n",
    "            \n",
    "            output += binary_string[index]\n",
    "            \n",
    "        else:\n",
    "            \n",
    "            output += mask[index]\n",
    "            \n",
    "    return output"
   ]
  },
  {
   "cell_type": "code",
   "execution_count": 8,
   "metadata": {},
   "outputs": [],
   "source": [
    "def binarystring_to_decimal(value):\n",
    "    \n",
    "    return int(value, 2)"
   ]
  },
  {
   "cell_type": "code",
   "execution_count": 9,
   "metadata": {},
   "outputs": [],
   "source": [
    "def parse_instruction(instruction, mask):\n",
    "    \n",
    "    address, value = instruction\n",
    "    \n",
    "    binary_string = decimal_to_binarystring(value)\n",
    "    \n",
    "    masked_string = apply_mask(binary_string, mask)\n",
    "    \n",
    "    result = binarystring_to_decimal(masked_string)\n",
    "    \n",
    "    return address, result"
   ]
  },
  {
   "cell_type": "code",
   "execution_count": 12,
   "metadata": {},
   "outputs": [],
   "source": [
    "def init_docking_program(puzzle_input):\n",
    "    \n",
    "    reformatted_puzzle_input = reformat_puzzle_input(puzzle_input)\n",
    "    \n",
    "    memory_dict = {}\n",
    "    \n",
    "    for mask_instruction_dict in reformatted_puzzle_input:\n",
    "        \n",
    "        for instruction in mask_instruction_dict['instructions']:\n",
    "            \n",
    "            address, value = parse_instruction(instruction, mask_instruction_dict['mask'])\n",
    "                \n",
    "            memory_dict[address] = value # this will overwrite if necessary\n",
    "            \n",
    "    return memory_dict                "
   ]
  },
  {
   "cell_type": "code",
   "execution_count": 13,
   "metadata": {},
   "outputs": [],
   "source": [
    "def part_1_answer(puzzle_input):\n",
    "    \n",
    "    memory_dict = init_docking_program(puzzle_input)\n",
    "    \n",
    "    return sum(list(memory_dict.values()))"
   ]
  },
  {
   "cell_type": "code",
   "execution_count": 14,
   "metadata": {},
   "outputs": [
    {
     "data": {
      "text/plain": [
       "165"
      ]
     },
     "execution_count": 14,
     "metadata": {},
     "output_type": "execute_result"
    }
   ],
   "source": [
    "part_1_answer(sample_puzzle_input)"
   ]
  },
  {
   "cell_type": "code",
   "execution_count": 15,
   "metadata": {},
   "outputs": [
    {
     "data": {
      "text/plain": [
       "10452688630537"
      ]
     },
     "execution_count": 15,
     "metadata": {},
     "output_type": "execute_result"
    }
   ],
   "source": [
    "part_1_answer(puzzle_input)"
   ]
  },
  {
   "cell_type": "markdown",
   "metadata": {},
   "source": [
    "--- Part Two ---\n",
    "\n",
    "For some reason, the sea port's computer system still can't communicate with your ferry's docking program. It must be using version 2 of the decoder chip!\n",
    "\n",
    "A version 2 decoder chip doesn't modify the values being written at all. Instead, it acts as a memory address decoder. Immediately before a value is written to memory, each bit in the bitmask modifies the corresponding bit of the destination memory address in the following way:\n",
    "\n",
    "    If the bitmask bit is 0, the corresponding memory address bit is unchanged.\n",
    "    If the bitmask bit is 1, the corresponding memory address bit is overwritten with 1.\n",
    "    If the bitmask bit is X, the corresponding memory address bit is floating.\n",
    "\n",
    "A floating bit is not connected to anything and instead fluctuates unpredictably. In practice, this means the floating bits will take on all possible values, potentially causing many memory addresses to be written all at once!\n",
    "\n",
    "For example, consider the following program:\n",
    "\n",
    "mask = 000000000000000000000000000000X1001X\n",
    "mem[42] = 100\n",
    "mask = 00000000000000000000000000000000X0XX\n",
    "mem[26] = 1\n",
    "\n",
    "When this program goes to write to memory address 42, it first applies the bitmask:\n",
    "\n",
    "address: 000000000000000000000000000000101010  (decimal 42)\n",
    "mask:    000000000000000000000000000000X1001X\n",
    "result:  000000000000000000000000000000X1101X\n",
    "\n",
    "After applying the mask, four bits are overwritten, three of which are different, and two of which are floating. Floating bits take on every possible combination of values; with two floating bits, four actual memory addresses are written:\n",
    "\n",
    "000000000000000000000000000000011010  (decimal 26)\n",
    "000000000000000000000000000000011011  (decimal 27)\n",
    "000000000000000000000000000000111010  (decimal 58)\n",
    "000000000000000000000000000000111011  (decimal 59)\n",
    "\n",
    "Next, the program is about to write to memory address 26 with a different bitmask:\n",
    "\n",
    "address: 000000000000000000000000000000011010  (decimal 26)\n",
    "mask:    00000000000000000000000000000000X0XX\n",
    "result:  00000000000000000000000000000001X0XX\n",
    "\n",
    "This results in an address with three floating bits, causing writes to eight memory addresses:\n",
    "\n",
    "000000000000000000000000000000010000  (decimal 16)\n",
    "000000000000000000000000000000010001  (decimal 17)\n",
    "000000000000000000000000000000010010  (decimal 18)\n",
    "000000000000000000000000000000010011  (decimal 19)\n",
    "000000000000000000000000000000011000  (decimal 24)\n",
    "000000000000000000000000000000011001  (decimal 25)\n",
    "000000000000000000000000000000011010  (decimal 26)\n",
    "000000000000000000000000000000011011  (decimal 27)\n",
    "\n",
    "The entire 36-bit address space still begins initialized to the value 0 at every address, and you still need the sum of all values left in memory at the end of the program. In this example, the sum is 208.\n",
    "\n",
    "Execute the initialization program using an emulator for a version 2 decoder chip. What is the sum of all values left in memory after it completes?\n"
   ]
  },
  {
   "cell_type": "code",
   "execution_count": 16,
   "metadata": {},
   "outputs": [],
   "source": [
    "# apply mask function to be updated given new instructions\n",
    "\n",
    "def apply_mask(binary_string, mask):\n",
    "    \n",
    "    output = \"\"\n",
    "    \n",
    "    for index in range(36):\n",
    "        \n",
    "        if mask[index] == '0':\n",
    "            \n",
    "            output += binary_string[index]\n",
    "            \n",
    "        elif mask[index] == '1':\n",
    "            \n",
    "            output += '1'\n",
    "            \n",
    "        else:\n",
    "            \n",
    "            output += 'X'\n",
    "            \n",
    "    return output"
   ]
  },
  {
   "cell_type": "code",
   "execution_count": 17,
   "metadata": {},
   "outputs": [],
   "source": [
    "import itertools\n",
    "\n",
    "def find_possible_values(floating_result):\n",
    "    \n",
    "    replacement_combinations = list(itertools.product(['0', '1'],repeat = floating_result.count('X')))\n",
    "    \n",
    "#     print(floating_result.count('X'))\n",
    "#     print(replacement_combinations)\n",
    "    \n",
    "    possibilities_list = []\n",
    "    \n",
    "    for combination in replacement_combinations:\n",
    "        \n",
    "        new_result = floating_result\n",
    "        \n",
    "        for replacement_character in combination:\n",
    "            \n",
    "            new_result = re.sub('X', replacement_character, new_result, 1)\n",
    "            \n",
    "        possibilities_list.append(new_result)\n",
    "        \n",
    "    return [binarystring_to_decimal(value) for value in possibilities_list]\n",
    "    "
   ]
  },
  {
   "cell_type": "code",
   "execution_count": 18,
   "metadata": {},
   "outputs": [],
   "source": [
    "# update to account for address list \n",
    "\n",
    "def parse_instruction(instruction, mask):\n",
    "    \n",
    "    address, value = instruction\n",
    "    \n",
    "    binary_string = decimal_to_binarystring(address) # now masking the address rather than the value\n",
    "    \n",
    "    masked_string = apply_mask(binary_string, mask)\n",
    "    \n",
    "    address_list = find_possible_values(masked_string)\n",
    "    \n",
    "    return address_list, value"
   ]
  },
  {
   "cell_type": "code",
   "execution_count": 19,
   "metadata": {},
   "outputs": [],
   "source": [
    "def init_docking_program(puzzle_input):\n",
    "    \n",
    "    reformatted_puzzle_input = reformat_puzzle_input(puzzle_input)\n",
    "    \n",
    "    memory_dict = {}\n",
    "    \n",
    "    for mask_instruction_dict in reformatted_puzzle_input:\n",
    "        \n",
    "        for instruction in mask_instruction_dict['instructions']:\n",
    "            \n",
    "            address_list, value = parse_instruction(instruction, mask_instruction_dict['mask'])\n",
    "                \n",
    "            for address in address_list:\n",
    "\n",
    "                memory_dict[address] = value # this will overwrite if necessary\n",
    "            \n",
    "    return memory_dict    "
   ]
  },
  {
   "cell_type": "code",
   "execution_count": 20,
   "metadata": {},
   "outputs": [],
   "source": [
    "def part_2_answer(puzzle_input):\n",
    "    \n",
    "    memory_dict = init_docking_program(puzzle_input)\n",
    "    \n",
    "    return sum(list(memory_dict.values()))"
   ]
  },
  {
   "cell_type": "code",
   "execution_count": 21,
   "metadata": {},
   "outputs": [
    {
     "data": {
      "text/plain": [
       "2881082759597"
      ]
     },
     "execution_count": 21,
     "metadata": {},
     "output_type": "execute_result"
    }
   ],
   "source": [
    "part_2_answer(puzzle_input)"
   ]
  }
 ],
 "metadata": {
  "kernelspec": {
   "display_name": "Python 3",
   "language": "python",
   "name": "python3"
  },
  "language_info": {
   "codemirror_mode": {
    "name": "ipython",
    "version": 3
   },
   "file_extension": ".py",
   "mimetype": "text/x-python",
   "name": "python",
   "nbconvert_exporter": "python",
   "pygments_lexer": "ipython3",
   "version": "3.7.3"
  }
 },
 "nbformat": 4,
 "nbformat_minor": 2
}
