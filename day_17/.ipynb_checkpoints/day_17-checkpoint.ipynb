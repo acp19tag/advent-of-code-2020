{
 "cells": [
  {
   "cell_type": "markdown",
   "metadata": {},
   "source": [
    "Instructions: \n",
    "\n",
    "-- Day 17: Conway Cubes ---\n",
    "\n",
    "As your flight slowly drifts through the sky, the Elves at the Mythical Information Bureau at the North Pole contact you. They'd like some help debugging a malfunctioning experimental energy source aboard one of their super-secret imaging satellites.\n",
    "\n",
    "The experimental energy source is based on cutting-edge technology: a set of Conway Cubes contained in a pocket dimension! When you hear it's having problems, you can't help but agree to take a look.\n",
    "\n",
    "The pocket dimension contains an infinite 3-dimensional grid. At every integer 3-dimensional coordinate (x,y,z), there exists a single cube which is either active or inactive.\n",
    "\n",
    "In the initial state of the pocket dimension, almost all cubes start inactive. The only exception to this is a small flat region of cubes (your puzzle input); the cubes in this region start in the specified active (#) or inactive (.) state.\n",
    "\n",
    "The energy source then proceeds to boot up by executing six cycles.\n",
    "\n",
    "Each cube only ever considers its neighbors: any of the 26 other cubes where any of their coordinates differ by at most 1. For example, given the cube at x=1,y=2,z=3, its neighbors include the cube at x=2,y=2,z=2, the cube at x=0,y=2,z=3, and so on.\n",
    "\n",
    "During a cycle, all cubes simultaneously change their state according to the following rules:\n",
    "\n",
    "    If a cube is active and exactly 2 or 3 of its neighbors are also active, the cube remains active. Otherwise, the cube becomes inactive.\n",
    "    If a cube is inactive but exactly 3 of its neighbors are active, the cube becomes active. Otherwise, the cube remains inactive.\n",
    "\n",
    "The engineers responsible for this experimental energy source would like you to simulate the pocket dimension and determine what the configuration of cubes should be at the end of the six-cycle boot process.\n",
    "\n",
    "For example, consider the following initial state:\n",
    "\n",
    ".#.\n",
    "..#\n",
    "###\n",
    "\n",
    "Even though the pocket dimension is 3-dimensional, this initial state represents a small 2-dimensional slice of it. (In particular, this initial state defines a 3x3x1 region of the 3-dimensional space.)\n",
    "\n",
    "Simulating a few cycles from this initial state produces the following configurations, where the result of each cycle is shown layer-by-layer at each given z coordinate (and the frame of view follows the active cells in each cycle):\n",
    "\n",
    "Before any cycles:\n",
    "\n",
    "z=0\n",
    ".#.\n",
    "..#\n",
    "###\n",
    "\n",
    "\n",
    "After 1 cycle:\n",
    "\n",
    "z=-1\n",
    "#..\n",
    "..#\n",
    ".#.\n",
    "\n",
    "z=0\n",
    "#.#\n",
    ".##\n",
    ".#.\n",
    "\n",
    "z=1\n",
    "#..\n",
    "..#\n",
    ".#.\n",
    "\n",
    "\n",
    "After 2 cycles:\n",
    "\n",
    "z=-2\n",
    ".....\n",
    ".....\n",
    "..#..\n",
    ".....\n",
    ".....\n",
    "\n",
    "z=-1\n",
    "..#..\n",
    ".#..#\n",
    "....#\n",
    ".#...\n",
    ".....\n",
    "\n",
    "z=0\n",
    "##...\n",
    "##...\n",
    "#....\n",
    "....#\n",
    ".###.\n",
    "\n",
    "z=1\n",
    "..#..\n",
    ".#..#\n",
    "....#\n",
    ".#...\n",
    ".....\n",
    "\n",
    "z=2\n",
    ".....\n",
    ".....\n",
    "..#..\n",
    ".....\n",
    ".....\n",
    "\n",
    "\n",
    "After 3 cycles:\n",
    "\n",
    "z=-2\n",
    ".......\n",
    ".......\n",
    "..##...\n",
    "..###..\n",
    ".......\n",
    ".......\n",
    ".......\n",
    "\n",
    "z=-1\n",
    "..#....\n",
    "...#...\n",
    "#......\n",
    ".....##\n",
    ".#...#.\n",
    "..#.#..\n",
    "...#...\n",
    "\n",
    "z=0\n",
    "...#...\n",
    ".......\n",
    "#......\n",
    ".......\n",
    ".....##\n",
    ".##.#..\n",
    "...#...\n",
    "\n",
    "z=1\n",
    "..#....\n",
    "...#...\n",
    "#......\n",
    ".....##\n",
    ".#...#.\n",
    "..#.#..\n",
    "...#...\n",
    "\n",
    "z=2\n",
    ".......\n",
    ".......\n",
    "..##...\n",
    "..###..\n",
    ".......\n",
    ".......\n",
    ".......\n",
    "\n",
    "After the full six-cycle boot process completes, 112 cubes are left in the active state.\n",
    "\n",
    "Starting with your given initial configuration, simulate six cycles. How many cubes are left in the active state after the sixth cycle?"
   ]
  },
  {
   "cell_type": "code",
   "execution_count": 2,
   "metadata": {},
   "outputs": [],
   "source": [
    "puzzle_input = []\n",
    "\n",
    "with open('puzzle_input') as infile:\n",
    "    for line in infile: \n",
    "        puzzle_input.append(line.rstrip('\\n'))"
   ]
  },
  {
   "cell_type": "code",
   "execution_count": 1,
   "metadata": {},
   "outputs": [],
   "source": [
    "sample_puzzle_input = [\n",
    "'.#.',\n",
    "'..#',\n",
    "'###'\n",
    "]"
   ]
  },
  {
   "cell_type": "code",
   "execution_count": 8,
   "metadata": {},
   "outputs": [],
   "source": [
    "# convert the input to a dictionary of coordinate tuples and states\n",
    "\n",
    "def parse_puzzle_input(puzzle_input):\n",
    "    \n",
    "    state_dict = {}\n",
    "    \n",
    "    # co-ordinates should be in the form (x, y, z). Input is on z=0 plane. \n",
    "    # e.g. \n",
    "    # (0, 0, 0), (0, 1, 0), (0, 2, 0),\n",
    "    # (1, 0, 0), (1, 1, 0), (1, 2, 0),\n",
    "    # (2, 0, 0), (2, 1, 0), (2, 2, 0),\n",
    "    \n",
    "    for x, row in enumerate(puzzle_input):\n",
    "        \n",
    "        for y, state in enumerate(row):\n",
    "            \n",
    "            state_dict[(x, y, 0)] = state\n",
    "            \n",
    "    return state_dict"
   ]
  },
  {
   "cell_type": "code",
   "execution_count": 4,
   "metadata": {},
   "outputs": [
    {
     "data": {
      "text/plain": [
       "{(0, 0, 0): '.',\n",
       " (0, 1, 0): '#',\n",
       " (0, 2, 0): '.',\n",
       " (1, 0, 0): '.',\n",
       " (1, 1, 0): '.',\n",
       " (1, 2, 0): '#',\n",
       " (2, 0, 0): '#',\n",
       " (2, 1, 0): '#',\n",
       " (2, 2, 0): '#'}"
      ]
     },
     "execution_count": 4,
     "metadata": {},
     "output_type": "execute_result"
    }
   ],
   "source": [
    "parse_puzzle_input(sample_puzzle_input)"
   ]
  },
  {
   "cell_type": "code",
   "execution_count": 45,
   "metadata": {},
   "outputs": [
    {
     "name": "stdout",
     "output_type": "stream",
     "text": [
      "[(-1, -1, -1), (-1, -1, 0), (-1, -1, 1), (-1, 0, -1), (-1, 0, 0), (-1, 0, 1), (-1, 1, -1), (-1, 1, 0), (-1, 1, 1), (0, -1, -1), (0, -1, 0), (0, -1, 1), (0, 0, -1), (0, 0, 1), (0, 1, -1), (0, 1, 0), (0, 1, 1), (1, -1, -1), (1, -1, 0), (1, -1, 1), (1, 0, -1), (1, 0, 0), (1, 0, 1), (1, 1, -1), (1, 1, 0), (1, 1, 1)]\n"
     ]
    }
   ],
   "source": [
    "from itertools import product\n",
    "\n",
    "\n",
    "# neighbour_variations = [i for i in product([-1, 0, 1],repeat=3)]\n",
    "# x.remove((0, 0, 0))\n",
    "\n",
    "neighbour_variations = []\n",
    "for i in product([-1, 0, 1],repeat=3):\n",
    "    neighbour_variations.append(i)\n",
    "neighbour_variations.remove((0,0,0))\n",
    "    \n",
    "print(neighbour_variations)"
   ]
  },
  {
   "cell_type": "code",
   "execution_count": 49,
   "metadata": {},
   "outputs": [
    {
     "data": {
      "text/plain": [
       "26"
      ]
     },
     "execution_count": 49,
     "metadata": {},
     "output_type": "execute_result"
    }
   ],
   "source": [
    "len([i for i in product([-1, 0, 1],repeat=3) if i != (0, 0, 0)])"
   ]
  },
  {
   "cell_type": "code",
   "execution_count": 31,
   "metadata": {},
   "outputs": [
    {
     "data": {
      "text/plain": [
       "[(0, 0, 0),\n",
       " (0, 0, 1),\n",
       " (0, 0, 2),\n",
       " (0, 1, 1),\n",
       " (0, 1, 2),\n",
       " (0, 2, 2),\n",
       " (1, 1, 2),\n",
       " (1, 2, 2),\n",
       " (2, 2, 2)]"
      ]
     },
     "execution_count": 31,
     "metadata": {},
     "output_type": "execute_result"
    }
   ],
   "source": [
    "import operator\n",
    "\n",
    "new_list = []\n",
    "for i in x:\n",
    "    new_list.append(tuple(map(operator.add, (1, 1, 1), i)))\n",
    "new_list"
   ]
  },
  {
   "cell_type": "code",
   "execution_count": 50,
   "metadata": {},
   "outputs": [],
   "source": [
    "# create a function that finds a list of the coordinates of a cube's neighbours\n",
    "\n",
    "\n",
    "\n",
    "def find_neighbour_coordinates(coordinate_tuple, neighbour_variations = [\n",
    "    i for i in product([-1, 0, 1],repeat=3) if i != (0, 0, 0)\n",
    "                                                                        ]\n",
    "):\n",
    "    \n",
    "    neighbour_list = []\n",
    "    for i in neighbour_variations:\n",
    "        neighbour_list.append(tuple(map(operator.add, (1, 1, 1), i)))\n",
    "    \n",
    "    return neighbour_list"
   ]
  },
  {
   "cell_type": "code",
   "execution_count": 51,
   "metadata": {},
   "outputs": [
    {
     "data": {
      "text/plain": [
       "[(0, 0, 0),\n",
       " (0, 0, 1),\n",
       " (0, 0, 2),\n",
       " (0, 1, 0),\n",
       " (0, 1, 1),\n",
       " (0, 1, 2),\n",
       " (0, 2, 0),\n",
       " (0, 2, 1),\n",
       " (0, 2, 2),\n",
       " (1, 0, 0),\n",
       " (1, 0, 1),\n",
       " (1, 0, 2),\n",
       " (1, 1, 0),\n",
       " (1, 1, 2),\n",
       " (1, 2, 0),\n",
       " (1, 2, 1),\n",
       " (1, 2, 2),\n",
       " (2, 0, 0),\n",
       " (2, 0, 1),\n",
       " (2, 0, 2),\n",
       " (2, 1, 0),\n",
       " (2, 1, 1),\n",
       " (2, 1, 2),\n",
       " (2, 2, 0),\n",
       " (2, 2, 1),\n",
       " (2, 2, 2)]"
      ]
     },
     "execution_count": 51,
     "metadata": {},
     "output_type": "execute_result"
    }
   ],
   "source": [
    "find_neighbour_coordinates((0, 1, 2))"
   ]
  },
  {
   "cell_type": "code",
   "execution_count": 16,
   "metadata": {},
   "outputs": [],
   "source": [
    "# create a function that counts how many neighbouring cubes are active\n",
    "# and also adds checked cubes to the dictionary\n",
    "\n",
    "import copy\n",
    "\n",
    "def count_active_neighbours(coordinate_tuple, state_dictionary):\n",
    "    \n",
    "    updated_state_dictionary = copy.deepcopy(state_dictionary)\n",
    "    \n",
    "    neighbour_list = find_neighbour_coordinates(coordinate_tuple)\n",
    "    \n",
    "    active_neighbour_counter = 0\n",
    "    \n",
    "    for neighbour in neighbour_list:\n",
    "        \n",
    "        # if the neighbour isn't in the dictionary, add it as inactive\n",
    "        if neighbour not in state_dictionary:\n",
    "            \n",
    "            updated_state_dictionary[neighbour] = '.'\n",
    "            \n",
    "        elif state_dictionary[neighbour] == '#':\n",
    "            \n",
    "            active_neighbour_counter += 1\n",
    "            \n",
    "    return active_neighbour_counter, updated_state_dictionary"
   ]
  },
  {
   "cell_type": "code",
   "execution_count": 17,
   "metadata": {},
   "outputs": [],
   "source": [
    "# now we need a function that updates the dictionary after each 'cycle'\n",
    "\n",
    "def update_state_dictionary(state_dictionary):\n",
    "    \n",
    "    # copy the dictionary. changes need to be simultaneous so we need an old version and a new version.\n",
    "    # the switcheroo can happen afterwards. \n",
    "    updated_state_dictionary = copy.deepcopy(state_dictionary)\n",
    "    \n",
    "    for coordinate_tuple in state_dictionary:\n",
    "        \n",
    "        active_neighbour_counter, updated_state_dictionary = count_active_neighbours(coordinate_tuple, state_dictionary)\n",
    "        \n",
    "        # if the cube is active and the number of active neighbours is NOT 2 or 3, it becomes inactive\n",
    "        if state_dictionary[coordinate_tuple] == '#' and not (2 <= active_neighbour_counter <= 3):\n",
    "            \n",
    "            updated_state_dictionary[coordinate_tuple] = '.'\n",
    "            \n",
    "        # if the cube is inactive and the number of active neihbours is EXACTLY 3, it becomes active\n",
    "        elif state_dictionary[coordinate_tuple] == '.' and active_neighbour_counter == 3:\n",
    "            \n",
    "            updated_state_dictionary[coordinate_tuple] = '#'\n",
    "            \n",
    "    return updated_state_dictionary\n",
    "            \n",
    "        "
   ]
  },
  {
   "cell_type": "code",
   "execution_count": 53,
   "metadata": {},
   "outputs": [
    {
     "data": {
      "text/plain": [
       "{(0, 0, 0): '.',\n",
       " (0, 1, 0): '#',\n",
       " (0, 2, 0): '.',\n",
       " (1, 0, 0): '.',\n",
       " (1, 1, 0): '.',\n",
       " (1, 2, 0): '#',\n",
       " (2, 0, 0): '#',\n",
       " (2, 1, 0): '#',\n",
       " (2, 2, 0): '#'}"
      ]
     },
     "execution_count": 53,
     "metadata": {},
     "output_type": "execute_result"
    }
   ],
   "source": [
    "parse_puzzle_input(sample_puzzle_input)"
   ]
  },
  {
   "cell_type": "code",
   "execution_count": 52,
   "metadata": {},
   "outputs": [
    {
     "data": {
      "text/plain": [
       "{(0, 0, 0): '.',\n",
       " (0, 1, 0): '#',\n",
       " (0, 2, 0): '.',\n",
       " (1, 0, 0): '.',\n",
       " (1, 1, 0): '.',\n",
       " (1, 2, 0): '#',\n",
       " (2, 0, 0): '#',\n",
       " (2, 1, 0): '#',\n",
       " (2, 2, 0): '.',\n",
       " (0, 0, 1): '.',\n",
       " (0, 0, 2): '.',\n",
       " (0, 1, 1): '.',\n",
       " (0, 1, 2): '.',\n",
       " (0, 2, 1): '.',\n",
       " (0, 2, 2): '.',\n",
       " (1, 0, 1): '.',\n",
       " (1, 0, 2): '.',\n",
       " (1, 1, 2): '.',\n",
       " (1, 2, 1): '.',\n",
       " (1, 2, 2): '.',\n",
       " (2, 0, 1): '.',\n",
       " (2, 0, 2): '.',\n",
       " (2, 1, 1): '.',\n",
       " (2, 1, 2): '.',\n",
       " (2, 2, 1): '.',\n",
       " (2, 2, 2): '.'}"
      ]
     },
     "execution_count": 52,
     "metadata": {},
     "output_type": "execute_result"
    }
   ],
   "source": [
    "# this isn't working...\n",
    "\n",
    "update_state_dictionary(parse_puzzle_input(sample_puzzle_input))"
   ]
  },
  {
   "cell_type": "code",
   "execution_count": null,
   "metadata": {},
   "outputs": [],
   "source": []
  }
 ],
 "metadata": {
  "kernelspec": {
   "display_name": "Python 3",
   "language": "python",
   "name": "python3"
  },
  "language_info": {
   "codemirror_mode": {
    "name": "ipython",
    "version": 3
   },
   "file_extension": ".py",
   "mimetype": "text/x-python",
   "name": "python",
   "nbconvert_exporter": "python",
   "pygments_lexer": "ipython3",
   "version": "3.7.3"
  }
 },
 "nbformat": 4,
 "nbformat_minor": 2
}
