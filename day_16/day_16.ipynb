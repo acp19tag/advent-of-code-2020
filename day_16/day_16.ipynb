{
 "cells": [
  {
   "cell_type": "markdown",
   "metadata": {},
   "source": [
    "Instructions: \n",
    "\n",
    "--- Day 16: Ticket Translation ---\n",
    "\n",
    "As you're walking to yet another connecting flight, you realize that one of the legs of your re-routed trip coming up is on a high-speed train. However, the train ticket you were given is in a language you don't understand. You should probably figure out what it says before you get to the train station after the next flight.\n",
    "\n",
    "Unfortunately, you can't actually read the words on the ticket. You can, however, read the numbers, and so you figure out the fields these tickets must have and the valid ranges for values in those fields.\n",
    "\n",
    "You collect the rules for ticket fields, the numbers on your ticket, and the numbers on other nearby tickets for the same train service (via the airport security cameras) together into a single document you can reference (your puzzle input).\n",
    "\n",
    "The rules for ticket fields specify a list of fields that exist somewhere on the ticket and the valid ranges of values for each field. For example, a rule like class: 1-3 or 5-7 means that one of the fields in every ticket is named class and can be any value in the ranges 1-3 or 5-7 (inclusive, such that 3 and 5 are both valid in this field, but 4 is not).\n",
    "\n",
    "Each ticket is represented by a single line of comma-separated values. The values are the numbers on the ticket in the order they appear; every ticket has the same format. For example, consider this ticket:\n",
    "\n",
    ".--------------------------------------------------------.\n",
    "| ????: 101    ?????: 102   ??????????: 103     ???: 104 |\n",
    "|                                                        |\n",
    "| ??: 301  ??: 302             ???????: 303      ??????? |\n",
    "| ??: 401  ??: 402           ???? ????: 403    ????????? |\n",
    "'--------------------------------------------------------'\n",
    "\n",
    "Here, ? represents text in a language you don't understand. This ticket might be represented as 101,102,103,104,301,302,303,401,402,403; of course, the actual train tickets you're looking at are much more complicated. In any case, you've extracted just the numbers in such a way that the first number is always the same specific field, the second number is always a different specific field, and so on - you just don't know what each position actually means!\n",
    "\n",
    "Start by determining which tickets are completely invalid; these are tickets that contain values which aren't valid for any field. Ignore your ticket for now.\n",
    "\n",
    "For example, suppose you have the following notes:\n",
    "\n",
    "class: 1-3 or 5-7\n",
    "row: 6-11 or 33-44\n",
    "seat: 13-40 or 45-50\n",
    "\n",
    "your ticket:\n",
    "7,1,14\n",
    "\n",
    "nearby tickets:\n",
    "7,3,47\n",
    "40,4,50\n",
    "55,2,20\n",
    "38,6,12\n",
    "\n",
    "It doesn't matter which position corresponds to which field; you can identify invalid nearby tickets by considering only whether tickets contain values that are not valid for any field. In this example, the values on the first nearby ticket are all valid for at least one field. This is not true of the other three nearby tickets: the values 4, 55, and 12 are are not valid for any field. Adding together all of the invalid values produces your ticket scanning error rate: 4 + 55 + 12 = 71.\n",
    "\n",
    "Consider the validity of the nearby tickets you scanned. What is your ticket scanning error rate?\n"
   ]
  },
  {
   "cell_type": "code",
   "execution_count": 1,
   "metadata": {},
   "outputs": [],
   "source": [
    "puzzle_input = []\n",
    "\n",
    "with open('puzzle_input') as infile:\n",
    "    for line in infile: \n",
    "        puzzle_input.append(line.rstrip('\\n'))"
   ]
  },
  {
   "cell_type": "code",
   "execution_count": 2,
   "metadata": {},
   "outputs": [],
   "source": [
    "sample_puzzle_input = [\n",
    "'class: 1-3 or 5-7',\n",
    "'row: 6-11 or 33-44',\n",
    "'seat: 13-40 or 45-50',\n",
    "'',\n",
    "'your ticket:',\n",
    "'7,1,14',\n",
    "'',\n",
    "'nearby tickets:',\n",
    "'7,3,47',\n",
    "'40,4,50',\n",
    "'55,2,20',\n",
    "'38,6,12',\n",
    "''\n",
    "]"
   ]
  },
  {
   "cell_type": "code",
   "execution_count": 3,
   "metadata": {},
   "outputs": [],
   "source": [
    "blank_indices = [index + 1 for index, text in enumerate(sample_puzzle_input) if text == \"\"]"
   ]
  },
  {
   "cell_type": "code",
   "execution_count": 4,
   "metadata": {},
   "outputs": [],
   "source": [
    "input_length = len(sample_puzzle_input)"
   ]
  },
  {
   "cell_type": "code",
   "execution_count": 5,
   "metadata": {},
   "outputs": [],
   "source": [
    "split_puzzle_input = [sample_puzzle_input[i: j] for i, j in zip([0] + blank_indices, blank_indices + ([input_length] if blank_indices[-1] != input_length else []))]"
   ]
  },
  {
   "cell_type": "code",
   "execution_count": 6,
   "metadata": {},
   "outputs": [],
   "source": [
    "a, b, c = split_puzzle_input"
   ]
  },
  {
   "cell_type": "code",
   "execution_count": 7,
   "metadata": {},
   "outputs": [
    {
     "data": {
      "text/plain": [
       "['class: 1-3 or 5-7', 'row: 6-11 or 33-44', 'seat: 13-40 or 45-50', '']"
      ]
     },
     "execution_count": 7,
     "metadata": {},
     "output_type": "execute_result"
    }
   ],
   "source": [
    "a"
   ]
  },
  {
   "cell_type": "code",
   "execution_count": 8,
   "metadata": {},
   "outputs": [],
   "source": [
    "import re\n",
    "\n",
    "def reformat_puzzle_input(puzzle_input):\n",
    "    \n",
    "    # the output format is a dictionary with keys 'field_rules', 'my_ticket', and 'nearby_tickets'\n",
    "    output_dict = {\n",
    "        'field_rules':{},\n",
    "        'my_ticket':[],\n",
    "        'nearby_tickets':[]        \n",
    "    }\n",
    "    \n",
    "    # find the list indices where there is a line break - these separate the sections\n",
    "    blank_indices = [index + 1 for index, text in enumerate(puzzle_input) if text == \"\"]\n",
    "    \n",
    "    # split into three sublists - field restrictions, your ticket, and nearby tickets\n",
    "    field_rules, my_ticket, nearby_tickets  = [puzzle_input[i: j] for i, j in zip([0] + blank_indices, \\\n",
    "                                                blank_indices + ([len(puzzle_input)] if blank_indices[-1] != len(puzzle_input) else []))]\n",
    "    \n",
    "    # starting with field_rules\n",
    "    \n",
    "    for rule in field_rules:\n",
    "        \n",
    "        if len(rule): # gets rid of the blank element\n",
    "            \n",
    "            field_rule_match = re.match(\"(.*): (\\d*)-(\\d*) or (\\d*)-(\\d*)\", rule)\n",
    "            \n",
    "            class_name = field_rule_match.group(1)\n",
    "            lower_bound_1, upper_bound_1 = int(field_rule_match.group(2)), int(field_rule_match.group(3))\n",
    "            lower_bound_2, upper_bound_2 = int(field_rule_match.group(4)), int(field_rule_match.group(5))\n",
    "            \n",
    "            output_dict['field_rules'][class_name] = [(lower_bound_1, upper_bound_1),(lower_bound_2,upper_bound_2)]\n",
    "            \n",
    "    # next up, my_ticket\n",
    "    \n",
    "    output_dict['my_ticket'] = [int(value) for value in my_ticket[1].split(',')]\n",
    "    \n",
    "    # finally, nearby tickets\n",
    "    \n",
    "    for nearby_ticket in nearby_tickets[1:]: # [1:] to get rid of the 'nearby tickets' text element\n",
    "        \n",
    "        if len(nearby_ticket): # gets rid of the blank element\n",
    "        \n",
    "            output_dict['nearby_tickets'].append([int(value) for value in nearby_ticket.split(',')])\n",
    "            \n",
    "    return output_dict"
   ]
  },
  {
   "cell_type": "code",
   "execution_count": 9,
   "metadata": {},
   "outputs": [
    {
     "data": {
      "text/plain": [
       "{'field_rules': {'class': [(1, 3), (5, 7)],\n",
       "  'row': [(6, 11), (33, 44)],\n",
       "  'seat': [(13, 40), (45, 50)]},\n",
       " 'my_ticket': [7, 1, 14],\n",
       " 'nearby_tickets': [[7, 3, 47], [40, 4, 50], [55, 2, 20], [38, 6, 12]]}"
      ]
     },
     "execution_count": 9,
     "metadata": {},
     "output_type": "execute_result"
    }
   ],
   "source": [
    "reformat_puzzle_input(sample_puzzle_input)"
   ]
  },
  {
   "cell_type": "code",
   "execution_count": 10,
   "metadata": {},
   "outputs": [],
   "source": [
    "def return_value_if_invalid(value, field_rules):\n",
    "    \n",
    "    invalid = True\n",
    "    \n",
    "    for field in field_rules:\n",
    "        \n",
    "        for lower_bound, upper_bound in field_rules[field]:\n",
    "            \n",
    "            if lower_bound <= value <= upper_bound:\n",
    "                \n",
    "                invalid = False\n",
    "                break\n",
    "                \n",
    "    if invalid: \n",
    "        \n",
    "        return value\n",
    "    \n",
    "    # SPECIAL WORKAROUND (NOT A GOOD IDEA BUT NEEDS A FIX) - SOME VALUES ARE INVALID BECAUSE THEY ARE EQUAL TO ZERO\n",
    "    elif value == 0:\n",
    "        \n",
    "        return 999\n",
    "    \n",
    "    else: \n",
    "        \n",
    "        return 0"
   ]
  },
  {
   "cell_type": "code",
   "execution_count": 11,
   "metadata": {},
   "outputs": [],
   "source": [
    "def part_1_answer(puzzle_input):\n",
    "    \n",
    "    reformatted_puzzle_input = reformat_puzzle_input(puzzle_input)\n",
    "    \n",
    "    ticket_scanning_error_rate = 0\n",
    "    \n",
    "    for nearby_ticket in reformatted_puzzle_input['nearby_tickets']:\n",
    "        \n",
    "        for value in nearby_ticket:\n",
    "            \n",
    "            ticket_scanning_error_rate += return_value_if_invalid(value, reformatted_puzzle_input['field_rules'])\n",
    "            \n",
    "    return ticket_scanning_error_rate"
   ]
  },
  {
   "cell_type": "code",
   "execution_count": 12,
   "metadata": {},
   "outputs": [
    {
     "data": {
      "text/plain": [
       "71"
      ]
     },
     "execution_count": 12,
     "metadata": {},
     "output_type": "execute_result"
    }
   ],
   "source": [
    "part_1_answer(sample_puzzle_input)"
   ]
  },
  {
   "cell_type": "code",
   "execution_count": 13,
   "metadata": {},
   "outputs": [
    {
     "data": {
      "text/plain": [
       "21996"
      ]
     },
     "execution_count": 13,
     "metadata": {},
     "output_type": "execute_result"
    }
   ],
   "source": [
    "part_1_answer(puzzle_input)"
   ]
  },
  {
   "cell_type": "markdown",
   "metadata": {},
   "source": [
    "--- Part Two ---\n",
    "\n",
    "Now that you've identified which tickets contain invalid values, discard those tickets entirely. Use the remaining valid tickets to determine which field is which.\n",
    "\n",
    "Using the valid ranges for each field, determine what order the fields appear on the tickets. The order is consistent between all tickets: if seat is the third field, it is the third field on every ticket, including your ticket.\n",
    "\n",
    "For example, suppose you have the following notes:\n",
    "\n",
    "class: 0-1 or 4-19\n",
    "row: 0-5 or 8-19\n",
    "seat: 0-13 or 16-19\n",
    "\n",
    "your ticket:\n",
    "11,12,13\n",
    "\n",
    "nearby tickets:\n",
    "3,9,18\n",
    "15,1,5\n",
    "5,14,9\n",
    "\n",
    "Based on the nearby tickets in the above example, the first position must be row, the second position must be class, and the third position must be seat; you can conclude that in your ticket, class is 12, row is 11, and seat is 13.\n",
    "\n",
    "Once you work out which field is which, look for the six fields on your ticket that start with the word departure. What do you get if you multiply those six values together?\n"
   ]
  },
  {
   "cell_type": "code",
   "execution_count": 14,
   "metadata": {},
   "outputs": [],
   "source": [
    "# start by creating a function for removing the invalid tickets\n",
    "\n",
    "def remove_invalid_tickets(nearby_tickets, field_rules):\n",
    "    \n",
    "    valid_ticket_list = []\n",
    "    \n",
    "    for nearby_ticket in nearby_tickets:\n",
    "        \n",
    "        count_if_invalid = 0\n",
    "        \n",
    "        for value in nearby_ticket: \n",
    "            \n",
    "            count_if_invalid += return_value_if_invalid(value, field_rules)\n",
    "            \n",
    "        if not count_if_invalid:\n",
    "            \n",
    "            valid_ticket_list.append(nearby_ticket)\n",
    "            \n",
    "    return valid_ticket_list"
   ]
  },
  {
   "cell_type": "code",
   "execution_count": 15,
   "metadata": {},
   "outputs": [],
   "source": [
    "# then, a function that restructures nearby tickets by row\n",
    "\n",
    "def restructure_tickets_by_row(nearby_tickets):\n",
    "    \n",
    "#     number_of_rows = len(nearby_tickets[0])\n",
    "\n",
    "    output_dict = {}\n",
    "    \n",
    "    for nearby_ticket in nearby_tickets:\n",
    "    \n",
    "        for row_index, value in enumerate(nearby_ticket):\n",
    "            \n",
    "            if row_index not in output_dict: # if it's not there, create a new list, else append to existing list\n",
    "                \n",
    "                output_dict[row_index] = [value]\n",
    "                \n",
    "            else:\n",
    "                \n",
    "                output_dict[row_index].append(value)\n",
    "                \n",
    "    return output_dict      \n",
    "        "
   ]
  },
  {
   "cell_type": "code",
   "execution_count": 16,
   "metadata": {},
   "outputs": [],
   "source": [
    "sample_puzzle_input_2 = [\n",
    "'class: 0-1 or 4-19',\n",
    "'row: 0-5 or 8-19',\n",
    "'seat: 0-13 or 16-19',\n",
    "'',\n",
    "'your ticket:',\n",
    "'11,12,13',\n",
    "'',\n",
    "'nearby tickets:',\n",
    "'3,9,18',\n",
    "'15,1,5',\n",
    "'5,14,9'\n",
    "]"
   ]
  },
  {
   "cell_type": "code",
   "execution_count": 17,
   "metadata": {},
   "outputs": [],
   "source": [
    "# after restructuring the tickets by row, we need to find the list of possible fields for each row index\n",
    "\n",
    "def find_possible_fields(nearby_tickets, field_rules):\n",
    "\n",
    "    # output is a dictionary; keys are row indices, values are lists of possible fields\n",
    "    output_dict = nearby_tickets.copy()\n",
    "    for key in output_dict:\n",
    "        output_dict[key] = []\n",
    "\n",
    "    #iterate through the field rules\n",
    "    for rule in field_rules:\n",
    "        \n",
    "#         print(rule)\n",
    "        \n",
    "        # iterate through the row indices\n",
    "        for row_index in nearby_tickets:\n",
    "            \n",
    "            value_validity_list = []\n",
    "\n",
    "            # if ALL values are valid, then we can append that class as a potential\n",
    "            for value in nearby_tickets[row_index]:\n",
    "                \n",
    "                value_is_valid = False\n",
    "                \n",
    "                for lower_bound, upper_bound in field_rules[rule]:\n",
    "                    \n",
    "                    if lower_bound <= value <= upper_bound:\n",
    "                        \n",
    "                        value_is_valid = True\n",
    "                        \n",
    "                value_validity_list.append(value_is_valid)\n",
    "            \n",
    "            if all(value_validity_list):\n",
    "                \n",
    "                output_dict[row_index].append(rule)\n",
    "                \n",
    "    return output_dict\n",
    "            \n",
    "            # check the value "
   ]
  },
  {
   "cell_type": "code",
   "execution_count": 18,
   "metadata": {},
   "outputs": [],
   "source": [
    "# create a function that can solve which field is which based on possible field lists\n",
    "def field_solver(possible_fields):\n",
    "    \n",
    "    # output will be a dictionary row indices as keys and the correct fields as values\n",
    "    output_dict = {}\n",
    "    \n",
    "    # when a field is assigned, it is put in a set\n",
    "    solved_fields = set()\n",
    "    \n",
    "    # find the order to tick through row indices, in increasing number of possible fields\n",
    "    sorted_row_indices = {}\n",
    "    for key in possible_fields:\n",
    "        sorted_row_indices[key] = len(possible_fields[key])\n",
    "        \n",
    "    sorted_row_indices = {k: v for k, v in sorted(sorted_row_indices.items(), key = lambda item: item[1])}\n",
    "    \n",
    "    for row_index in sorted_row_indices:\n",
    "        \n",
    "        # this probably isn't right, but let's hope for the best\n",
    "        for field in possible_fields[row_index]:\n",
    "            \n",
    "            if field not in solved_fields:\n",
    "                \n",
    "                output_dict[row_index] = field\n",
    "                \n",
    "                print(f'before: {solved_fields}')\n",
    "                solved_fields.add(field)\n",
    "                print(f'after: {solved_fields}')\n",
    "                print()\n",
    "                \n",
    "                break\n",
    "    \n",
    "    return output_dict"
   ]
  },
  {
   "cell_type": "code",
   "execution_count": 23,
   "metadata": {},
   "outputs": [],
   "source": [
    "def find_ticket_fields(puzzle_input):\n",
    "    \n",
    "    reformatted_puzzle_input = reformat_puzzle_input(puzzle_input)\n",
    "    \n",
    "    field_rules = reformatted_puzzle_input['field_rules']\n",
    "    nearby_tickets = reformatted_puzzle_input['nearby_tickets']\n",
    "    my_ticket = reformatted_puzzle_input['my_ticket']\n",
    "    \n",
    "    \n",
    "    # remove invalid\n",
    "    nearby_tickets = remove_invalid_tickets(nearby_tickets, field_rules)\n",
    "    \n",
    "    print(nearby_tickets)\n",
    "    print()\n",
    "    \n",
    "    # restructure by row\n",
    "    nearby_tickets = restructure_tickets_by_row(nearby_tickets)\n",
    "    \n",
    "    print(nearby_tickets)\n",
    "    print()\n",
    "    \n",
    "    # find possible fields\n",
    "    possible_fields = find_possible_fields(nearby_tickets, field_rules)\n",
    "    \n",
    "    print(possible_fields)\n",
    "    \n",
    "    # solve\n",
    "    solved_fields = field_solver(possible_fields)\n",
    "    \n",
    "    return my_ticket, solved_fields"
   ]
  },
  {
   "cell_type": "code",
   "execution_count": 24,
   "metadata": {},
   "outputs": [
    {
     "name": "stdout",
     "output_type": "stream",
     "text": [
      "[[7, 3, 47]]\n",
      "\n",
      "{0: [7], 1: [3], 2: [47]}\n",
      "\n",
      "{0: ['class', 'row'], 1: ['class'], 2: ['seat']}\n",
      "before: set()\n",
      "after: {'class'}\n",
      "\n",
      "before: {'class'}\n",
      "after: {'seat', 'class'}\n",
      "\n",
      "before: {'seat', 'class'}\n",
      "after: {'row', 'seat', 'class'}\n",
      "\n"
     ]
    },
    {
     "data": {
      "text/plain": [
       "([7, 1, 14], {1: 'class', 2: 'seat', 0: 'row'})"
      ]
     },
     "execution_count": 24,
     "metadata": {},
     "output_type": "execute_result"
    }
   ],
   "source": [
    "find_ticket_fields(sample_puzzle_input)"
   ]
  },
  {
   "cell_type": "code",
   "execution_count": 25,
   "metadata": {},
   "outputs": [
    {
     "name": "stdout",
     "output_type": "stream",
     "text": [
      "[[3, 9, 18], [15, 1, 5], [5, 14, 9]]\n",
      "\n",
      "{0: [3, 15, 5], 1: [9, 1, 14], 2: [18, 5, 9]}\n",
      "\n",
      "{0: ['row'], 1: ['class', 'row'], 2: ['class', 'row', 'seat']}\n",
      "before: set()\n",
      "after: {'row'}\n",
      "\n",
      "before: {'row'}\n",
      "after: {'row', 'class'}\n",
      "\n",
      "before: {'row', 'class'}\n",
      "after: {'seat', 'row', 'class'}\n",
      "\n"
     ]
    },
    {
     "data": {
      "text/plain": [
       "([11, 12, 13], {0: 'row', 1: 'class', 2: 'seat'})"
      ]
     },
     "execution_count": 25,
     "metadata": {},
     "output_type": "execute_result"
    }
   ],
   "source": [
    "find_ticket_fields(sample_puzzle_input_2)"
   ]
  },
  {
   "cell_type": "code",
   "execution_count": 26,
   "metadata": {},
   "outputs": [
    {
     "name": "stdout",
     "output_type": "stream",
     "text": [
      "[[949, 764, 551, 379, 767, 144, 556, 835, 638, 591, 653, 872, 198, 825, 690, 527, 260, 396, 873, 333], [613, 812, 756, 258, 341, 765, 91, 551, 859, 379, 447, 842, 148, 501, 293, 766, 93, 532, 939, 406], [438, 52, 529, 556, 672, 115, 570, 633, 820, 770, 603, 837, 260, 251, 723, 621, 381, 182, 494, 431], [948, 673, 202, 330, 552, 258, 406, 184, 177, 239, 774, 185, 638, 386, 834, 608, 835, 636, 805, 92], [573, 643, 267, 378, 178, 821, 442, 141, 872, 826, 565, 626, 667, 860, 405, 610, 407, 688, 705, 695], [818, 724, 446, 459, 145, 373, 859, 346, 702, 441, 446, 753, 320, 426, 664, 177, 619, 712, 739, 342], [607, 499, 226, 80, 719, 682, 556, 486, 346, 221, 597, 936, 573, 84, 760, 671, 395, 413, 454, 768], [743, 504, 830, 195, 413, 698, 93, 375, 565, 695, 947, 636, 602, 681, 436, 265, 614, 604, 632, 706], [463, 353, 944, 569, 175, 535, 616, 452, 141, 621, 84, 335, 302, 275, 550, 438, 173, 617, 843, 645], [685, 400, 777, 752, 839, 86, 180, 754, 231, 450, 342, 341, 440, 57, 271, 202, 494, 591, 223, 707], [838, 147, 937, 451, 96, 265, 488, 345, 334, 871, 767, 450, 340, 576, 816, 335, 143, 445, 339, 379], [502, 566, 121, 743, 99, 909, 876, 265, 204, 799, 566, 387, 672, 102, 713, 559, 773, 770, 571, 609], [428, 712, 575, 759, 708, 272, 629, 862, 569, 856, 402, 82, 424, 837, 336, 643, 841, 944, 603, 436], [423, 937, 320, 374, 801, 942, 490, 257, 646, 724, 558, 507, 198, 601, 713, 719, 667, 260, 585, 948], [404, 679, 328, 916, 688, 615, 345, 688, 556, 146, 452, 306, 89, 742, 808, 141, 816, 85, 938, 457], [180, 335, 648, 810, 119, 202, 393, 268, 921, 177, 92, 462, 605, 615, 248, 599, 394, 303, 269, 599], [941, 261, 695, 643, 381, 830, 753, 705, 84, 694, 305, 61, 556, 256, 599, 653, 388, 566, 626, 759], [148, 340, 708, 139, 625, 680, 713, 695, 583, 356, 182, 457, 458, 95, 841, 496, 591, 347, 392, 670], [534, 434, 615, 686, 348, 621, 832, 275, 380, 667, 811, 590, 389, 585, 528, 652, 862, 617, 778, 535], [81, 653, 435, 681, 584, 455, 261, 928, 121, 863, 263, 807, 599, 593, 691, 320, 495, 329, 879, 380], [739, 632, 692, 639, 702, 94, 274, 910, 707, 758, 196, 934, 490, 189, 169, 333, 807, 396, 448, 719], [590, 588, 570, 617, 910, 928, 304, 663, 531, 470, 203, 505, 277, 669, 841, 593, 668, 693, 338, 671], [938, 259, 221, 406, 579, 390, 619, 327, 824, 601, 502, 529, 573, 912, 930, 396, 940, 139, 501, 819], [633, 326, 149, 590, 618, 581, 583, 195, 755, 678, 746, 717, 527, 326, 557, 775, 330, 518, 807, 192], [335, 430, 937, 298, 266, 258, 331, 551, 747, 644, 575, 120, 373, 629, 652, 583, 777, 131, 804, 941], [577, 644, 678, 146, 396, 443, 94, 488, 670, 691, 260, 931, 834, 755, 577, 395, 420, 94, 57, 664], [660, 574, 799, 666, 748, 858, 393, 603, 120, 391, 561, 138, 631, 578, 463, 344, 382, 747, 699, 102], [676, 866, 348, 927, 187, 452, 615, 943, 52, 752, 749, 707, 699, 615, 840, 563, 653, 271, 844, 223], [573, 453, 587, 838, 260, 802, 768, 303, 382, 817, 429, 486, 586, 184, 502, 156, 486, 486, 816, 203], [433, 285, 809, 588, 756, 504, 121, 598, 265, 273, 666, 769, 799, 405, 218, 189, 221, 191, 681, 712], [775, 704, 877, 81, 597, 529, 579, 699, 527, 662, 652, 456, 801, 863, 94, 335, 679, 820, 415, 714], [714, 306, 176, 652, 492, 446, 325, 580, 647, 149, 554, 708, 504, 327, 624, 245, 702, 506, 843, 756], [564, 434, 116, 585, 801, 617, 764, 860, 376, 185, 639, 698, 863, 620, 753, 253, 253, 182, 93, 491], [174, 57, 400, 298, 350, 799, 139, 603, 686, 586, 601, 663, 527, 248, 560, 613, 838, 742, 698, 225], [335, 275, 260, 293, 142, 266, 611, 685, 400, 840, 337, 584, 276, 770, 698, 191, 665, 668, 685, 50], [706, 97, 296, 848, 85, 63, 600, 191, 120, 490, 905, 776, 581, 435, 265, 530, 602, 61, 596, 646], [327, 663, 656, 436, 773, 760, 255, 609, 655, 452, 439, 490, 254, 939, 327, 815, 600, 235, 507, 811], [334, 58, 143, 417, 630, 455, 454, 390, 327, 339, 906, 494, 739, 188, 260, 842, 298, 740, 680, 662], [398, 346, 388, 443, 680, 563, 666, 666, 438, 764, 559, 926, 909, 948, 437, 72, 493, 809, 397, 381], [176, 272, 305, 197, 346, 610, 179, 253, 506, 413, 174, 506, 647, 689, 338, 570, 873, 929, 317, 820], [553, 946, 409, 562, 258, 398, 187, 429, 819, 104, 909, 571, 534, 266, 739, 258, 643, 60, 601, 379], [678, 905, 187, 870, 253, 184, 489, 414, 690, 184, 175, 741, 197, 626, 388, 204, 612, 637, 219, 259], [821, 387, 760, 379, 635, 251, 51, 911, 54, 543, 710, 808, 453, 873, 746, 326, 258, 306, 411, 764], [502, 393, 59, 176, 760, 326, 106, 378, 96, 573, 344, 174, 652, 294, 650, 703, 402, 297, 185, 52], [757, 615, 389, 650, 749, 630, 560, 257, 269, 822, 412, 740, 759, 941, 59, 835, 522, 462, 494, 531], [570, 764, 174, 296, 499, 867, 277, 700, 820, 380, 663, 718, 756, 462, 496, 564, 562, 698, 265, 147], [500, 680, 271, 610, 396, 820, 250, 827, 87, 768, 671, 906, 706, 865, 300, 560, 815, 691, 745, 907], [385, 346, 945, 504, 411, 291, 566, 530, 677, 685, 95, 659, 393, 692, 683, 822, 553, 640, 753, 204], [492, 821, 178, 186, 488, 140, 411, 739, 135, 582, 445, 776, 222, 699, 656, 633, 879, 807, 591, 428], [635, 931, 935, 304, 84, 634, 416, 670, 611, 773, 64, 821, 570, 389, 504, 671, 927, 773, 333, 906], [807, 626, 617, 932, 187, 402, 581, 640, 693, 551, 458, 583, 444, 126, 695, 711, 221, 327, 835, 947], [639, 76, 742, 603, 424, 219, 754, 458, 257, 350, 186, 805, 193, 764, 390, 627, 749, 342, 433, 439], [629, 704, 941, 304, 637, 860, 661, 388, 139, 404, 945, 647, 573, 840, 886, 149, 667, 382, 399, 747], [62, 673, 949, 391, 765, 184, 305, 528, 101, 192, 708, 275, 561, 649, 606, 527, 687, 315, 197, 633], [433, 419, 644, 531, 626, 534, 300, 263, 265, 257, 618, 303, 631, 194, 675, 684, 694, 669, 861, 721], [692, 764, 408, 248, 459, 176, 691, 179, 252, 618, 685, 456, 431, 119, 948, 334, 104, 433, 581, 85], [333, 341, 627, 766, 620, 263, 720, 118, 690, 914, 641, 204, 189, 722, 197, 912, 612, 65, 930, 906], [711, 387, 815, 619, 202, 592, 613, 221, 765, 403, 715, 939, 844, 715, 537, 204, 176, 683, 656, 746], [91, 927, 559, 933, 197, 406, 641, 658, 391, 199, 339, 272, 383, 932, 829, 196, 739, 755, 720, 430], [864, 603, 696, 455, 752, 374, 703, 98, 508, 119, 756, 331, 758, 396, 600, 258, 842, 191, 350, 526], [633, 121, 659, 428, 179, 562, 715, 821, 404, 260, 587, 760, 570, 707, 711, 566, 570, 642, 824, 560], [947, 709, 610, 646, 665, 593, 278, 755, 556, 606, 189, 679, 403, 377, 677, 84, 392, 108, 638, 651], [262, 424, 498, 429, 623, 385, 496, 138, 696, 693, 258, 454, 273, 868, 533, 834, 257, 100, 459, 99], [817, 56, 51, 544, 631, 258, 101, 384, 841, 906, 637, 681, 772, 189, 305, 181, 200, 608, 839, 932], [184, 920, 382, 142, 342, 530, 612, 431, 196, 710, 101, 704, 398, 862, 612, 377, 173, 876, 218, 757], [811, 800, 437, 212, 756, 425, 584, 616, 384, 119, 839, 334, 934, 600, 534, 178, 86, 624, 532, 711], [665, 296, 52, 621, 320, 434, 570, 506, 687, 908, 905, 714, 185, 683, 758, 617, 644, 82, 95, 716], [656, 685, 176, 452, 385, 195, 375, 87, 814, 290, 52, 683, 413, 456, 457, 656, 143, 634, 174, 659], [756, 765, 269, 251, 263, 616, 715, 637, 760, 454, 533, 489, 52, 251, 418, 306, 202, 838, 180, 198], [877, 557, 220, 115, 249, 774, 63, 97, 348, 119, 940, 444, 486, 616, 926, 82, 256, 585, 619, 772], [758, 337, 98, 360, 296, 453, 739, 807, 390, 634, 497, 820, 381, 179, 349, 714, 676, 256, 765, 60], [50, 619, 639, 941, 571, 66, 267, 454, 561, 379, 143, 452, 554, 393, 759, 149, 148, 875, 397, 640], [274, 523, 275, 683, 384, 620, 94, 811, 79, 839, 776, 589, 507, 194, 430, 331, 95, 606, 631, 88], [165, 121, 84, 575, 201, 409, 82, 800, 401, 52, 301, 493, 325, 691, 503, 336, 555, 774, 706, 251], [576, 119, 938, 333, 462, 449, 339, 382, 266, 808, 145, 763, 459, 810, 910, 342, 640, 199, 617, 520], [408, 762, 183, 409, 763, 59, 333, 932, 323, 59, 560, 703, 306, 856, 269, 652, 298, 98, 488, 587], [344, 948, 221, 749, 835, 316, 779, 860, 56, 205, 723, 712, 553, 346, 721, 305, 494, 338, 186, 819], [184, 773, 66, 619, 554, 807, 120, 437, 774, 645, 272, 89, 710, 378, 659, 403, 253, 533, 396, 715], [610, 579, 565, 758, 336, 817, 690, 406, 289, 724, 618, 200, 188, 486, 529, 488, 841, 582, 101, 671], [200, 653, 645, 875, 527, 382, 348, 424, 909, 810, 186, 426, 60, 682, 90, 83, 121, 595, 116, 834], [416, 277, 175, 662, 688, 698, 437, 586, 777, 425, 533, 858, 222, 60, 140, 719, 493, 558, 695, 768], [863, 268, 739, 653, 512, 779, 437, 248, 300, 451, 195, 874, 436, 772, 332, 589, 183, 746, 94, 756], [621, 97, 575, 770, 327, 803, 659, 397, 346, 907, 720, 862, 770, 436, 520, 694, 445, 691, 810, 553], [436, 642, 811, 221, 758, 406, 362, 442, 501, 374, 684, 53, 660, 146, 205, 383, 677, 597, 430, 201], [926, 439, 650, 266, 578, 486, 189, 819, 539, 760, 872, 560, 910, 589, 821, 605, 694, 142, 762, 180], [499, 436, 417, 535, 718, 674, 698, 174, 696, 96, 440, 490, 304, 199, 406, 559, 185, 328, 573, 685], [92, 803, 711, 603, 721, 185, 450, 676, 809, 132, 569, 427, 596, 248, 745, 498, 574, 388, 879, 667], [253, 339, 295, 805, 61, 620, 140, 376, 332, 712, 94, 841, 528, 621, 686, 756, 307, 610, 255, 533], [580, 750, 665, 742, 935, 591, 405, 643, 195, 295, 592, 773, 455, 545, 449, 347, 701, 912, 143, 380], [280, 669, 596, 815, 346, 497, 740, 493, 596, 767, 675, 248, 817, 222, 860, 457, 938, 435, 121, 120], [144, 631, 771, 437, 616, 745, 668, 604, 142, 862, 550, 324, 570, 345, 124, 622, 93, 59, 619, 79], [393, 442, 549, 374, 222, 447, 601, 753, 373, 455, 440, 582, 751, 435, 596, 691, 187, 686, 179, 347], [298, 616, 59, 623, 447, 51, 909, 755, 71, 709, 701, 406, 697, 373, 875, 754, 573, 332, 754, 767], [709, 201, 430, 81, 608, 688, 939, 496, 569, 260, 711, 935, 943, 304, 87, 617, 744, 165, 487, 626], [294, 446, 946, 700, 392, 880, 758, 687, 656, 751, 395, 407, 266, 443, 61, 629, 820, 458, 434, 179], [413, 630, 657, 637, 328, 614, 574, 741, 687, 445, 413, 777, 202, 244, 200, 682, 506, 644, 348, 806], [575, 712, 119, 720, 695, 920, 679, 300, 488, 583, 933, 410, 555, 762, 90, 192, 138, 252, 556, 95], [813, 457, 628, 648, 696, 403, 382, 806, 338, 183, 344, 146, 799, 315, 497, 401, 328, 63, 747, 198], [622, 652, 329, 198, 710, 442, 178, 754, 817, 744, 675, 819, 815, 922, 764, 659, 934, 582, 61, 302], [392, 533, 619, 311, 299, 593, 707, 876, 331, 714, 590, 447, 690, 753, 463, 914, 526, 822, 698, 655], [665, 754, 602, 614, 646, 594, 550, 619, 560, 393, 428, 747, 634, 271, 274, 339, 627, 826, 909, 585], [942, 809, 614, 568, 815, 344, 514, 779, 927, 580, 564, 909, 347, 838, 403, 752, 618, 566, 530, 443], [87, 631, 934, 841, 613, 249, 691, 97, 336, 886, 270, 613, 634, 692, 669, 257, 558, 399, 306, 93], [930, 717, 669, 275, 189, 258, 703, 272, 602, 718, 530, 331, 218, 660, 271, 834, 653, 836, 408, 421], [383, 804, 698, 441, 417, 403, 940, 858, 700, 875, 770, 198, 714, 435, 569, 486, 487, 177, 80, 949], [202, 142, 864, 348, 426, 537, 204, 615, 681, 676, 933, 178, 816, 396, 175, 769, 423, 766, 879, 593], [592, 309, 804, 638, 197, 759, 426, 577, 441, 409, 928, 571, 800, 506, 275, 768, 689, 333, 932, 937], [509, 607, 248, 556, 575, 424, 435, 942, 490, 678, 563, 677, 374, 295, 629, 666, 252, 337, 578, 745], [827, 754, 62, 747, 686, 627, 671, 98, 708, 686, 407, 599, 835, 205, 805, 534, 741, 201, 384, 189], [97, 188, 330, 948, 374, 251, 633, 639, 434, 777, 913, 529, 679, 605, 76, 625, 550, 939, 762, 445], [859, 675, 304, 473, 427, 261, 640, 196, 647, 350, 686, 58, 202, 908, 912, 174, 447, 590, 275, 401], [372, 748, 687, 696, 381, 201, 569, 676, 147, 516, 338, 428, 394, 148, 391, 338, 819, 766, 707, 585], [769, 449, 505, 602, 814, 644, 272, 945, 773, 424, 444, 811, 417, 709, 100, 862, 596, 628, 450, 346], [426, 228, 424, 384, 257, 681, 383, 639, 554, 551, 701, 942, 95, 100, 842, 396, 909, 609, 626, 622], [397, 589, 766, 277, 459, 819, 85, 807, 295, 488, 449, 399, 339, 532, 378, 420, 144, 750, 841, 145], [683, 626, 645, 75, 265, 267, 773, 550, 595, 604, 328, 747, 262, 647, 201, 590, 201, 906, 932, 445], [225, 384, 397, 667, 843, 411, 673, 56, 120, 697, 220, 623, 376, 101, 305, 185, 807, 698, 637, 599], [676, 637, 860, 718, 698, 193, 71, 187, 684, 335, 596, 340, 673, 81, 860, 630, 877, 340, 948, 273], [837, 836, 437, 872, 220, 502, 375, 643, 328, 490, 0, 662, 267, 648, 222, 344, 399, 555, 944, 946], [121, 717, 463, 643, 406, 261, 391, 646, 181, 641, 336, 651, 86, 275, 494, 607, 353, 84, 384, 434], [449, 692, 80, 752, 778, 675, 496, 940, 934, 98, 189, 552, 679, 629, 110, 277, 192, 399, 696, 739], [190, 589, 432, 913, 606, 839, 121, 82, 358, 384, 701, 760, 618, 927, 838, 912, 139, 937, 326, 328], [935, 276, 427, 859, 504, 758, 716, 753, 276, 935, 672, 457, 937, 800, 192, 356, 101, 679, 699, 757], [249, 830, 752, 560, 801, 199, 594, 722, 875, 637, 99, 579, 740, 762, 58, 710, 149, 657, 218, 605], [935, 949, 653, 453, 949, 930, 802, 501, 768, 275, 905, 500, 177, 217, 298, 768, 423, 655, 187, 568], [770, 435, 844, 907, 402, 186, 706, 433, 532, 656, 696, 837, 688, 774, 218, 826, 575, 324, 441, 874], [680, 679, 223, 459, 803, 100, 300, 577, 636, 751, 383, 879, 404, 621, 646, 306, 827, 400, 413, 808], [694, 622, 82, 566, 187, 944, 390, 431, 433, 659, 837, 937, 345, 513, 504, 179, 306, 324, 610, 601], [660, 456, 823, 760, 914, 52, 773, 272, 251, 815, 412, 683, 266, 819, 119, 111, 683, 593, 487, 426], [913, 537, 624, 602, 584, 928, 630, 862, 275, 179, 803, 913, 928, 805, 530, 388, 445, 593, 629, 294], [111, 668, 811, 864, 632, 261, 929, 306, 451, 665, 503, 439, 88, 817, 570, 874, 838, 555, 304, 349], [692, 263, 255, 192, 739, 621, 768, 262, 318, 373, 459, 487, 680, 704, 799, 583, 428, 447, 705, 834], [306, 406, 813, 692, 107, 89, 177, 597, 711, 223, 408, 862, 628, 603, 582, 176, 142, 83, 248, 657], [395, 566, 620, 663, 335, 557, 385, 599, 341, 810, 459, 706, 805, 873, 305, 875, 262, 418, 613, 553], [840, 563, 100, 626, 823, 186, 600, 668, 945, 314, 323, 442, 99, 705, 684, 638, 859, 564, 669, 583], [714, 334, 464, 911, 406, 196, 683, 931, 62, 301, 98, 743, 450, 416, 182, 860, 197, 840, 634, 599], [774, 948, 146, 893, 944, 775, 339, 655, 120, 176, 650, 277, 712, 707, 81, 140, 377, 573, 487, 630], [685, 697, 143, 167, 668, 773, 946, 423, 859, 766, 266, 696, 375, 580, 264, 640, 615, 807, 148, 302], [584, 124, 649, 752, 220, 202, 449, 935, 97, 189, 64, 762, 927, 432, 432, 714, 80, 914, 426, 188], [836, 176, 180, 839, 740, 420, 54, 946, 934, 149, 384, 603, 743, 564, 678, 662, 720, 377, 461, 821], [443, 837, 385, 124, 374, 267, 555, 746, 459, 823, 935, 586, 180, 659, 632, 662, 660, 934, 530, 949], [940, 874, 96, 101, 801, 227, 948, 553, 589, 744, 698, 656, 272, 278, 276, 626, 337, 452, 764, 702], [430, 558, 528, 533, 618, 710, 321, 277, 761, 937, 277, 205, 914, 405, 765, 779, 435, 306, 119, 624], [176, 843, 763, 380, 908, 190, 931, 769, 327, 491, 333, 463, 89, 172, 838, 349, 809, 675, 505, 632], [437, 764, 275, 681, 911, 752, 634, 340, 621, 55, 491, 400, 555, 751, 143, 385, 575, 552, 551, 357], [749, 179, 843, 429, 61, 669, 426, 709, 624, 74, 264, 333, 631, 934, 808, 196, 200, 944, 526, 176], [368, 195, 441, 183, 251, 699, 705, 802, 295, 770, 762, 819, 254, 203, 669, 578, 298, 600, 89, 660], [376, 178, 807, 375, 628, 691, 685, 299, 683, 333, 824, 447, 506, 305, 779, 778, 62, 874, 182, 303], [536, 744, 502, 769, 182, 299, 184, 344, 803, 619, 504, 86, 769, 638, 811, 836, 745, 597, 614, 626], [451, 430, 651, 761, 60, 844, 118, 591, 776, 165, 451, 573, 772, 839, 96, 652, 878, 807, 676, 930], [526, 589, 622, 768, 773, 259, 304, 262, 261, 54, 249, 555, 426, 865, 120, 520, 54, 706, 430, 323], [97, 844, 261, 260, 633, 739, 761, 805, 179, 178, 566, 754, 330, 911, 311, 58, 698, 101, 276, 741], [564, 379, 453, 342, 193, 676, 99, 278, 443, 278, 325, 257, 487, 744, 299, 538, 606, 335, 438, 761], [740, 97, 612, 392, 272, 264, 724, 252, 117, 708, 818, 562, 810, 675, 196, 372, 749, 454, 499, 560], [219, 140, 563, 457, 455, 326, 608, 755, 720, 680, 56, 412, 459, 687, 925, 98, 183, 802, 841, 740], [322, 81, 594, 687, 52, 61, 427, 173, 626, 673, 863, 945, 174, 594, 200, 688, 770, 876, 768, 553], [815, 611, 595, 454, 441, 681, 526, 297, 942, 301, 447, 426, 100, 755, 191, 645, 203, 374, 276, 77], [86, 385, 659, 621, 584, 684, 51, 816, 347, 499, 603, 488, 396, 67, 432, 342, 687, 816, 94, 260], [437, 778, 345, 504, 574, 862, 609, 843, 667, 251, 704, 84, 258, 457, 647, 429, 875, 743, 814, 833], [676, 672, 942, 197, 505, 390, 568, 719, 931, 947, 276, 120, 824, 188, 594, 808, 563, 876, 775, 909], [762, 752, 940, 230, 341, 118, 623, 404, 716, 120, 768, 101, 834, 176, 755, 486, 141, 184, 577, 767], [721, 676, 437, 454, 391, 303, 810, 220, 191, 178, 937, 190, 56, 714, 455, 299, 82, 368, 802, 740], [60, 462, 575, 865, 250, 172, 931, 347, 53, 54, 813, 81, 295, 452, 561, 937, 776, 81, 705, 669], [670, 772, 676, 945, 432, 522, 347, 489, 620, 680, 749, 194, 384, 637, 201, 613, 605, 630, 562, 529], [99, 599, 660, 263, 304, 431, 427, 101, 323, 863, 426, 462, 83, 649, 243, 385, 497, 759, 777, 93], [433, 608, 512, 425, 329, 530, 602, 945, 173, 875, 638, 494, 770, 670, 940, 836, 262, 702, 659, 873], [453, 391, 428, 348, 907, 687, 462, 324, 941, 381, 613, 204, 395, 896, 946, 381, 779, 810, 841, 705], [930, 534, 204, 753, 934, 846, 569, 682, 745, 934, 403, 906, 272, 677, 719, 776, 754, 534, 556, 173], [486, 809, 755, 763, 441, 396, 689, 415, 385, 490, 145, 304, 271, 204, 375, 344, 800, 92, 872, 694], [489, 425, 688, 573, 743, 564, 295, 652, 257, 707, 267, 173, 758, 365, 739, 265, 684, 527, 860, 655], [299, 646, 180, 52, 697, 721, 766, 574, 151, 762, 376, 182, 407, 196, 80, 873, 188, 329, 248, 448], [431, 381, 779, 393, 223, 575, 408, 858, 616, 415, 85, 707, 749, 264, 489, 390, 597, 779, 185, 937], [457, 168, 219, 54, 90, 119, 744, 332, 52, 862, 941, 818, 554, 703, 820, 464, 742, 554, 331, 914], [295, 720, 375, 80, 928, 551, 683, 567, 418, 341, 685, 632, 711, 98, 218, 811, 622, 583, 487, 382], [804, 113, 92, 442, 296, 669, 390, 218, 691, 263, 492, 643, 80, 669, 501, 329, 566, 803, 191, 879], [805, 609, 749, 808, 563, 141, 612, 724, 266, 666, 678, 491, 566, 687, 940, 338, 704, 544, 528, 501], [556, 879, 356, 876, 607, 183, 577, 811, 344, 586, 616, 767, 622, 865, 859, 497, 429, 580, 776, 254], [130, 276, 393, 927, 190, 455, 908, 329, 676, 818, 572, 204, 760, 801, 146, 946, 205, 95, 579, 139], [423, 862, 374, 93, 685, 844, 101, 811, 461, 81, 617, 175, 643, 287, 271, 179, 180, 101, 595, 774], [256, 89, 407, 563, 759, 665, 844, 563, 932, 91, 406, 597, 685, 389, 658, 348, 81, 295, 251, 309], [189, 743, 376, 86, 333, 394, 593, 773, 562, 589, 668, 646, 565, 477, 669, 196, 581, 297, 652, 98], [931, 752, 461, 705, 394, 128, 764, 569, 297, 932, 450, 665, 59, 440, 694, 710, 753, 627, 559, 388], [775, 631, 390, 87, 772, 654, 561, 145, 401, 917, 175, 912, 693, 64, 766, 606, 590, 427, 701, 688], [594, 740, 203, 748, 461, 294, 822, 642, 96, 610, 907, 805, 647, 582, 359, 719, 632, 377, 748, 943], [65, 561, 677, 645, 495, 99, 223, 592, 596, 402, 385, 746, 328, 392, 583, 336, 487, 684, 304, 935], [613, 195, 929, 818, 823, 808, 265, 63, 498, 686, 583, 97, 88, 650, 866, 640, 141, 461, 594, 119], [219, 873, 720, 388, 835, 143, 205, 602, 339, 576, 448, 388, 255, 731, 558, 305, 644, 672, 303, 255], [526, 652, 256, 520, 263, 182, 263, 686, 382, 581, 250, 255, 559, 500, 248, 566, 807, 273, 622, 944], [464, 802, 408, 702, 829, 299, 397, 414, 403, 565, 407, 412, 759, 503, 565, 59, 652, 758, 650, 427], [602, 57, 873, 828, 564, 554, 565, 435, 303, 590, 323, 388, 138, 528, 94, 350, 175, 634, 410, 63], [326, 631, 940, 409, 753, 368, 438, 202, 553, 446, 592, 876, 818, 684, 617, 843, 753, 575, 800, 695]]\n",
      "\n",
      "{0: [949, 613, 438, 948, 573, 818, 607, 743, 463, 685, 838, 502, 428, 423, 404, 180, 941, 148, 534, 81, 739, 590, 938, 633, 335, 577, 660, 676, 573, 433, 775, 714, 564, 174, 335, 706, 327, 334, 398, 176, 553, 678, 821, 502, 757, 570, 500, 385, 492, 635, 807, 639, 629, 62, 433, 692, 333, 711, 91, 864, 633, 947, 262, 817, 184, 811, 665, 656, 756, 877, 758, 50, 274, 165, 576, 408, 344, 184, 610, 200, 416, 863, 621, 436, 926, 499, 92, 253, 580, 280, 144, 393, 298, 709, 294, 413, 575, 813, 622, 392, 665, 942, 87, 930, 383, 202, 592, 509, 827, 97, 859, 372, 769, 426, 397, 683, 225, 676, 837, 121, 449, 190, 935, 249, 935, 770, 680, 694, 660, 913, 111, 692, 306, 395, 840, 714, 774, 685, 584, 836, 443, 940, 430, 176, 437, 749, 368, 376, 536, 451, 526, 97, 564, 740, 219, 322, 815, 86, 437, 676, 762, 721, 60, 670, 99, 433, 453, 930, 486, 489, 299, 431, 457, 295, 804, 805, 556, 130, 423, 256, 189, 931, 775, 594, 65, 613, 219, 526, 464, 602, 326], 1: [764, 812, 52, 673, 643, 724, 499, 504, 353, 400, 147, 566, 712, 937, 679, 335, 261, 340, 434, 653, 632, 588, 259, 326, 430, 644, 574, 866, 453, 285, 704, 306, 434, 57, 275, 97, 663, 58, 346, 272, 946, 905, 387, 393, 615, 764, 680, 346, 821, 931, 626, 76, 704, 673, 419, 764, 341, 387, 927, 603, 121, 709, 424, 56, 920, 800, 296, 685, 765, 557, 337, 619, 523, 121, 119, 762, 948, 773, 579, 653, 277, 268, 97, 642, 439, 436, 803, 339, 750, 669, 631, 442, 616, 201, 446, 630, 712, 457, 652, 533, 754, 809, 631, 717, 804, 142, 309, 607, 754, 188, 675, 748, 449, 228, 589, 626, 384, 637, 836, 717, 692, 589, 276, 830, 949, 435, 679, 622, 456, 537, 668, 263, 406, 566, 563, 334, 948, 697, 124, 176, 837, 874, 558, 843, 764, 179, 195, 178, 744, 430, 589, 844, 379, 97, 140, 81, 611, 385, 778, 672, 752, 676, 462, 772, 599, 608, 391, 534, 809, 425, 646, 381, 168, 720, 113, 609, 879, 276, 862, 89, 743, 752, 631, 740, 561, 195, 873, 652, 802, 57, 631], 2: [551, 756, 529, 202, 267, 446, 226, 830, 944, 777, 937, 121, 575, 320, 328, 648, 695, 708, 615, 435, 692, 570, 221, 149, 937, 678, 799, 348, 587, 809, 877, 176, 116, 400, 260, 296, 656, 143, 388, 305, 409, 187, 760, 59, 389, 174, 271, 945, 178, 935, 617, 742, 941, 949, 644, 408, 627, 815, 559, 696, 659, 610, 498, 51, 382, 437, 52, 176, 269, 220, 98, 639, 275, 84, 938, 183, 221, 66, 565, 645, 175, 739, 575, 811, 650, 417, 711, 295, 665, 596, 771, 549, 59, 430, 946, 657, 119, 628, 329, 619, 602, 614, 934, 669, 698, 864, 804, 248, 62, 330, 304, 687, 505, 424, 766, 645, 397, 860, 437, 463, 80, 432, 427, 752, 653, 844, 223, 82, 823, 624, 811, 255, 813, 620, 100, 464, 146, 143, 649, 180, 385, 96, 528, 763, 275, 843, 441, 807, 502, 651, 622, 261, 453, 612, 563, 594, 595, 659, 345, 942, 940, 437, 575, 676, 660, 512, 428, 204, 755, 688, 180, 779, 219, 375, 92, 749, 356, 393, 374, 407, 376, 461, 390, 203, 677, 929, 720, 256, 408, 873, 940], 3: [379, 258, 556, 330, 378, 459, 80, 195, 569, 752, 451, 743, 759, 374, 916, 810, 643, 139, 686, 681, 639, 617, 406, 590, 298, 146, 666, 927, 838, 588, 81, 652, 585, 298, 293, 848, 436, 417, 443, 197, 562, 870, 379, 176, 650, 296, 610, 504, 186, 304, 932, 603, 304, 391, 531, 248, 766, 619, 933, 455, 428, 646, 429, 544, 142, 212, 621, 452, 251, 115, 360, 941, 683, 575, 333, 409, 749, 619, 758, 875, 662, 653, 770, 221, 266, 535, 603, 805, 742, 815, 437, 374, 623, 81, 700, 637, 720, 648, 198, 311, 614, 568, 841, 275, 441, 348, 638, 556, 747, 948, 473, 696, 602, 384, 277, 75, 667, 718, 872, 643, 752, 913, 859, 560, 453, 907, 459, 566, 760, 602, 864, 192, 692, 663, 626, 911, 893, 167, 752, 839, 124, 101, 533, 380, 681, 429, 183, 375, 769, 761, 768, 260, 342, 392, 457, 687, 454, 621, 504, 197, 230, 454, 865, 945, 263, 425, 348, 753, 763, 573, 52, 393, 54, 80, 442, 808, 876, 927, 93, 563, 86, 705, 87, 748, 645, 818, 388, 520, 702, 828, 409], 4: [767, 341, 672, 552, 178, 145, 719, 413, 175, 839, 96, 99, 708, 801, 688, 119, 381, 625, 348, 584, 702, 910, 579, 618, 266, 396, 748, 187, 260, 756, 597, 492, 801, 350, 142, 85, 773, 630, 680, 346, 258, 253, 635, 760, 749, 499, 396, 411, 488, 84, 187, 424, 637, 765, 626, 459, 620, 202, 197, 752, 179, 665, 623, 631, 342, 756, 320, 385, 263, 249, 296, 571, 384, 201, 462, 763, 835, 554, 336, 527, 688, 512, 327, 758, 578, 718, 721, 61, 935, 346, 616, 222, 447, 608, 392, 328, 695, 696, 710, 299, 646, 815, 613, 189, 417, 426, 197, 575, 686, 374, 427, 381, 814, 257, 459, 265, 843, 698, 220, 406, 778, 606, 504, 801, 949, 402, 803, 187, 914, 584, 632, 739, 107, 335, 823, 406, 944, 668, 220, 740, 374, 801, 618, 908, 911, 61, 251, 628, 182, 60, 773, 633, 193, 272, 455, 52, 441, 584, 574, 505, 341, 391, 250, 432, 304, 329, 907, 934, 441, 743, 697, 223, 90, 928, 296, 563, 607, 190, 685, 759, 333, 394, 772, 461, 495, 823, 835, 263, 829, 564, 753], 5: [144, 765, 115, 258, 821, 373, 682, 698, 535, 86, 265, 909, 272, 942, 615, 202, 830, 680, 621, 455, 94, 928, 390, 581, 258, 443, 858, 452, 802, 504, 529, 446, 617, 799, 266, 63, 760, 455, 563, 610, 398, 184, 251, 326, 630, 867, 820, 291, 140, 634, 402, 219, 860, 184, 534, 176, 263, 592, 406, 374, 562, 593, 385, 258, 530, 425, 434, 195, 616, 774, 453, 66, 620, 409, 449, 59, 316, 807, 817, 382, 698, 779, 803, 406, 486, 674, 185, 620, 591, 497, 745, 447, 51, 688, 880, 614, 920, 403, 442, 593, 594, 344, 249, 258, 403, 537, 759, 424, 627, 251, 261, 201, 644, 681, 819, 267, 411, 193, 502, 261, 675, 839, 758, 199, 930, 186, 100, 944, 52, 928, 261, 621, 89, 557, 186, 196, 775, 773, 202, 420, 267, 227, 710, 190, 752, 669, 699, 691, 299, 844, 259, 739, 676, 264, 326, 61, 681, 684, 862, 390, 118, 303, 172, 522, 431, 530, 687, 846, 396, 564, 721, 575, 119, 551, 669, 141, 183, 455, 844, 665, 394, 128, 654, 294, 99, 808, 143, 182, 299, 554, 368], 6: [556, 91, 570, 406, 442, 859, 556, 93, 616, 180, 488, 876, 629, 490, 345, 393, 753, 713, 832, 261, 274, 304, 619, 583, 331, 94, 393, 615, 768, 121, 579, 325, 764, 139, 611, 600, 255, 454, 666, 179, 187, 489, 51, 106, 560, 277, 250, 566, 411, 416, 581, 754, 661, 305, 300, 691, 720, 613, 641, 703, 715, 278, 496, 101, 612, 584, 570, 375, 715, 63, 739, 267, 94, 82, 339, 333, 779, 120, 690, 348, 437, 437, 659, 362, 189, 698, 450, 140, 405, 740, 668, 601, 909, 939, 758, 574, 679, 382, 178, 707, 550, 514, 691, 703, 940, 204, 426, 435, 671, 633, 640, 569, 272, 383, 85, 773, 673, 71, 375, 391, 496, 121, 716, 594, 802, 706, 300, 390, 773, 630, 929, 768, 177, 385, 600, 683, 339, 946, 449, 54, 555, 948, 321, 931, 634, 426, 705, 685, 184, 118, 304, 761, 99, 724, 608, 427, 526, 51, 609, 568, 623, 810, 931, 347, 427, 602, 462, 569, 689, 295, 766, 408, 744, 683, 390, 612, 577, 908, 101, 844, 593, 764, 561, 822, 223, 265, 205, 263, 397, 565, 438], 7: [835, 551, 633, 184, 141, 346, 486, 375, 452, 754, 345, 265, 862, 257, 688, 268, 705, 695, 275, 928, 910, 663, 327, 195, 551, 488, 603, 943, 303, 598, 699, 580, 860, 603, 685, 191, 609, 390, 666, 253, 429, 414, 911, 378, 257, 700, 827, 530, 739, 670, 640, 458, 388, 528, 263, 179, 118, 221, 658, 98, 821, 755, 138, 384, 431, 616, 506, 87, 637, 97, 807, 454, 811, 800, 382, 932, 860, 437, 406, 424, 586, 248, 397, 442, 819, 174, 676, 376, 643, 493, 604, 753, 755, 496, 687, 741, 300, 806, 754, 876, 619, 779, 97, 272, 858, 615, 577, 942, 98, 639, 196, 676, 945, 639, 807, 550, 56, 187, 643, 646, 940, 82, 753, 722, 501, 433, 577, 431, 272, 862, 306, 262, 597, 599, 668, 931, 655, 423, 935, 946, 746, 553, 277, 769, 340, 709, 802, 299, 344, 591, 262, 805, 278, 252, 755, 173, 297, 816, 843, 719, 404, 220, 347, 489, 101, 945, 324, 682, 415, 652, 574, 858, 332, 567, 218, 724, 811, 329, 811, 563, 773, 569, 145, 642, 592, 63, 602, 686, 414, 435, 202], 8: [638, 859, 820, 177, 872, 702, 346, 565, 141, 231, 334, 204, 569, 646, 556, 921, 84, 583, 380, 121, 707, 531, 824, 755, 747, 670, 120, 52, 382, 265, 527, 647, 376, 686, 400, 120, 655, 327, 438, 506, 819, 690, 54, 96, 269, 820, 87, 677, 135, 611, 693, 257, 139, 101, 265, 252, 690, 765, 391, 508, 404, 556, 696, 841, 196, 384, 687, 814, 760, 348, 390, 561, 79, 401, 266, 323, 56, 774, 289, 909, 777, 300, 346, 501, 539, 696, 809, 332, 195, 596, 142, 373, 71, 569, 656, 687, 488, 338, 817, 331, 560, 927, 336, 602, 700, 681, 441, 490, 708, 434, 647, 147, 773, 554, 295, 595, 120, 684, 328, 181, 934, 358, 276, 875, 768, 532, 636, 433, 251, 275, 451, 318, 711, 341, 945, 62, 120, 859, 97, 934, 459, 589, 761, 327, 621, 624, 295, 683, 803, 776, 261, 179, 443, 117, 720, 626, 942, 347, 667, 931, 716, 191, 53, 620, 323, 173, 941, 745, 385, 257, 151, 616, 52, 418, 691, 266, 344, 676, 461, 932, 562, 297, 401, 96, 596, 498, 339, 382, 403, 303, 553], 9: [591, 379, 770, 239, 826, 441, 221, 695, 621, 450, 871, 799, 856, 724, 146, 177, 694, 356, 667, 863, 758, 470, 601, 678, 644, 691, 391, 752, 817, 273, 662, 149, 185, 586, 840, 490, 452, 339, 764, 413, 104, 184, 543, 573, 822, 380, 768, 685, 582, 773, 551, 350, 404, 192, 257, 618, 914, 403, 199, 119, 260, 606, 693, 906, 710, 119, 908, 290, 454, 119, 634, 379, 839, 52, 808, 59, 205, 645, 724, 810, 425, 451, 907, 374, 760, 96, 132, 712, 295, 767, 862, 455, 709, 260, 751, 445, 583, 183, 744, 714, 393, 580, 886, 718, 875, 676, 409, 678, 686, 777, 350, 516, 424, 551, 488, 604, 697, 335, 490, 641, 98, 384, 935, 637, 275, 656, 751, 659, 815, 179, 665, 373, 223, 810, 314, 301, 176, 766, 189, 149, 823, 744, 937, 491, 55, 74, 770, 333, 619, 165, 54, 178, 278, 708, 680, 673, 301, 499, 251, 947, 120, 178, 54, 680, 863, 875, 381, 934, 490, 707, 762, 415, 862, 341, 263, 666, 586, 818, 81, 91, 589, 932, 917, 610, 402, 686, 576, 581, 565, 590, 446], 10: [653, 447, 603, 774, 565, 446, 597, 947, 84, 342, 767, 566, 402, 558, 452, 92, 305, 182, 811, 263, 196, 203, 502, 746, 575, 260, 561, 749, 429, 666, 652, 554, 639, 601, 337, 905, 439, 906, 559, 174, 909, 175, 710, 344, 412, 663, 671, 95, 445, 64, 458, 186, 945, 708, 618, 685, 641, 715, 339, 756, 587, 189, 258, 637, 101, 839, 905, 52, 533, 940, 497, 143, 776, 301, 145, 560, 723, 272, 618, 186, 533, 195, 720, 684, 872, 440, 569, 94, 592, 675, 550, 440, 701, 711, 395, 413, 933, 344, 675, 590, 428, 564, 270, 530, 770, 933, 928, 563, 407, 913, 686, 338, 444, 701, 449, 328, 220, 596, 0, 336, 189, 701, 672, 99, 905, 696, 383, 837, 412, 803, 503, 459, 408, 459, 323, 98, 650, 266, 64, 384, 935, 698, 277, 333, 491, 264, 762, 824, 504, 451, 249, 566, 325, 818, 56, 863, 447, 603, 704, 276, 768, 937, 813, 749, 426, 638, 613, 403, 145, 267, 376, 85, 941, 685, 492, 678, 616, 572, 617, 406, 668, 450, 175, 907, 385, 583, 448, 250, 407, 323, 592], 11: [872, 842, 837, 185, 626, 753, 936, 636, 335, 341, 450, 387, 82, 507, 306, 462, 61, 457, 590, 807, 934, 505, 529, 717, 120, 931, 138, 707, 486, 769, 456, 708, 698, 663, 584, 776, 490, 494, 926, 506, 571, 741, 808, 174, 740, 718, 906, 659, 776, 821, 583, 805, 647, 275, 303, 456, 204, 939, 272, 331, 760, 679, 454, 681, 704, 334, 714, 683, 489, 444, 820, 452, 589, 493, 763, 703, 712, 89, 200, 426, 858, 874, 862, 53, 560, 490, 427, 841, 773, 248, 324, 582, 406, 935, 407, 777, 410, 146, 819, 447, 747, 909, 613, 331, 198, 178, 571, 677, 599, 529, 58, 428, 811, 942, 399, 747, 623, 340, 662, 651, 552, 760, 457, 579, 500, 837, 879, 937, 683, 913, 439, 487, 862, 706, 442, 743, 277, 696, 762, 603, 586, 656, 205, 463, 400, 333, 819, 447, 86, 573, 555, 754, 257, 562, 412, 945, 426, 488, 84, 120, 101, 190, 81, 194, 462, 494, 204, 906, 304, 173, 182, 707, 818, 632, 643, 491, 767, 204, 175, 597, 646, 665, 912, 805, 746, 97, 388, 255, 412, 388, 876], 12: [198, 148, 260, 638, 667, 320, 573, 602, 302, 440, 340, 672, 424, 198, 89, 605, 556, 458, 389, 599, 490, 277, 573, 527, 373, 834, 631, 699, 586, 799, 801, 504, 863, 527, 276, 581, 254, 739, 909, 647, 534, 197, 453, 652, 759, 756, 706, 393, 222, 570, 444, 193, 573, 561, 631, 431, 189, 844, 383, 758, 570, 403, 273, 772, 398, 934, 185, 413, 52, 486, 381, 554, 507, 325, 459, 306, 553, 710, 188, 60, 222, 436, 770, 660, 910, 304, 596, 528, 455, 817, 570, 751, 697, 943, 266, 202, 555, 799, 815, 690, 634, 347, 634, 218, 714, 816, 800, 374, 835, 679, 202, 394, 417, 95, 339, 262, 376, 673, 267, 86, 679, 618, 937, 740, 177, 688, 404, 345, 266, 928, 88, 680, 628, 805, 99, 450, 712, 375, 927, 743, 180, 272, 914, 89, 555, 631, 254, 506, 769, 772, 426, 330, 487, 810, 459, 174, 100, 396, 258, 824, 834, 56, 295, 384, 83, 770, 395, 272, 271, 758, 407, 749, 554, 711, 80, 566, 622, 760, 643, 685, 565, 59, 693, 647, 328, 88, 255, 559, 759, 138, 818], 13: [825, 501, 251, 386, 860, 426, 84, 681, 275, 57, 576, 102, 837, 601, 742, 615, 256, 95, 585, 593, 189, 669, 912, 326, 629, 755, 578, 615, 184, 405, 863, 327, 620, 248, 770, 435, 939, 188, 948, 689, 266, 626, 873, 294, 941, 462, 865, 692, 699, 389, 126, 764, 840, 649, 194, 119, 722, 715, 932, 396, 707, 377, 868, 189, 862, 600, 683, 456, 251, 616, 179, 393, 194, 691, 810, 856, 346, 378, 486, 682, 60, 772, 436, 146, 589, 199, 248, 621, 545, 222, 345, 435, 373, 304, 443, 244, 762, 315, 922, 753, 271, 838, 692, 660, 435, 396, 506, 295, 205, 605, 908, 148, 709, 100, 532, 647, 101, 81, 648, 275, 629, 927, 800, 762, 217, 774, 621, 513, 819, 805, 817, 704, 603, 873, 705, 416, 707, 580, 432, 564, 659, 278, 405, 172, 751, 934, 203, 305, 638, 839, 865, 911, 744, 675, 687, 594, 755, 67, 457, 188, 176, 714, 452, 637, 649, 670, 896, 677, 204, 365, 196, 264, 703, 98, 669, 687, 865, 801, 287, 389, 477, 440, 64, 582, 392, 650, 731, 500, 503, 528, 684], 14: [690, 293, 723, 834, 405, 664, 760, 436, 550, 271, 816, 713, 336, 713, 808, 248, 599, 841, 528, 691, 169, 841, 930, 557, 652, 577, 463, 840, 502, 218, 94, 624, 753, 560, 698, 265, 327, 260, 437, 338, 739, 388, 746, 650, 59, 496, 300, 683, 656, 504, 695, 390, 886, 606, 675, 948, 197, 537, 829, 600, 711, 677, 533, 305, 612, 534, 758, 457, 418, 926, 349, 759, 430, 503, 910, 269, 721, 659, 529, 90, 140, 332, 520, 205, 821, 406, 745, 686, 449, 860, 124, 596, 875, 87, 61, 200, 90, 497, 764, 463, 274, 403, 669, 271, 569, 175, 275, 629, 805, 76, 912, 391, 100, 842, 378, 201, 305, 860, 222, 494, 110, 838, 192, 58, 298, 218, 646, 504, 119, 530, 570, 799, 582, 305, 684, 182, 81, 264, 432, 678, 632, 276, 765, 838, 143, 808, 669, 779, 811, 96, 120, 311, 299, 196, 925, 200, 191, 432, 647, 594, 755, 455, 561, 201, 243, 940, 946, 719, 375, 739, 80, 489, 820, 218, 501, 940, 859, 146, 271, 658, 669, 694, 766, 359, 583, 866, 558, 248, 565, 94, 617], 15: [527, 766, 621, 608, 610, 177, 671, 265, 438, 202, 335, 559, 643, 719, 141, 599, 653, 496, 652, 320, 333, 593, 396, 775, 583, 395, 344, 563, 156, 189, 335, 245, 253, 613, 191, 530, 815, 842, 72, 570, 258, 204, 326, 703, 835, 564, 560, 822, 633, 671, 711, 627, 149, 527, 684, 334, 912, 204, 196, 258, 566, 84, 834, 181, 377, 178, 617, 656, 306, 82, 714, 149, 331, 336, 342, 652, 305, 403, 488, 83, 719, 589, 694, 383, 605, 559, 498, 756, 347, 457, 622, 691, 754, 617, 629, 682, 192, 401, 659, 914, 339, 752, 257, 834, 486, 769, 768, 666, 534, 625, 174, 338, 862, 396, 420, 590, 185, 630, 344, 607, 277, 912, 356, 710, 768, 826, 306, 179, 111, 388, 874, 583, 176, 875, 638, 860, 140, 640, 714, 662, 662, 626, 779, 349, 385, 196, 578, 778, 836, 652, 520, 58, 538, 372, 98, 688, 645, 342, 429, 808, 486, 299, 937, 613, 385, 836, 381, 776, 344, 265, 873, 390, 464, 811, 329, 338, 497, 946, 179, 348, 196, 710, 606, 719, 336, 640, 305, 566, 59, 350, 843], 16: [260, 93, 381, 835, 407, 619, 395, 614, 173, 494, 143, 773, 841, 667, 816, 394, 388, 591, 862, 495, 807, 668, 940, 330, 777, 420, 382, 653, 486, 221, 679, 702, 253, 838, 665, 602, 600, 298, 493, 873, 643, 612, 258, 402, 522, 562, 815, 553, 879, 927, 221, 749, 667, 687, 694, 104, 612, 176, 739, 842, 570, 392, 257, 200, 173, 86, 644, 143, 202, 256, 676, 148, 95, 555, 640, 298, 494, 253, 841, 121, 493, 183, 445, 677, 694, 185, 574, 307, 701, 938, 93, 187, 573, 744, 820, 506, 138, 328, 934, 526, 627, 618, 558, 653, 487, 423, 689, 252, 741, 550, 447, 819, 596, 909, 144, 201, 807, 877, 399, 353, 192, 139, 101, 149, 423, 575, 827, 306, 683, 445, 838, 428, 142, 262, 859, 197, 377, 615, 80, 720, 660, 337, 435, 809, 575, 200, 298, 62, 745, 878, 54, 698, 606, 749, 183, 770, 203, 687, 875, 563, 141, 82, 776, 605, 497, 262, 779, 754, 800, 684, 188, 597, 742, 622, 566, 704, 429, 205, 180, 81, 581, 753, 590, 632, 487, 141, 644, 807, 652, 175, 753], 17: [396, 532, 182, 636, 688, 712, 413, 604, 617, 591, 445, 770, 944, 260, 85, 303, 566, 347, 617, 329, 396, 693, 139, 518, 131, 94, 747, 271, 486, 191, 820, 506, 182, 742, 668, 61, 235, 740, 809, 929, 60, 637, 306, 297, 462, 698, 691, 640, 807, 773, 327, 342, 382, 315, 669, 433, 65, 683, 755, 191, 642, 108, 100, 608, 876, 624, 82, 634, 838, 585, 256, 875, 606, 774, 199, 98, 338, 533, 582, 595, 558, 746, 691, 597, 142, 328, 388, 610, 912, 435, 59, 686, 332, 165, 458, 644, 252, 63, 582, 822, 826, 566, 399, 836, 177, 766, 333, 337, 201, 939, 590, 766, 628, 609, 750, 906, 698, 340, 555, 84, 399, 937, 679, 657, 655, 324, 400, 324, 593, 593, 555, 447, 83, 418, 564, 840, 573, 807, 914, 377, 934, 452, 306, 675, 552, 944, 600, 874, 597, 807, 706, 101, 335, 454, 802, 876, 374, 816, 743, 876, 184, 368, 81, 630, 759, 702, 810, 534, 92, 527, 329, 779, 554, 583, 803, 544, 580, 95, 101, 295, 297, 627, 427, 377, 684, 461, 672, 273, 758, 634, 575], 18: [873, 939, 494, 805, 705, 739, 454, 632, 843, 223, 339, 571, 603, 585, 938, 269, 626, 392, 778, 879, 448, 338, 501, 807, 804, 57, 699, 844, 816, 681, 415, 843, 93, 698, 685, 596, 507, 680, 397, 317, 601, 219, 411, 185, 494, 265, 745, 753, 591, 333, 835, 433, 399, 197, 861, 581, 930, 656, 720, 350, 824, 638, 459, 839, 218, 532, 95, 174, 180, 619, 765, 397, 631, 706, 617, 488, 186, 396, 101, 116, 695, 94, 810, 430, 762, 573, 879, 255, 143, 121, 619, 179, 754, 487, 434, 348, 556, 747, 61, 698, 909, 530, 306, 408, 80, 879, 932, 578, 384, 762, 275, 707, 450, 626, 841, 932, 637, 948, 944, 384, 696, 326, 699, 218, 187, 441, 413, 610, 487, 629, 304, 705, 248, 613, 669, 634, 487, 148, 426, 461, 530, 764, 119, 505, 551, 526, 89, 182, 614, 676, 430, 276, 438, 499, 841, 768, 276, 94, 814, 775, 577, 802, 705, 562, 777, 659, 841, 556, 872, 860, 248, 185, 331, 487, 191, 528, 776, 579, 595, 251, 652, 559, 701, 748, 304, 594, 303, 622, 650, 410, 800], 19: [333, 406, 431, 92, 695, 342, 768, 706, 645, 707, 379, 609, 436, 948, 457, 599, 759, 670, 535, 380, 719, 671, 819, 192, 941, 664, 102, 223, 203, 712, 714, 756, 491, 225, 50, 646, 811, 662, 381, 820, 379, 259, 764, 52, 531, 147, 907, 204, 428, 906, 947, 439, 747, 633, 721, 85, 906, 746, 430, 526, 560, 651, 99, 932, 757, 711, 716, 659, 198, 772, 60, 640, 88, 251, 520, 587, 819, 715, 671, 834, 768, 756, 553, 201, 180, 685, 667, 533, 380, 120, 79, 347, 767, 626, 179, 806, 95, 198, 302, 655, 585, 443, 93, 421, 949, 593, 937, 745, 189, 445, 401, 585, 346, 622, 145, 445, 599, 273, 946, 434, 739, 328, 757, 605, 568, 874, 808, 601, 426, 294, 349, 834, 657, 553, 583, 599, 630, 302, 188, 821, 949, 702, 624, 632, 357, 176, 660, 303, 626, 930, 323, 741, 761, 560, 740, 553, 77, 260, 833, 909, 767, 740, 669, 529, 93, 873, 705, 173, 694, 655, 448, 937, 914, 382, 879, 501, 254, 139, 774, 309, 98, 388, 688, 943, 935, 119, 255, 944, 427, 63, 695]}\n",
      "\n"
     ]
    },
    {
     "name": "stdout",
     "output_type": "stream",
     "text": [
      "{0: ['arrival location', 'arrival track', 'route', 'row', 'seat', 'train', 'type', 'zone'], 1: ['arrival location', 'arrival track', 'route', 'seat', 'type', 'zone'], 2: ['departure station', 'departure platform', 'departure track', 'arrival location', 'arrival track', 'route', 'row', 'seat', 'train', 'type', 'zone'], 3: ['route', 'seat'], 4: ['departure location', 'departure station', 'departure platform', 'departure track', 'departure date', 'departure time', 'arrival location', 'arrival track', 'class', 'route', 'row', 'seat', 'train', 'type', 'zone'], 5: ['arrival track', 'route', 'seat', 'type'], 6: ['departure location', 'departure station', 'departure platform', 'departure track', 'departure date', 'arrival location', 'arrival track', 'route', 'row', 'seat', 'train', 'type', 'zone'], 7: ['departure location', 'departure station', 'departure platform', 'departure track', 'departure date', 'departure time', 'arrival location', 'arrival station', 'arrival track', 'class', 'price', 'route', 'row', 'seat', 'train', 'type', 'wagon', 'zone'], 8: ['arrival location', 'arrival track', 'route', 'row', 'seat', 'type', 'zone'], 9: ['route', 'seat', 'type'], 10: [], 11: ['departure location', 'departure station', 'departure platform', 'departure track', 'departure date', 'departure time', 'arrival location', 'arrival station', 'arrival platform', 'arrival track', 'class', 'duration', 'price', 'route', 'row', 'seat', 'train', 'type', 'wagon', 'zone'], 12: ['departure location', 'departure station', 'departure platform', 'departure track', 'departure date', 'departure time', 'arrival location', 'arrival track', 'class', 'price', 'route', 'row', 'seat', 'train', 'type', 'wagon', 'zone'], 13: ['route'], 14: ['arrival track', 'route', 'seat', 'type', 'zone'], 15: ['departure station', 'departure platform', 'arrival location', 'arrival track', 'route', 'row', 'seat', 'train', 'type', 'zone'], 16: ['departure location', 'departure station', 'departure platform', 'departure track', 'departure date', 'departure time', 'arrival location', 'arrival track', 'route', 'row', 'seat', 'train', 'type', 'zone'], 17: ['departure station', 'arrival location', 'arrival track', 'route', 'row', 'seat', 'train', 'type', 'zone'], 18: ['departure location', 'departure station', 'departure platform', 'departure track', 'departure date', 'departure time', 'arrival location', 'arrival track', 'class', 'price', 'route', 'row', 'seat', 'train', 'type', 'zone'], 19: ['departure location', 'departure station', 'departure platform', 'departure track', 'arrival location', 'arrival track', 'route', 'row', 'seat', 'train', 'type', 'zone']}\n",
      "before: set()\n",
      "after: {'route'}\n",
      "\n",
      "before: {'route'}\n",
      "after: {'seat', 'route'}\n",
      "\n",
      "before: {'seat', 'route'}\n",
      "after: {'type', 'seat', 'route'}\n",
      "\n",
      "before: {'type', 'seat', 'route'}\n",
      "after: {'type', 'seat', 'route', 'arrival track'}\n",
      "\n",
      "before: {'type', 'seat', 'route', 'arrival track'}\n",
      "after: {'seat', 'route', 'arrival track', 'zone', 'type'}\n",
      "\n",
      "before: {'seat', 'route', 'arrival track', 'zone', 'type'}\n",
      "after: {'arrival location', 'seat', 'route', 'arrival track', 'zone', 'type'}\n",
      "\n",
      "before: {'arrival location', 'seat', 'route', 'arrival track', 'zone', 'type'}\n",
      "after: {'row', 'arrival location', 'seat', 'route', 'arrival track', 'zone', 'type'}\n",
      "\n",
      "before: {'row', 'arrival location', 'seat', 'route', 'arrival track', 'zone', 'type'}\n",
      "after: {'row', 'arrival location', 'seat', 'route', 'arrival track', 'zone', 'train', 'type'}\n",
      "\n",
      "before: {'row', 'arrival location', 'seat', 'route', 'arrival track', 'zone', 'train', 'type'}\n",
      "after: {'row', 'arrival location', 'departure station', 'seat', 'route', 'arrival track', 'zone', 'train', 'type'}\n",
      "\n",
      "before: {'row', 'arrival location', 'departure station', 'seat', 'route', 'arrival track', 'zone', 'train', 'type'}\n",
      "after: {'row', 'arrival location', 'departure station', 'seat', 'route', 'departure platform', 'arrival track', 'zone', 'train', 'type'}\n",
      "\n",
      "before: {'row', 'arrival location', 'departure station', 'seat', 'route', 'departure platform', 'arrival track', 'zone', 'train', 'type'}\n",
      "after: {'row', 'arrival location', 'departure station', 'departure track', 'seat', 'route', 'departure platform', 'arrival track', 'zone', 'train', 'type'}\n",
      "\n",
      "before: {'row', 'arrival location', 'departure station', 'departure track', 'seat', 'route', 'departure platform', 'arrival track', 'zone', 'train', 'type'}\n",
      "after: {'row', 'departure location', 'arrival location', 'departure station', 'departure track', 'seat', 'route', 'departure platform', 'arrival track', 'zone', 'train', 'type'}\n",
      "\n",
      "before: {'row', 'departure location', 'arrival location', 'departure station', 'departure track', 'seat', 'route', 'departure platform', 'arrival track', 'zone', 'train', 'type'}\n",
      "after: {'row', 'departure location', 'arrival location', 'departure station', 'departure track', 'seat', 'route', 'departure date', 'departure platform', 'arrival track', 'zone', 'train', 'type'}\n",
      "\n",
      "before: {'row', 'departure location', 'arrival location', 'departure station', 'departure track', 'seat', 'route', 'departure date', 'departure platform', 'arrival track', 'zone', 'train', 'type'}\n",
      "after: {'row', 'departure location', 'arrival location', 'departure station', 'departure track', 'seat', 'route', 'departure date', 'departure platform', 'arrival track', 'zone', 'train', 'departure time', 'type'}\n",
      "\n",
      "before: {'row', 'departure location', 'arrival location', 'departure station', 'departure track', 'seat', 'route', 'departure date', 'departure platform', 'arrival track', 'zone', 'train', 'departure time', 'type'}\n",
      "after: {'row', 'departure location', 'arrival location', 'departure station', 'departure track', 'seat', 'route', 'departure date', 'departure platform', 'arrival track', 'zone', 'train', 'departure time', 'class', 'type'}\n",
      "\n",
      "before: {'row', 'departure location', 'arrival location', 'departure station', 'departure track', 'seat', 'route', 'departure date', 'departure platform', 'arrival track', 'zone', 'train', 'departure time', 'class', 'type'}\n",
      "after: {'row', 'departure location', 'arrival location', 'departure station', 'departure track', 'seat', 'route', 'departure date', 'departure platform', 'arrival track', 'zone', 'train', 'departure time', 'class', 'type', 'price'}\n",
      "\n",
      "before: {'row', 'departure location', 'arrival location', 'departure station', 'departure track', 'seat', 'route', 'departure date', 'departure platform', 'arrival track', 'zone', 'train', 'departure time', 'class', 'type', 'price'}\n",
      "after: {'row', 'departure location', 'arrival location', 'departure station', 'departure track', 'seat', 'route', 'departure date', 'departure platform', 'arrival track', 'zone', 'train', 'departure time', 'class', 'type', 'price', 'wagon'}\n",
      "\n",
      "before: {'row', 'departure location', 'arrival location', 'departure station', 'departure track', 'seat', 'route', 'departure date', 'departure platform', 'arrival track', 'zone', 'train', 'departure time', 'class', 'type', 'price', 'wagon'}\n",
      "after: {'arrival station', 'row', 'departure location', 'arrival location', 'departure station', 'departure track', 'seat', 'route', 'departure date', 'departure platform', 'arrival track', 'zone', 'train', 'departure time', 'class', 'type', 'price', 'wagon'}\n",
      "\n",
      "before: {'arrival station', 'row', 'departure location', 'arrival location', 'departure station', 'departure track', 'seat', 'route', 'departure date', 'departure platform', 'arrival track', 'zone', 'train', 'departure time', 'class', 'type', 'price', 'wagon'}\n",
      "after: {'arrival location', 'seat', 'train', 'departure station', 'arrival platform', 'wagon', 'departure location', 'class', 'type', 'arrival station', 'departure track', 'departure platform', 'arrival track', 'departure time', 'price', 'row', 'route', 'departure date', 'zone'}\n",
      "\n"
     ]
    }
   ],
   "source": [
    "my_ticket, fields = find_ticket_fields(puzzle_input)"
   ]
  },
  {
   "cell_type": "code",
   "execution_count": 27,
   "metadata": {},
   "outputs": [
    {
     "data": {
      "text/plain": [
       "{13: 'route',\n",
       " 3: 'seat',\n",
       " 9: 'type',\n",
       " 5: 'arrival track',\n",
       " 14: 'zone',\n",
       " 1: 'arrival location',\n",
       " 8: 'row',\n",
       " 0: 'train',\n",
       " 17: 'departure station',\n",
       " 15: 'departure platform',\n",
       " 2: 'departure track',\n",
       " 19: 'departure location',\n",
       " 6: 'departure date',\n",
       " 16: 'departure time',\n",
       " 4: 'class',\n",
       " 18: 'price',\n",
       " 12: 'wagon',\n",
       " 7: 'arrival station',\n",
       " 11: 'arrival platform'}"
      ]
     },
     "execution_count": 27,
     "metadata": {},
     "output_type": "execute_result"
    }
   ],
   "source": [
    "fields"
   ]
  },
  {
   "cell_type": "code",
   "execution_count": 28,
   "metadata": {},
   "outputs": [
    {
     "data": {
      "text/plain": [
       "[17, 15, 2, 19, 6, 16]"
      ]
     },
     "execution_count": 28,
     "metadata": {},
     "output_type": "execute_result"
    }
   ],
   "source": [
    "departure_fields = [field for field in fields if 'departure' in fields[field]]\n",
    "departure_fields"
   ]
  },
  {
   "cell_type": "code",
   "execution_count": 30,
   "metadata": {},
   "outputs": [
    {
     "data": {
      "text/plain": [
       "650080463519"
      ]
     },
     "execution_count": 30,
     "metadata": {},
     "output_type": "execute_result"
    }
   ],
   "source": [
    "answer = 1\n",
    "for field_index in departure_fields:\n",
    "    answer *= my_ticket[field_index]\n",
    "answer"
   ]
  },
  {
   "cell_type": "markdown",
   "metadata": {},
   "source": [
    "Note to self:\n",
    "\n",
    "This process was not working because of the 'check if invalid' subroutine - when checking for invalid numbers (against any and all of the rules), it returned the number if invalid, and 0 otherwise. This was a problem because one of the numbers was equal to 0, and invalid! \n",
    "The takeaway here is that the invalid check was messy. Work with booleans when it comes to checking validity, and don't take shortcuts that may come back to haunt you later!"
   ]
  }
 ],
 "metadata": {
  "kernelspec": {
   "display_name": "Python 3",
   "language": "python",
   "name": "python3"
  },
  "language_info": {
   "codemirror_mode": {
    "name": "ipython",
    "version": 3
   },
   "file_extension": ".py",
   "mimetype": "text/x-python",
   "name": "python",
   "nbconvert_exporter": "python",
   "pygments_lexer": "ipython3",
   "version": "3.7.3"
  }
 },
 "nbformat": 4,
 "nbformat_minor": 2
}
