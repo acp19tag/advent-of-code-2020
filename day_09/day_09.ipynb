{
 "cells": [
  {
   "cell_type": "markdown",
   "metadata": {},
   "source": [
    "Instructions: \n",
    "\n",
    "--- Day 9: Encoding Error ---\n",
    "\n",
    "With your neighbor happily enjoying their video game, you turn your attention to an open data port on the little screen in the seat in front of you.\n",
    "\n",
    "Though the port is non-standard, you manage to connect it to your computer through the clever use of several paperclips. Upon connection, the port outputs a series of numbers (your puzzle input).\n",
    "\n",
    "The data appears to be encrypted with the eXchange-Masking Addition System (XMAS) which, conveniently for you, is an old cypher with an important weakness.\n",
    "\n",
    "XMAS starts by transmitting a preamble of 25 numbers. After that, each number you receive should be the sum of any two of the 25 immediately previous numbers. The two numbers will have different values, and there might be more than one such pair.\n",
    "\n",
    "For example, suppose your preamble consists of the numbers 1 through 25 in a random order. To be valid, the next number must be the sum of two of those numbers:\n",
    "\n",
    "    26 would be a valid next number, as it could be 1 plus 25 (or many other pairs, like 2 and 24).\n",
    "    49 would be a valid next number, as it is the sum of 24 and 25.\n",
    "    100 would not be valid; no two of the previous 25 numbers sum to 100.\n",
    "    50 would also not be valid; although 25 appears in the previous 25 numbers, the two numbers in the pair must be different.\n",
    "\n",
    "Suppose the 26th number is 45, and the first number (no longer an option, as it is more than 25 numbers ago) was 20. Now, for the next number to be valid, there needs to be some pair of numbers among 1-19, 21-25, or 45 that add up to it:\n",
    "\n",
    "    26 would still be a valid next number, as 1 and 25 are still within the previous 25 numbers.\n",
    "    65 would not be valid, as no two of the available numbers sum to it.\n",
    "    64 and 66 would both be valid, as they are the result of 19+45 and 21+45 respectively.\n",
    "\n",
    "Here is a larger example which only considers the previous 5 numbers (and has a preamble of length 5):\n",
    "\n",
    "35\n",
    "20\n",
    "15\n",
    "25\n",
    "47\n",
    "40\n",
    "62\n",
    "55\n",
    "65\n",
    "95\n",
    "102\n",
    "117\n",
    "150\n",
    "182\n",
    "127\n",
    "219\n",
    "299\n",
    "277\n",
    "309\n",
    "576\n",
    "\n",
    "In this example, after the 5-number preamble, almost every number is the sum of two of the previous 5 numbers; the only number that does not follow this rule is 127.\n",
    "\n",
    "The first step of attacking the weakness in the XMAS data is to find the first number in the list (after the preamble) which is not the sum of two of the 25 numbers before it. What is the first number that does not have this property?\n"
   ]
  },
  {
   "cell_type": "code",
   "execution_count": 2,
   "metadata": {},
   "outputs": [],
   "source": [
    "puzzle_input = []\n",
    "\n",
    "with open('puzzle_input') as infile:\n",
    "    for line in infile: \n",
    "        puzzle_input.append(line.rstrip('\\n'))"
   ]
  },
  {
   "cell_type": "code",
   "execution_count": 1,
   "metadata": {},
   "outputs": [],
   "source": [
    "sample_puzzle_input = [\n",
    "    '35',\n",
    "    '20',\n",
    "    '15',\n",
    "    '25',\n",
    "    '47',\n",
    "    '40',\n",
    "    '62',\n",
    "    '55',\n",
    "    '65',\n",
    "    '95',\n",
    "    '102',\n",
    "    '117',\n",
    "    '150',\n",
    "    '182',\n",
    "    '127',\n",
    "    '219',\n",
    "    '299',\n",
    "    '277',\n",
    "    '309',\n",
    "    '576'\n",
    "]"
   ]
  },
  {
   "cell_type": "code",
   "execution_count": 20,
   "metadata": {},
   "outputs": [
    {
     "data": {
      "text/plain": [
       "['35', '20', '15', '25', '47']"
      ]
     },
     "execution_count": 20,
     "metadata": {},
     "output_type": "execute_result"
    }
   ],
   "source": [
    "sample_puzzle_input[5-5:5]"
   ]
  },
  {
   "cell_type": "code",
   "execution_count": 21,
   "metadata": {},
   "outputs": [
    {
     "data": {
      "text/plain": [
       "['20', '15', '25', '47', '40']"
      ]
     },
     "execution_count": 21,
     "metadata": {},
     "output_type": "execute_result"
    }
   ],
   "source": [
    "sample_puzzle_input[6-5:6]"
   ]
  },
  {
   "cell_type": "code",
   "execution_count": 15,
   "metadata": {},
   "outputs": [],
   "source": [
    "import itertools\n",
    "\n",
    "def check_validity(number, preamble):\n",
    "    \n",
    "    valid_numbers = set([int(x)+int(y) for (x,y) in itertools.permutations(preamble, 2)])\n",
    "    \n",
    "    if int(number) in valid_numbers:\n",
    "        \n",
    "        return True\n",
    "    \n",
    "    else:\n",
    "        \n",
    "        return False   "
   ]
  },
  {
   "cell_type": "code",
   "execution_count": 22,
   "metadata": {},
   "outputs": [],
   "source": [
    "def find_first_invalid_number(puzzle_input, preamble_length):\n",
    "    \n",
    "    index = preamble_length\n",
    "    hit = False\n",
    "    \n",
    "    while not hit:\n",
    "        \n",
    "        number = puzzle_input[index]\n",
    "        preamble = puzzle_input[index-preamble_length:index]\n",
    "        \n",
    "        if not check_validity(number, preamble):\n",
    "            \n",
    "            output = number\n",
    "            hit = True\n",
    "        \n",
    "        else: \n",
    "            \n",
    "            index +=1 \n",
    "            \n",
    "    return output"
   ]
  },
  {
   "cell_type": "code",
   "execution_count": 23,
   "metadata": {},
   "outputs": [
    {
     "name": "stdout",
     "output_type": "stream",
     "text": [
      "127\n"
     ]
    }
   ],
   "source": [
    "print(find_first_invalid_number(sample_puzzle_input, 5))"
   ]
  },
  {
   "cell_type": "code",
   "execution_count": 24,
   "metadata": {},
   "outputs": [
    {
     "name": "stdout",
     "output_type": "stream",
     "text": [
      "41682220\n"
     ]
    }
   ],
   "source": [
    "print(find_first_invalid_number(puzzle_input, 25))"
   ]
  },
  {
   "cell_type": "markdown",
   "metadata": {},
   "source": [
    "--- Part Two ---\n",
    "\n",
    "The final step in breaking the XMAS encryption relies on the invalid number you just found: you must find a contiguous set of at least two numbers in your list which sum to the invalid number from step 1.\n",
    "\n",
    "Again consider the above example:\n",
    "\n",
    "35\n",
    "20\n",
    "15\n",
    "25\n",
    "47\n",
    "40\n",
    "62\n",
    "55\n",
    "65\n",
    "95\n",
    "102\n",
    "117\n",
    "150\n",
    "182\n",
    "127\n",
    "219\n",
    "299\n",
    "277\n",
    "309\n",
    "576\n",
    "\n",
    "In this list, adding up all of the numbers from 15 through 40 produces the invalid number from step 1, 127. (Of course, the contiguous set of numbers in your actual list might be much longer.)\n",
    "\n",
    "To find the encryption weakness, add together the smallest and largest number in this contiguous range; in this example, these are 15 and 47, producing 62.\n",
    "\n",
    "What is the encryption weakness in your XMAS-encrypted list of numbers?\n"
   ]
  },
  {
   "cell_type": "code",
   "execution_count": null,
   "metadata": {},
   "outputs": [],
   "source": [
    "def find_consecutive_numbers(number_list_as_strings, window_size=2):\n",
    "    \n",
    "    number_list = [int(i) for i in number_list_as_strings]\n",
    "    \n",
    "    return list(zip(*[number_list[i:] for i in range(window_size)])) \n"
   ]
  },
  {
   "cell_type": "code",
   "execution_count": 48,
   "metadata": {},
   "outputs": [],
   "source": [
    "def find_contiguous_sum_sequence(puzzle_input, goal_number):\n",
    "    \n",
    "    window = 2 # start with a window of 2, then widen\n",
    "    hit = False\n",
    "    \n",
    "    while not hit:\n",
    "        \n",
    "        for number_tuple in find_consecutive_numbers(puzzle_input, window):\n",
    "            \n",
    "            if sum(number_tuple) == goal_number and not hit:\n",
    "                \n",
    "                output = number_tuple\n",
    "                hit = True\n",
    "                \n",
    "        if not hit:\n",
    "            \n",
    "            window += 1\n",
    "            \n",
    "    return output  \n",
    "    "
   ]
  },
  {
   "cell_type": "code",
   "execution_count": 56,
   "metadata": {},
   "outputs": [],
   "source": [
    "def find_encyption_weakness(puzzle_input, preamble_length):\n",
    "    \n",
    "    goal_number = find_first_invalid_number(puzzle_input, preamble_length)\n",
    "    \n",
    "    print(f'goal number = {goal_number}')\n",
    "    \n",
    "    sequence = find_contiguous_sum_sequence(puzzle_input, int(goal_number))\n",
    "    \n",
    "    print(f'sequence = {sequence}')\n",
    "    \n",
    "    print(f'encryption weakness = {min(sequence) + max(sequence)}')"
   ]
  },
  {
   "cell_type": "code",
   "execution_count": 58,
   "metadata": {},
   "outputs": [
    {
     "name": "stdout",
     "output_type": "stream",
     "text": [
      "goal number = 127\n",
      "sequence = (15, 25, 47, 40)\n",
      "encryption weakness = 62\n"
     ]
    }
   ],
   "source": [
    "find_encyption_weakness(sample_puzzle_input, 5)"
   ]
  },
  {
   "cell_type": "code",
   "execution_count": 59,
   "metadata": {},
   "outputs": [
    {
     "name": "stdout",
     "output_type": "stream",
     "text": [
      "goal number = 41682220\n",
      "sequence = (2113440, 3682264, 1706712, 1767268, 1806135, 2058745, 2127438, 2129873, 2277329, 2174041, 3318487, 3140729, 2692551, 2496806, 3043050, 2543409, 2603943)\n",
      "encryption weakness = 5388976\n"
     ]
    }
   ],
   "source": [
    "find_encyption_weakness(puzzle_input, 25)"
   ]
  },
  {
   "cell_type": "code",
   "execution_count": null,
   "metadata": {},
   "outputs": [],
   "source": []
  }
 ],
 "metadata": {
  "kernelspec": {
   "display_name": "Python 3",
   "language": "python",
   "name": "python3"
  },
  "language_info": {
   "codemirror_mode": {
    "name": "ipython",
    "version": 3
   },
   "file_extension": ".py",
   "mimetype": "text/x-python",
   "name": "python",
   "nbconvert_exporter": "python",
   "pygments_lexer": "ipython3",
   "version": "3.7.3"
  }
 },
 "nbformat": 4,
 "nbformat_minor": 2
}
