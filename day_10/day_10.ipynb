{
 "cells": [
  {
   "cell_type": "markdown",
   "metadata": {},
   "source": [
    "Instructions: \n",
    "\n",
    "--- Day 10: Adapter Array ---\n",
    "\n",
    "Patched into the aircraft's data port, you discover weather forecasts of a massive tropical storm. Before you can figure out whether it will impact your vacation plans, however, your device suddenly turns off!\n",
    "\n",
    "Its battery is dead.\n",
    "\n",
    "You'll need to plug it in. There's only one problem: the charging outlet near your seat produces the wrong number of jolts. Always prepared, you make a list of all of the joltage adapters in your bag.\n",
    "\n",
    "Each of your joltage adapters is rated for a specific output joltage (your puzzle input). Any given adapter can take an input 1, 2, or 3 jolts lower than its rating and still produce its rated output joltage.\n",
    "\n",
    "In addition, your device has a built-in joltage adapter rated for 3 jolts higher than the highest-rated adapter in your bag. (If your adapter list were 3, 9, and 6, your device's built-in adapter would be rated for 12 jolts.)\n",
    "\n",
    "Treat the charging outlet near your seat as having an effective joltage rating of 0.\n",
    "\n",
    "Since you have some time to kill, you might as well test all of your adapters. Wouldn't want to get to your resort and realize you can't even charge your device!\n",
    "\n",
    "If you use every adapter in your bag at once, what is the distribution of joltage differences between the charging outlet, the adapters, and your device?\n",
    "\n",
    "For example, suppose that in your bag, you have adapters with the following joltage ratings:\n",
    "\n",
    "16\n",
    "10\n",
    "15\n",
    "5\n",
    "1\n",
    "11\n",
    "7\n",
    "19\n",
    "6\n",
    "12\n",
    "4\n",
    "\n",
    "With these adapters, your device's built-in joltage adapter would be rated for 19 + 3 = 22 jolts, 3 higher than the highest-rated adapter.\n",
    "\n",
    "Because adapters can only connect to a source 1-3 jolts lower than its rating, in order to use every adapter, you'd need to choose them like this:\n",
    "\n",
    "    The charging outlet has an effective rating of 0 jolts, so the only adapters that could connect to it directly would need to have a joltage rating of 1, 2, or 3 jolts. Of these, only one you have is an adapter rated 1 jolt (difference of 1).\n",
    "    From your 1-jolt rated adapter, the only choice is your 4-jolt rated adapter (difference of 3).\n",
    "    From the 4-jolt rated adapter, the adapters rated 5, 6, or 7 are valid choices. However, in order to not skip any adapters, you have to pick the adapter rated 5 jolts (difference of 1).\n",
    "    Similarly, the next choices would need to be the adapter rated 6 and then the adapter rated 7 (with difference of 1 and 1).\n",
    "    The only adapter that works with the 7-jolt rated adapter is the one rated 10 jolts (difference of 3).\n",
    "    From 10, the choices are 11 or 12; choose 11 (difference of 1) and then 12 (difference of 1).\n",
    "    After 12, only valid adapter has a rating of 15 (difference of 3), then 16 (difference of 1), then 19 (difference of 3).\n",
    "    Finally, your device's built-in adapter is always 3 higher than the highest adapter, so its rating is 22 jolts (always a difference of 3).\n",
    "\n",
    "In this example, when using every adapter, there are 7 differences of 1 jolt and 5 differences of 3 jolts.\n",
    "\n",
    "Here is a larger example:\n",
    "\n",
    "28\n",
    "33\n",
    "18\n",
    "42\n",
    "31\n",
    "14\n",
    "46\n",
    "20\n",
    "48\n",
    "47\n",
    "24\n",
    "23\n",
    "49\n",
    "45\n",
    "19\n",
    "38\n",
    "39\n",
    "11\n",
    "1\n",
    "32\n",
    "25\n",
    "35\n",
    "8\n",
    "17\n",
    "7\n",
    "9\n",
    "4\n",
    "2\n",
    "34\n",
    "10\n",
    "3\n",
    "\n",
    "In this larger example, in a chain that uses all of the adapters, there are 22 differences of 1 jolt and 10 differences of 3 jolts.\n",
    "\n",
    "Find a chain that uses all of your adapters to connect the charging outlet to your device's built-in adapter and count the joltage differences between the charging outlet, the adapters, and your device. What is the number of 1-jolt differences multiplied by the number of 3-jolt differences?\n"
   ]
  },
  {
   "cell_type": "code",
   "execution_count": 1,
   "metadata": {},
   "outputs": [],
   "source": [
    "puzzle_input = []\n",
    "\n",
    "with open('puzzle_input') as infile:\n",
    "    for line in infile: \n",
    "        puzzle_input.append(int(line.rstrip('\\n')))"
   ]
  },
  {
   "cell_type": "code",
   "execution_count": 2,
   "metadata": {},
   "outputs": [],
   "source": [
    "sample_puzzle_input_1 = [\n",
    "    16,\n",
    "    10,\n",
    "    15,\n",
    "    5,\n",
    "    1,\n",
    "    11,\n",
    "    7,\n",
    "    19,\n",
    "    6,\n",
    "    12,\n",
    "    4\n",
    "]"
   ]
  },
  {
   "cell_type": "code",
   "execution_count": 3,
   "metadata": {},
   "outputs": [],
   "source": [
    "sample_puzzle_input_2 = [\n",
    "    28,\n",
    "    33,\n",
    "    18,\n",
    "    42,\n",
    "    31,\n",
    "    14,\n",
    "    46,\n",
    "    20,\n",
    "    48,\n",
    "    47,\n",
    "    24,\n",
    "    23,\n",
    "    49,\n",
    "    45,\n",
    "    19,\n",
    "    38,\n",
    "    39,\n",
    "    11,\n",
    "    1,\n",
    "    32,\n",
    "    25,\n",
    "    35,\n",
    "    8,\n",
    "    17,\n",
    "    7,\n",
    "    9,\n",
    "    4,\n",
    "    2,\n",
    "    34,\n",
    "    10,\n",
    "    3\n",
    "]"
   ]
  },
  {
   "cell_type": "code",
   "execution_count": 4,
   "metadata": {},
   "outputs": [],
   "source": [
    "def find_max_joltage(adapter_list):\n",
    "    \n",
    "    return max(adapter_list) + 3"
   ]
  },
  {
   "cell_type": "code",
   "execution_count": 5,
   "metadata": {},
   "outputs": [],
   "source": [
    "def find_next_adapter(current_adapter, adapter_list):\n",
    "    \n",
    "    increase = 1\n",
    "    match = False\n",
    "    error = False\n",
    "    \n",
    "    while not match and not error:\n",
    "    \n",
    "        if current_adapter + increase in adapter_list and increase <= 3:\n",
    "\n",
    "            match = True\n",
    "\n",
    "        elif increase <= 3: \n",
    "\n",
    "            increase += 1\n",
    "    \n",
    "        else:\n",
    "            \n",
    "            error = True\n",
    "            \n",
    "    if match:\n",
    "            \n",
    "        return current_adapter + increase, increase\n",
    "    \n",
    "    else:\n",
    "        \n",
    "        return False"
   ]
  },
  {
   "cell_type": "code",
   "execution_count": 6,
   "metadata": {},
   "outputs": [],
   "source": [
    "def find_adapter_sequence(adapter_list):\n",
    "    \n",
    "    current_adapter = 0\n",
    "    max_joltage = find_max_joltage(adapter_list)\n",
    "    adapter_sequence = [0]\n",
    "    jolt_differences = []\n",
    "    error = False\n",
    "    \n",
    "    while current_adapter != max_joltage - 3 and not error:\n",
    "        \n",
    "        if bool(find_next_adapter(current_adapter, adapter_list)):\n",
    "        \n",
    "            current_adapter, jolt_difference = find_next_adapter(current_adapter, adapter_list)\n",
    "\n",
    "            adapter_sequence.append(current_adapter)\n",
    "            jolt_differences.append(jolt_difference)\n",
    "            \n",
    "        else:\n",
    "            \n",
    "            error = True\n",
    "    \n",
    "    if not error:\n",
    "    \n",
    "        # add on the final 3 to meet the max_joltage\n",
    "        jolt_differences.append(3)\n",
    "\n",
    "        # add on the joltage goal to the adapter sequence\n",
    "        adapter_sequence.append(max_joltage)\n",
    "\n",
    "        return adapter_sequence, jolt_differences\n",
    "    \n",
    "    else:\n",
    "        \n",
    "        return False"
   ]
  },
  {
   "cell_type": "code",
   "execution_count": 7,
   "metadata": {},
   "outputs": [
    {
     "data": {
      "text/plain": [
       "([0, 1, 4, 5, 6, 7, 10, 11, 12, 15, 16, 19, 22],\n",
       " [1, 3, 1, 1, 1, 3, 1, 1, 3, 1, 3, 3])"
      ]
     },
     "execution_count": 7,
     "metadata": {},
     "output_type": "execute_result"
    }
   ],
   "source": [
    "find_adapter_sequence(sample_puzzle_input_1)"
   ]
  },
  {
   "cell_type": "code",
   "execution_count": 8,
   "metadata": {},
   "outputs": [],
   "source": [
    "def calculate_part1_puzzle_answer(puzzle_input):\n",
    "    \n",
    "    adapter_sequence, jolt_differences = find_adapter_sequence(puzzle_input)\n",
    "    \n",
    "    return jolt_differences.count(1) * jolt_differences.count(3)"
   ]
  },
  {
   "cell_type": "code",
   "execution_count": 9,
   "metadata": {},
   "outputs": [
    {
     "data": {
      "text/plain": [
       "35"
      ]
     },
     "execution_count": 9,
     "metadata": {},
     "output_type": "execute_result"
    }
   ],
   "source": [
    "calculate_part1_puzzle_answer(sample_puzzle_input_1)"
   ]
  },
  {
   "cell_type": "code",
   "execution_count": 10,
   "metadata": {},
   "outputs": [
    {
     "data": {
      "text/plain": [
       "220"
      ]
     },
     "execution_count": 10,
     "metadata": {},
     "output_type": "execute_result"
    }
   ],
   "source": [
    "calculate_part1_puzzle_answer(sample_puzzle_input_2)"
   ]
  },
  {
   "cell_type": "code",
   "execution_count": 11,
   "metadata": {},
   "outputs": [
    {
     "data": {
      "text/plain": [
       "1980"
      ]
     },
     "execution_count": 11,
     "metadata": {},
     "output_type": "execute_result"
    }
   ],
   "source": [
    "calculate_part1_puzzle_answer(puzzle_input)"
   ]
  },
  {
   "cell_type": "markdown",
   "metadata": {},
   "source": [
    "--- Part Two ---\n",
    "\n",
    "To completely determine whether you have enough adapters, you'll need to figure out how many different ways they can be arranged. Every arrangement needs to connect the charging outlet to your device. The previous rules about when adapters can successfully connect still apply.\n",
    "\n",
    "The first example above (the one that starts with 16, 10, 15) supports the following arrangements:\n",
    "\n",
    "(0), 1, 4, 5, 6, 7, 10, 11, 12, 15, 16, 19, (22)\n",
    "(0), 1, 4, 5, 6, 7, 10, 12, 15, 16, 19, (22)\n",
    "(0), 1, 4, 5, 7, 10, 11, 12, 15, 16, 19, (22)\n",
    "(0), 1, 4, 5, 7, 10, 12, 15, 16, 19, (22)\n",
    "(0), 1, 4, 6, 7, 10, 11, 12, 15, 16, 19, (22)\n",
    "(0), 1, 4, 6, 7, 10, 12, 15, 16, 19, (22)\n",
    "(0), 1, 4, 7, 10, 11, 12, 15, 16, 19, (22)\n",
    "(0), 1, 4, 7, 10, 12, 15, 16, 19, (22)\n",
    "\n",
    "(The charging outlet and your device's built-in adapter are shown in parentheses.) Given the adapters from the first example, the total number of arrangements that connect the charging outlet to your device is 8.\n",
    "\n",
    "The second example above (the one that starts with 28, 33, 18) has many arrangements. Here are a few:\n",
    "\n",
    "(0), 1, 2, 3, 4, 7, 8, 9, 10, 11, 14, 17, 18, 19, 20, 23, 24, 25, 28, 31,\n",
    "32, 33, 34, 35, 38, 39, 42, 45, 46, 47, 48, 49, (52)\n",
    "\n",
    "(0), 1, 2, 3, 4, 7, 8, 9, 10, 11, 14, 17, 18, 19, 20, 23, 24, 25, 28, 31,\n",
    "32, 33, 34, 35, 38, 39, 42, 45, 46, 47, 49, (52)\n",
    "\n",
    "(0), 1, 2, 3, 4, 7, 8, 9, 10, 11, 14, 17, 18, 19, 20, 23, 24, 25, 28, 31,\n",
    "32, 33, 34, 35, 38, 39, 42, 45, 46, 48, 49, (52)\n",
    "\n",
    "(0), 1, 2, 3, 4, 7, 8, 9, 10, 11, 14, 17, 18, 19, 20, 23, 24, 25, 28, 31,\n",
    "32, 33, 34, 35, 38, 39, 42, 45, 46, 49, (52)\n",
    "\n",
    "(0), 1, 2, 3, 4, 7, 8, 9, 10, 11, 14, 17, 18, 19, 20, 23, 24, 25, 28, 31,\n",
    "32, 33, 34, 35, 38, 39, 42, 45, 47, 48, 49, (52)\n",
    "\n",
    "(0), 3, 4, 7, 10, 11, 14, 17, 20, 23, 25, 28, 31, 34, 35, 38, 39, 42, 45,\n",
    "46, 48, 49, (52)\n",
    "\n",
    "(0), 3, 4, 7, 10, 11, 14, 17, 20, 23, 25, 28, 31, 34, 35, 38, 39, 42, 45,\n",
    "46, 49, (52)\n",
    "\n",
    "(0), 3, 4, 7, 10, 11, 14, 17, 20, 23, 25, 28, 31, 34, 35, 38, 39, 42, 45,\n",
    "47, 48, 49, (52)\n",
    "\n",
    "(0), 3, 4, 7, 10, 11, 14, 17, 20, 23, 25, 28, 31, 34, 35, 38, 39, 42, 45,\n",
    "47, 49, (52)\n",
    "\n",
    "(0), 3, 4, 7, 10, 11, 14, 17, 20, 23, 25, 28, 31, 34, 35, 38, 39, 42, 45,\n",
    "48, 49, (52)\n",
    "\n",
    "In total, this set of adapters can connect the charging outlet to your device in 19208 distinct arrangements.\n",
    "\n",
    "You glance back down at your bag and try to remember why you brought so many adapters; there must be more than a trillion valid ways to arrange them! Surely, there must be an efficient way to count the arrangements.\n",
    "\n",
    "What is the total number of distinct ways you can arrange the adapters to connect the charging outlet to your device?\n"
   ]
  },
  {
   "cell_type": "code",
   "execution_count": 14,
   "metadata": {},
   "outputs": [],
   "source": [
    "def find_vital_adapters(adapter_list):\n",
    "    \n",
    "    adapter_sequence, jolt_differences = find_adapter_sequence(adapter_list)\n",
    "    \n",
    "    vital_set = {0}\n",
    "\n",
    "    for index, j in enumerate([i == 3 for i in jolt_differences]):\n",
    "        if j:\n",
    "            vital_set.add(adapter_sequence[index])\n",
    "            vital_set.add(adapter_sequence[index+1])\n",
    "\n",
    "    return vital_set  "
   ]
  },
  {
   "cell_type": "code",
   "execution_count": 15,
   "metadata": {},
   "outputs": [
    {
     "data": {
      "text/plain": [
       "{0, 1, 4, 7, 10, 12, 15, 16, 19, 22}"
      ]
     },
     "execution_count": 15,
     "metadata": {},
     "output_type": "execute_result"
    }
   ],
   "source": [
    "find_vital_adapters(sample_puzzle_input_1)"
   ]
  },
  {
   "cell_type": "code",
   "execution_count": 16,
   "metadata": {},
   "outputs": [],
   "source": [
    "def find_nonvital_adapters(adapter_list, vital_adapters):\n",
    "    \n",
    "    return set(adapter_list).difference(vital_adapters)"
   ]
  },
  {
   "cell_type": "code",
   "execution_count": 17,
   "metadata": {},
   "outputs": [
    {
     "data": {
      "text/plain": [
       "{5, 6, 11}"
      ]
     },
     "execution_count": 17,
     "metadata": {},
     "output_type": "execute_result"
    }
   ],
   "source": [
    "find_nonvital_adapters(sample_puzzle_input_1, find_vital_adapters(sample_puzzle_input_1))"
   ]
  },
  {
   "cell_type": "code",
   "execution_count": 18,
   "metadata": {},
   "outputs": [],
   "source": [
    "def check_adapter_sequence_validity(adapter_list):\n",
    "    \n",
    "    current_adapter = 0\n",
    "    max_joltage = find_max_joltage(adapter_list)\n",
    "    error = False\n",
    "    \n",
    "    while current_adapter != max_joltage - 3 and not error:\n",
    "        \n",
    "        if bool(find_next_adapter(current_adapter, adapter_list)):\n",
    "        \n",
    "            current_adapter, jolt_difference = find_next_adapter(current_adapter, adapter_list)\n",
    "            \n",
    "        else:\n",
    "            \n",
    "            error = True\n",
    "    \n",
    "    if not error:\n",
    "\n",
    "        return True\n",
    "    \n",
    "    else:\n",
    "        \n",
    "        return False"
   ]
  },
  {
   "cell_type": "code",
   "execution_count": 23,
   "metadata": {},
   "outputs": [],
   "source": [
    "\"\"\"\n",
    "\n",
    "NOTE: this is NOT a good solution as it tries to find all combinations \n",
    "of the adapters that aren't 3 steps - although there are definitely \n",
    "fewer than finding all combinations of adapters straight up, there are\n",
    "more than my laptop can handle (it crashes!). A more efficient solution is needed!!\n",
    "\n",
    "\"\"\"\n",
    "\n",
    "# # this function (from stack overflow, https://stackoverflow.com/questions/464864/how-to-get-all-possible-combinations-of-a-list-s-elements)\n",
    "#     # returns all combinations of a set, including 0 elements and all elements. \n",
    "#     # not totally sure how it works - it uses starred expression and I don't really know what that is\n",
    "\n",
    "# def combinations(items):\n",
    "#     return (set(itertools.compress(items,mask)) for mask in itertools.product(*[[0,1]]*len(items)))\n",
    "\n",
    "# import itertools\n",
    "\n",
    "# def count_valid_adapter_sequences(puzzle_input):\n",
    "    \n",
    "#     vital_adapters = find_vital_adapters(puzzle_input)\n",
    "#     nonvital_adapters = find_nonvital_adapters(puzzle_input, vital_adapters)\n",
    "    \n",
    "#     # find all permutations of nonvitals\n",
    "#     nonvital_adapter_combinations = list(combinations(nonvital_adapters))\n",
    "    \n",
    "#     return len(nonvital_adapter_combinations)\n",
    "    \n",
    "# #     # test all permutations\n",
    "# #     results = [check_adapter_sequence_validity(test_set.union(vital_adapters)) for test_set in nonvital_adapter_combinations]\n",
    "    \n",
    "# #     return sum(results)"
   ]
  },
  {
   "cell_type": "code",
   "execution_count": 43,
   "metadata": {},
   "outputs": [],
   "source": [
    "# here we split the jolt difference lists by the 3s (the 'vital' adapters) and sum combinations in batches\n",
    "\n",
    "def split_jolt_difference_by_3s_and_find_combinations(jolt_difference_list):\n",
    "    \n",
    "    combination_list = []\n",
    "    temp_list = []\n",
    "    \n",
    "    for jolt_difference in jolt_difference_list:\n",
    "        \n",
    "        if jolt_difference == 3:\n",
    "            \n",
    "            # to account for the necessity of some 1 or 2-step plugs between vital adapters\n",
    "            if len(temp_list) > 3:\n",
    "                \n",
    "                combination_list.append((len(temp_list)-1)*2+(len(temp_list)-3)) \n",
    "                \n",
    "            elif len(temp_list) > 1: \n",
    "                \n",
    "                combination_list.append((len(temp_list)-1)*2)\n",
    "            \n",
    "            temp_list = []\n",
    "            \n",
    "        else:\n",
    "            \n",
    "            temp_list.append(jolt_difference)\n",
    "            \n",
    "    return combination_list"
   ]
  },
  {
   "cell_type": "code",
   "execution_count": 45,
   "metadata": {},
   "outputs": [],
   "source": [
    "import numpy as np\n",
    "\n",
    "def part_2_solver(puzzle_input):\n",
    "\n",
    "    adapter_sequence, jolt_differences = find_adapter_sequence(puzzle_input)\n",
    "    \n",
    "    combination_list = split_jolt_difference_by_3s_and_find_combinations(jolt_differences)\n",
    "    \n",
    "    return np.prod(combination_list)"
   ]
  },
  {
   "cell_type": "code",
   "execution_count": 46,
   "metadata": {},
   "outputs": [
    {
     "data": {
      "text/plain": [
       "8"
      ]
     },
     "execution_count": 46,
     "metadata": {},
     "output_type": "execute_result"
    }
   ],
   "source": [
    "part_2_solver(sample_puzzle_input_1)"
   ]
  },
  {
   "cell_type": "code",
   "execution_count": 47,
   "metadata": {},
   "outputs": [
    {
     "data": {
      "text/plain": [
       "19208"
      ]
     },
     "execution_count": 47,
     "metadata": {},
     "output_type": "execute_result"
    }
   ],
   "source": [
    "part_2_solver(sample_puzzle_input_2)"
   ]
  },
  {
   "cell_type": "code",
   "execution_count": 48,
   "metadata": {},
   "outputs": [
    {
     "data": {
      "text/plain": [
       "4628074479616"
      ]
     },
     "execution_count": 48,
     "metadata": {},
     "output_type": "execute_result"
    }
   ],
   "source": [
    "part_2_solver(puzzle_input)"
   ]
  }
 ],
 "metadata": {
  "kernelspec": {
   "display_name": "Python 3",
   "language": "python",
   "name": "python3"
  },
  "language_info": {
   "codemirror_mode": {
    "name": "ipython",
    "version": 3
   },
   "file_extension": ".py",
   "mimetype": "text/x-python",
   "name": "python",
   "nbconvert_exporter": "python",
   "pygments_lexer": "ipython3",
   "version": "3.7.3"
  }
 },
 "nbformat": 4,
 "nbformat_minor": 2
}
