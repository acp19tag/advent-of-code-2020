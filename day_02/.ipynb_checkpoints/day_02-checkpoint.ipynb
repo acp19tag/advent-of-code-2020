{
 "cells": [
  {
   "cell_type": "markdown",
   "metadata": {},
   "source": [
    "--- Day 2: Password Philosophy ---\n",
    "\n",
    "Your flight departs in a few days from the coastal airport; the easiest way down to the coast from here is via toboggan.\n",
    "\n",
    "The shopkeeper at the North Pole Toboggan Rental Shop is having a bad day. \"Something's wrong with our computers; we can't log in!\" You ask if you can take a look.\n",
    "\n",
    "Their password database seems to be a little corrupted: some of the passwords wouldn't have been allowed by the Official Toboggan Corporate Policy that was in effect when they were chosen.\n",
    "\n",
    "To try to debug the problem, they have created a list (your puzzle input) of passwords (according to the corrupted database) and the corporate policy when that password was set.\n",
    "\n",
    "For example, suppose you have the following list:\n",
    "\n",
    "1-3 a: abcde\n",
    "1-3 b: cdefg\n",
    "2-9 c: ccccccccc\n",
    "\n",
    "Each line gives the password policy and then the password. The password policy indicates the lowest and highest number of times a given letter must appear for the password to be valid. For example, 1-3 a means that the password must contain a at least 1 time and at most 3 times.\n",
    "\n",
    "In the above example, 2 passwords are valid. The middle password, cdefg, is not; it contains no instances of b, but needs at least 1. The first and third passwords are valid: they contain one a or nine c, both within the limits of their respective policies.\n",
    "\n",
    "How many passwords are valid according to their policies?\n"
   ]
  },
  {
   "cell_type": "code",
   "execution_count": 22,
   "metadata": {},
   "outputs": [],
   "source": [
    "puzzle_input = []\n",
    "\n",
    "with open('puzzle_input') as infile:\n",
    "    for line in infile: \n",
    "        puzzle_input.append(line.rstrip('\\n'))"
   ]
  },
  {
   "cell_type": "code",
   "execution_count": 4,
   "metadata": {},
   "outputs": [],
   "source": [
    "sample_puzzle_input = ['1-3 a: abcde','1-3 b: cdefg','2-9 c: ccccccccc']"
   ]
  },
  {
   "cell_type": "code",
   "execution_count": 7,
   "metadata": {},
   "outputs": [],
   "source": [
    "# they all follow the same format...\n",
    "# we can capture the important bits with regular expressions\n",
    "\n",
    "import re\n",
    "\n",
    "pattern = re.compile('(\\d+-\\d+) (.{1}): (.+)')"
   ]
  },
  {
   "cell_type": "code",
   "execution_count": 15,
   "metadata": {},
   "outputs": [],
   "source": [
    "# create a function that takes in an input string and outputs all the relevant bits\n",
    "\n",
    "def parse_puzzle_input(input_string):\n",
    "    \n",
    "    pattern = re.compile('(\\d+-\\d+) (.{1}): (.+)')\n",
    "    \n",
    "    regex_match = re.search(pattern, input_string)\n",
    "    \n",
    "    min_count = int(regex_match.group(1).split('-')[0])\n",
    "    max_count = int(regex_match.group(1).split('-')[1])\n",
    "    character = regex_match.group(2)\n",
    "    password = regex_match.group(3)\n",
    "    \n",
    "    return min_count, max_count, character, password"
   ]
  },
  {
   "cell_type": "code",
   "execution_count": 17,
   "metadata": {},
   "outputs": [],
   "source": [
    "# create a function that checks if the password is valid given the details\n",
    "\n",
    "def check_password_validity(min_count, max_count, character, password):\n",
    "    \n",
    "    count = password.count(character)\n",
    "    \n",
    "    if min_count <= count <= max_count:\n",
    "        \n",
    "        return True\n",
    "    \n",
    "    else:\n",
    "        \n",
    "        return False"
   ]
  },
  {
   "cell_type": "code",
   "execution_count": 18,
   "metadata": {},
   "outputs": [],
   "source": [
    "# create a function that combines both above functions and returns the number of VALID passwords in a set\n",
    "\n",
    "def count_valid_passwords(password_list):\n",
    "    \n",
    "    # empty list to store true/false values\n",
    "    validity_list = []\n",
    "    \n",
    "    for input_string in password_list:\n",
    "        \n",
    "        min_count, max_count, character, password = parse_puzzle_input(input_string)\n",
    "        \n",
    "        validity_list.append(check_password_validity(min_count, max_count, character, password))\n",
    "        \n",
    "    print(sum(validity_list))"
   ]
  },
  {
   "cell_type": "code",
   "execution_count": 19,
   "metadata": {},
   "outputs": [
    {
     "name": "stdout",
     "output_type": "stream",
     "text": [
      "2\n"
     ]
    }
   ],
   "source": [
    "count_valid_passwords(sample_puzzle_input)"
   ]
  },
  {
   "cell_type": "code",
   "execution_count": 23,
   "metadata": {},
   "outputs": [
    {
     "name": "stdout",
     "output_type": "stream",
     "text": [
      "572\n"
     ]
    }
   ],
   "source": [
    "count_valid_passwords(puzzle_input)"
   ]
  },
  {
   "cell_type": "markdown",
   "metadata": {},
   "source": [
    "--- Part Two ---\n",
    "\n",
    "While it appears you validated the passwords correctly, they don't seem to be what the Official Toboggan Corporate Authentication System is expecting.\n",
    "\n",
    "The shopkeeper suddenly realizes that he just accidentally explained the password policy rules from his old job at the sled rental place down the street! The Official Toboggan Corporate Policy actually works a little differently.\n",
    "\n",
    "Each policy actually describes two positions in the password, where 1 means the first character, 2 means the second character, and so on. (Be careful; Toboggan Corporate Policies have no concept of \"index zero\"!) Exactly one of these positions must contain the given letter. Other occurrences of the letter are irrelevant for the purposes of policy enforcement.\n",
    "\n",
    "Given the same example list from above:\n",
    "\n",
    "    1-3 a: abcde is valid: position 1 contains a and position 3 does not.\n",
    "    1-3 b: cdefg is invalid: neither position 1 nor position 3 contains b.\n",
    "    2-9 c: ccccccccc is invalid: both position 2 and position 9 contain c.\n",
    "\n",
    "How many passwords are valid according to the new interpretation of the policies?\n"
   ]
  },
  {
   "cell_type": "code",
   "execution_count": 44,
   "metadata": {},
   "outputs": [],
   "source": [
    "# here, we only need to rework the check_password_validity function\n",
    "\n",
    "# although the variables should now be 'index_1' instead of 'min_count' and 'index_2' instead of 'max_count'\n",
    "\n",
    "def check_password_validity(min_count, max_count, character, password):\n",
    "    \n",
    "    try:\n",
    "        \n",
    "        # remember that there is no 0 index, so we have to minus one from the index to make it pythonic!\n",
    "        # to get the xor logic (i.e. exactly one of these things is true) we can do:\n",
    "            # (first is true OR second is true) AND NOT (first is true AND second is true)\n",
    "        if (password[min_count-1] == character or password[max_count-1] == character) \\\n",
    "            and not (password[min_count-1] == character and password[max_count-1] == character):\n",
    "\n",
    "            return True\n",
    "\n",
    "        else:\n",
    "\n",
    "            return False\n",
    "        \n",
    "    except:\n",
    "        \n",
    "        print(min_count)\n",
    "        print(max_count)\n",
    "        print(character)\n",
    "        print(password)"
   ]
  },
  {
   "cell_type": "code",
   "execution_count": 45,
   "metadata": {},
   "outputs": [
    {
     "name": "stdout",
     "output_type": "stream",
     "text": [
      "1\n"
     ]
    }
   ],
   "source": [
    "count_valid_passwords(sample_puzzle_input)"
   ]
  },
  {
   "cell_type": "code",
   "execution_count": 46,
   "metadata": {},
   "outputs": [
    {
     "name": "stdout",
     "output_type": "stream",
     "text": [
      "306\n"
     ]
    }
   ],
   "source": [
    "count_valid_passwords(puzzle_input)"
   ]
  }
 ],
 "metadata": {
  "kernelspec": {
   "display_name": "Python 3",
   "language": "python",
   "name": "python3"
  },
  "language_info": {
   "codemirror_mode": {
    "name": "ipython",
    "version": 3
   },
   "file_extension": ".py",
   "mimetype": "text/x-python",
   "name": "python",
   "nbconvert_exporter": "python",
   "pygments_lexer": "ipython3",
   "version": "3.7.3"
  }
 },
 "nbformat": 4,
 "nbformat_minor": 2
}
