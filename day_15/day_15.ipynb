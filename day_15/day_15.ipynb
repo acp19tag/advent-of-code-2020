{
 "cells": [
  {
   "cell_type": "markdown",
   "metadata": {},
   "source": [
    "Instructions: \n",
    "\n",
    "--- Day 15: Rambunctious Recitation ---\n",
    "\n",
    "You catch the airport shuttle and try to book a new flight to your vacation island. Due to the storm, all direct flights have been cancelled, but a route is available to get around the storm. You take it.\n",
    "\n",
    "While you wait for your flight, you decide to check in with the Elves back at the North Pole. They're playing a memory game and are ever so excited to explain the rules!\n",
    "\n",
    "In this game, the players take turns saying numbers. They begin by taking turns reading from a list of starting numbers (your puzzle input). Then, each turn consists of considering the most recently spoken number:\n",
    "\n",
    "    If that was the first time the number has been spoken, the current player says 0.\n",
    "    Otherwise, the number had been spoken before; the current player announces how many turns apart the number is from when it was previously spoken.\n",
    "\n",
    "So, after the starting numbers, each turn results in that player speaking aloud either 0 (if the last number is new) or an age (if the last number is a repeat).\n",
    "\n",
    "For example, suppose the starting numbers are 0,3,6:\n",
    "\n",
    "    Turn 1: The 1st number spoken is a starting number, 0.\n",
    "    Turn 2: The 2nd number spoken is a starting number, 3.\n",
    "    Turn 3: The 3rd number spoken is a starting number, 6.\n",
    "    Turn 4: Now, consider the last number spoken, 6. Since that was the first time the number had been spoken, the 4th number spoken is 0.\n",
    "    Turn 5: Next, again consider the last number spoken, 0. Since it had been spoken before, the next number to speak is the difference between the turn number when it was last spoken (the previous turn, 4) and the turn number of the time it was most recently spoken before then (turn 1). Thus, the 5th number spoken is 4 - 1, 3.\n",
    "    Turn 6: The last number spoken, 3 had also been spoken before, most recently on turns 5 and 2. So, the 6th number spoken is 5 - 2, 3.\n",
    "    Turn 7: Since 3 was just spoken twice in a row, and the last two turns are 1 turn apart, the 7th number spoken is 1.\n",
    "    Turn 8: Since 1 is new, the 8th number spoken is 0.\n",
    "    Turn 9: 0 was last spoken on turns 8 and 4, so the 9th number spoken is the difference between them, 4.\n",
    "    Turn 10: 4 is new, so the 10th number spoken is 0.\n",
    "\n",
    "(The game ends when the Elves get sick of playing or dinner is ready, whichever comes first.)\n",
    "\n",
    "Their question for you is: what will be the 2020th number spoken? In the example above, the 2020th number spoken will be 436.\n",
    "\n",
    "Here are a few more examples:\n",
    "\n",
    "    Given the starting numbers 1,3,2, the 2020th number spoken is 1.\n",
    "    Given the starting numbers 2,1,3, the 2020th number spoken is 10.\n",
    "    Given the starting numbers 1,2,3, the 2020th number spoken is 27.\n",
    "    Given the starting numbers 2,3,1, the 2020th number spoken is 78.\n",
    "    Given the starting numbers 3,2,1, the 2020th number spoken is 438.\n",
    "    Given the starting numbers 3,1,2, the 2020th number spoken is 1836.\n",
    "\n",
    "Given your starting numbers, what will be the 2020th number spoken?\n"
   ]
  },
  {
   "cell_type": "code",
   "execution_count": 1,
   "metadata": {},
   "outputs": [],
   "source": [
    "puzzle_input = [20,0,1,11,6,3]"
   ]
  },
  {
   "cell_type": "code",
   "execution_count": 4,
   "metadata": {},
   "outputs": [],
   "source": [
    "sample_puzzle_input = [0,3,6]"
   ]
  },
  {
   "cell_type": "code",
   "execution_count": 21,
   "metadata": {},
   "outputs": [],
   "source": [
    "test = np.array([0, 0, 3, 3, 6, 6, 6, 7])"
   ]
  },
  {
   "cell_type": "code",
   "execution_count": 3,
   "metadata": {},
   "outputs": [],
   "source": [
    "import numpy as np"
   ]
  },
  {
   "cell_type": "code",
   "execution_count": 5,
   "metadata": {},
   "outputs": [],
   "source": [
    "numbers_array = np.array(sample_puzzle_input)"
   ]
  },
  {
   "cell_type": "code",
   "execution_count": 27,
   "metadata": {},
   "outputs": [
    {
     "data": {
      "text/plain": [
       "3"
      ]
     },
     "execution_count": 27,
     "metadata": {},
     "output_type": "execute_result"
    }
   ],
   "source": [
    "len(numbers_array)"
   ]
  },
  {
   "cell_type": "code",
   "execution_count": 26,
   "metadata": {},
   "outputs": [
    {
     "data": {
      "text/plain": [
       "1"
      ]
     },
     "execution_count": 26,
     "metadata": {},
     "output_type": "execute_result"
    }
   ],
   "source": [
    "np.where(test==0)[0][-1]"
   ]
  },
  {
   "cell_type": "code",
   "execution_count": 34,
   "metadata": {},
   "outputs": [
    {
     "data": {
      "text/plain": [
       "array([1, 2, 3, 4])"
      ]
     },
     "execution_count": 34,
     "metadata": {},
     "output_type": "execute_result"
    }
   ],
   "source": [
    "np.append(np.array([1, 2, 3]), 4)"
   ]
  },
  {
   "cell_type": "code",
   "execution_count": 37,
   "metadata": {},
   "outputs": [],
   "source": [
    "def return_next_number(current_number, numbers_array):\n",
    "    \n",
    "    if current_number not in numbers_array:\n",
    "        \n",
    "        return 0\n",
    "    \n",
    "    else:\n",
    "        \n",
    "        return len(numbers_array) - np.where(numbers_array==current_number)[0][-1]"
   ]
  },
  {
   "cell_type": "code",
   "execution_count": 39,
   "metadata": {},
   "outputs": [],
   "source": [
    "def play_elves_game(puzzle_input, number_of_turns):\n",
    "    \n",
    "    turns = len(puzzle_input) + 1\n",
    "    \n",
    "    numbers_array = np.array(puzzle_input)\n",
    "\n",
    "    while turns <= number_of_turns:\n",
    "\n",
    "        new_value = return_next_number(numbers_array[-1], numbers_array[:-1])\n",
    "\n",
    "        numbers_array = np.append(numbers_array, new_value)\n",
    "\n",
    "        turns += 1\n",
    "        \n",
    "    return numbers_array[-1]"
   ]
  },
  {
   "cell_type": "code",
   "execution_count": 44,
   "metadata": {},
   "outputs": [
    {
     "data": {
      "text/plain": [
       "436"
      ]
     },
     "execution_count": 44,
     "metadata": {},
     "output_type": "execute_result"
    }
   ],
   "source": [
    "play_elves_game(sample_puzzle_input, 2020)"
   ]
  },
  {
   "cell_type": "code",
   "execution_count": 45,
   "metadata": {},
   "outputs": [
    {
     "data": {
      "text/plain": [
       "421"
      ]
     },
     "execution_count": 45,
     "metadata": {},
     "output_type": "execute_result"
    }
   ],
   "source": [
    "play_elves_game(puzzle_input, 2020)"
   ]
  },
  {
   "cell_type": "markdown",
   "metadata": {},
   "source": [
    "--- Part Two ---\n",
    "\n",
    "Impressed, the Elves issue you a challenge: determine the 30000000th number spoken. For example, given the same starting numbers as above:\n",
    "\n",
    "    Given 0,3,6, the 30000000th number spoken is 175594.\n",
    "    Given 1,3,2, the 30000000th number spoken is 2578.\n",
    "    Given 2,1,3, the 30000000th number spoken is 3544142.\n",
    "    Given 1,2,3, the 30000000th number spoken is 261214.\n",
    "    Given 2,3,1, the 30000000th number spoken is 6895259.\n",
    "    Given 3,2,1, the 30000000th number spoken is 18.\n",
    "    Given 3,1,2, the 30000000th number spoken is 362.\n",
    "\n",
    "Given your starting numbers, what will be the 30000000th number spoken?\n"
   ]
  },
  {
   "cell_type": "code",
   "execution_count": 124,
   "metadata": {},
   "outputs": [],
   "source": [
    "# original solution was way too slow!\n",
    "# maybe a dictionary will help...? \n",
    "\n",
    "def return_next_number(current_number, current_turn, numbers_dict):\n",
    "    \n",
    "    if current_number in numbers_dict:\n",
    "        \n",
    "        return current_turn - numbers_dict[current_number] - 1\n",
    "    \n",
    "    else:\n",
    "        \n",
    "        return 0\n",
    "\n",
    "def play_elves_game(puzzle_input, number_of_turns):\n",
    "    \n",
    "    numbers_dict = {}\n",
    "    \n",
    "    # this dictionary only holds the turn number of the most recent utterance of each number \n",
    "    for turn, starting_number in enumerate(puzzle_input[:-1]):\n",
    "        numbers_dict[starting_number] = turn+1\n",
    "        \n",
    "    current_number = puzzle_input[-1]\n",
    "    \n",
    "    turn = len(puzzle_input) + 1\n",
    "\n",
    "    while turn <= number_of_turns:\n",
    "\n",
    "        next_number = return_next_number(current_number, turn, numbers_dict)\n",
    "        \n",
    "        # add the previous number to the dictionary\n",
    "        numbers_dict[current_number] = turn - 1\n",
    "        \n",
    "        current_number = next_number\n",
    "        \n",
    "        turn += 1\n",
    "\n",
    "    return current_number"
   ]
  },
  {
   "cell_type": "code",
   "execution_count": 127,
   "metadata": {},
   "outputs": [
    {
     "data": {
      "text/plain": [
       "175594"
      ]
     },
     "execution_count": 127,
     "metadata": {},
     "output_type": "execute_result"
    }
   ],
   "source": [
    "play_elves_game(sample_puzzle_input, 30000000)"
   ]
  },
  {
   "cell_type": "code",
   "execution_count": 128,
   "metadata": {},
   "outputs": [
    {
     "data": {
      "text/plain": [
       "436"
      ]
     },
     "execution_count": 128,
     "metadata": {},
     "output_type": "execute_result"
    }
   ],
   "source": [
    "play_elves_game(puzzle_input, 30000000)"
   ]
  }
 ],
 "metadata": {
  "kernelspec": {
   "display_name": "Python 3",
   "language": "python",
   "name": "python3"
  },
  "language_info": {
   "codemirror_mode": {
    "name": "ipython",
    "version": 3
   },
   "file_extension": ".py",
   "mimetype": "text/x-python",
   "name": "python",
   "nbconvert_exporter": "python",
   "pygments_lexer": "ipython3",
   "version": "3.7.3"
  }
 },
 "nbformat": 4,
 "nbformat_minor": 2
}
