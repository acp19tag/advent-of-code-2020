{
 "cells": [
  {
   "cell_type": "markdown",
   "metadata": {},
   "source": [
    "Instructions: \n",
    "\n",
    "--- Day 5: Binary Boarding ---\n",
    "\n",
    "You board your plane only to discover a new problem: you dropped your boarding pass! You aren't sure which seat is yours, and all of the flight attendants are busy with the flood of people that suddenly made it through passport control.\n",
    "\n",
    "You write a quick program to use your phone's camera to scan all of the nearby boarding passes (your puzzle input); perhaps you can find your seat through process of elimination.\n",
    "\n",
    "Instead of zones or groups, this airline uses binary space partitioning to seat people. A seat might be specified like FBFBBFFRLR, where F means \"front\", B means \"back\", L means \"left\", and R means \"right\".\n",
    "\n",
    "The first 7 characters will either be F or B; these specify exactly one of the 128 rows on the plane (numbered 0 through 127). Each letter tells you which half of a region the given seat is in. Start with the whole list of rows; the first letter indicates whether the seat is in the front (0 through 63) or the back (64 through 127). The next letter indicates which half of that region the seat is in, and so on until you're left with exactly one row.\n",
    "\n",
    "For example, consider just the first seven characters of FBFBBFFRLR:\n",
    "\n",
    "    Start by considering the whole range, rows 0 through 127.\n",
    "    F means to take the lower half, keeping rows 0 through 63.\n",
    "    B means to take the upper half, keeping rows 32 through 63.\n",
    "    F means to take the lower half, keeping rows 32 through 47.\n",
    "    B means to take the upper half, keeping rows 40 through 47.\n",
    "    B keeps rows 44 through 47.\n",
    "    F keeps rows 44 through 45.\n",
    "    The final F keeps the lower of the two, row 44.\n",
    "\n",
    "The last three characters will be either L or R; these specify exactly one of the 8 columns of seats on the plane (numbered 0 through 7). The same process as above proceeds again, this time with only three steps. L means to keep the lower half, while R means to keep the upper half.\n",
    "\n",
    "For example, consider just the last 3 characters of FBFBBFFRLR:\n",
    "\n",
    "    Start by considering the whole range, columns 0 through 7.\n",
    "    R means to take the upper half, keeping columns 4 through 7.\n",
    "    L means to take the lower half, keeping columns 4 through 5.\n",
    "    The final R keeps the upper of the two, column 5.\n",
    "\n",
    "So, decoding FBFBBFFRLR reveals that it is the seat at row 44, column 5.\n",
    "\n",
    "Every seat also has a unique seat ID: multiply the row by 8, then add the column. In this example, the seat has ID 44 * 8 + 5 = 357.\n",
    "\n",
    "Here are some other boarding passes:\n",
    "\n",
    "    BFFFBBFRRR: row 70, column 7, seat ID 567.\n",
    "    FFFBBBFRRR: row 14, column 7, seat ID 119.\n",
    "    BBFFBBFRLL: row 102, column 4, seat ID 820.\n",
    "\n",
    "As a sanity check, look through your list of boarding passes. What is the highest seat ID on a boarding pass?\n"
   ]
  },
  {
   "cell_type": "code",
   "execution_count": 2,
   "metadata": {},
   "outputs": [],
   "source": [
    "puzzle_input = []\n",
    "\n",
    "with open('puzzle_input') as infile:\n",
    "    for line in infile: \n",
    "        puzzle_input.append(line.rstrip('\\n'))"
   ]
  },
  {
   "cell_type": "code",
   "execution_count": 1,
   "metadata": {},
   "outputs": [],
   "source": [
    "sample_puzzle_input_1 = 'BFFFBBFRRR'\n",
    "sample_puzzle_input_2 = 'FFFBBBFRRR'\n",
    "sample_puzzle_input_3 = 'BBFFBBFRLL'"
   ]
  },
  {
   "cell_type": "code",
   "execution_count": 5,
   "metadata": {},
   "outputs": [
    {
     "data": {
      "text/plain": [
       "'RRR'"
      ]
     },
     "execution_count": 5,
     "metadata": {},
     "output_type": "execute_result"
    }
   ],
   "source": [
    "sample_puzzle_input_1[-3:]"
   ]
  },
  {
   "cell_type": "code",
   "execution_count": 6,
   "metadata": {},
   "outputs": [],
   "source": [
    "def split_rows_columns(input_string):\n",
    "    \n",
    "    row = input_string[:7]\n",
    "    column = input_string[-3:]\n",
    "    \n",
    "    return row, column"
   ]
  },
  {
   "cell_type": "code",
   "execution_count": 20,
   "metadata": {},
   "outputs": [
    {
     "data": {
      "text/plain": [
       "63.5"
      ]
     },
     "execution_count": 20,
     "metadata": {},
     "output_type": "execute_result"
    }
   ],
   "source": [
    "127/2"
   ]
  },
  {
   "cell_type": "code",
   "execution_count": 25,
   "metadata": {},
   "outputs": [],
   "source": [
    "import math\n",
    "\n",
    "def update_row_range(binary_character, min_row, max_row):\n",
    "    \n",
    "    # F means take FRONT, so take lower half\n",
    "    \n",
    "    if binary_character == 'F':\n",
    "        \n",
    "        max_row = math.floor((max_row + min_row) / 2)\n",
    "    \n",
    "    # B means take BACK, so take upper half\n",
    "    \n",
    "    elif binary_character == 'B':\n",
    "        \n",
    "        min_row = math.ceil((max_row + min_row) / 2)\n",
    "        \n",
    "        \n",
    "    else:\n",
    "        \n",
    "        print('SOMETHING WENT HORRIBLY WRONG.')\n",
    "        \n",
    "    return min_row, max_row\n",
    "    \n",
    "\n",
    "def find_row(row_string):\n",
    "    \n",
    "    # change if necessary\n",
    "    number_of_rows = 128\n",
    "    \n",
    "    # set boundaries\n",
    "    min_row = 0\n",
    "    max_row = number_of_rows - 1\n",
    "    \n",
    "    for binary_character in row_string:\n",
    "        \n",
    "        min_row, max_row = update_row_range(binary_character, min_row, max_row)\n",
    "        \n",
    "#         print(f'min_row: {min_row}')\n",
    "#         print(f'max_row: {max_row}')\n",
    "#         print()\n",
    "        \n",
    "    if min_row == max_row:\n",
    "        \n",
    "        return min_row\n",
    "    \n",
    "    else:\n",
    "        \n",
    "        print('SOMETHING WENT HORRIBLY WRONG.')"
   ]
  },
  {
   "cell_type": "code",
   "execution_count": 28,
   "metadata": {},
   "outputs": [],
   "source": [
    "import math\n",
    "\n",
    "def update_col_range(binary_character, min_col, max_col):\n",
    "    \n",
    "    # L means take LEFT, so take lower half\n",
    "    \n",
    "    if binary_character == 'L':\n",
    "        \n",
    "        max_col = math.floor((max_col + min_col) / 2)\n",
    "    \n",
    "    # R means take RIGHT, so take upper half\n",
    "    \n",
    "    elif binary_character == 'R':\n",
    "        \n",
    "        min_col = math.ceil((max_col + min_col) / 2)\n",
    "        \n",
    "        \n",
    "    else:\n",
    "        \n",
    "        print('SOMETHING WENT HORRIBLY WRONG.')\n",
    "        \n",
    "    return min_col, max_col\n",
    "    \n",
    "\n",
    "def find_col(col_string):\n",
    "    \n",
    "    # change if necessary\n",
    "    number_of_cols = 8\n",
    "    \n",
    "    # set boundaries\n",
    "    min_col = 0\n",
    "    max_col = number_of_cols - 1\n",
    "    \n",
    "    for binary_character in col_string:\n",
    "        \n",
    "        min_col, max_col = update_col_range(binary_character, min_col, max_col)\n",
    "        \n",
    "    if min_col == max_col:\n",
    "        \n",
    "        return min_col\n",
    "    \n",
    "    else:\n",
    "        \n",
    "        print('SOMETHING WENT HORRIBLY WRONG.')"
   ]
  },
  {
   "cell_type": "code",
   "execution_count": 26,
   "metadata": {},
   "outputs": [],
   "source": [
    "test_row, test_column = split_rows_columns(sample_puzzle_input_1)"
   ]
  },
  {
   "cell_type": "code",
   "execution_count": 27,
   "metadata": {},
   "outputs": [
    {
     "name": "stdout",
     "output_type": "stream",
     "text": [
      "70\n"
     ]
    }
   ],
   "source": [
    "print(find_row(test_row))"
   ]
  },
  {
   "cell_type": "code",
   "execution_count": 29,
   "metadata": {},
   "outputs": [
    {
     "name": "stdout",
     "output_type": "stream",
     "text": [
      "7\n"
     ]
    }
   ],
   "source": [
    "print(find_col(test_column))"
   ]
  },
  {
   "cell_type": "code",
   "execution_count": 34,
   "metadata": {},
   "outputs": [],
   "source": [
    "def calculate_seat_ID(input_string):\n",
    "    \n",
    "    row_string, column_string = split_rows_columns(input_string)\n",
    "    \n",
    "    row, column = find_row(row_string), find_col(column_string)\n",
    "    \n",
    "    return (row * 8) + column"
   ]
  },
  {
   "cell_type": "code",
   "execution_count": 36,
   "metadata": {},
   "outputs": [
    {
     "name": "stdout",
     "output_type": "stream",
     "text": [
      "567\n",
      "119\n",
      "820\n"
     ]
    }
   ],
   "source": [
    "print(calculate_seat_ID(sample_puzzle_input_1))\n",
    "print(calculate_seat_ID(sample_puzzle_input_2))\n",
    "print(calculate_seat_ID(sample_puzzle_input_3))"
   ]
  },
  {
   "cell_type": "code",
   "execution_count": 38,
   "metadata": {},
   "outputs": [
    {
     "name": "stdout",
     "output_type": "stream",
     "text": [
      "919\n"
     ]
    }
   ],
   "source": [
    "id_list = []\n",
    "for input_string in puzzle_input:\n",
    "    id_list.append(calculate_seat_ID(input_string))\n",
    "print(max(id_list))"
   ]
  },
  {
   "cell_type": "markdown",
   "metadata": {},
   "source": [
    "--- Part Two ---\n",
    "\n",
    "Ding! The \"fasten seat belt\" signs have turned on. Time to find your seat.\n",
    "\n",
    "It's a completely full flight, so your seat should be the only missing boarding pass in your list. However, there's a catch: some of the seats at the very front and back of the plane don't exist on this aircraft, so they'll be missing from your list as well.\n",
    "\n",
    "Your seat wasn't at the very front or back, though; the seats with IDs +1 and -1 from yours will be in your list.\n",
    "\n",
    "What is the ID of your seat?\n"
   ]
  },
  {
   "cell_type": "code",
   "execution_count": 47,
   "metadata": {},
   "outputs": [],
   "source": [
    "import numpy as np\n",
    "\n",
    "import matplotlib as plt\n",
    "%matplotlib inline"
   ]
  },
  {
   "cell_type": "code",
   "execution_count": 50,
   "metadata": {},
   "outputs": [],
   "source": [
    "def return_row_col(input_string):\n",
    "    \n",
    "    row_string, column_string = split_rows_columns(input_string)\n",
    "    \n",
    "    row, column = find_row(row_string), find_col(column_string)\n",
    "    \n",
    "    return row, column"
   ]
  },
  {
   "cell_type": "code",
   "execution_count": 51,
   "metadata": {},
   "outputs": [],
   "source": [
    "row_col_list = []\n",
    "for input_string in puzzle_input:\n",
    "    row, col = return_row_col(input_string)\n",
    "    row_col_list.append([row, col])"
   ]
  },
  {
   "cell_type": "code",
   "execution_count": 53,
   "metadata": {},
   "outputs": [
    {
     "name": "stdout",
     "output_type": "stream",
     "text": [
      "row: 0, col: 0, id: 0\n",
      "row: 0, col: 1, id: 1\n",
      "row: 0, col: 2, id: 2\n",
      "row: 0, col: 3, id: 3\n",
      "row: 0, col: 4, id: 4\n",
      "row: 0, col: 5, id: 5\n",
      "row: 0, col: 6, id: 6\n",
      "row: 0, col: 7, id: 7\n",
      "row: 1, col: 0, id: 8\n",
      "row: 1, col: 1, id: 9\n",
      "row: 1, col: 2, id: 10\n",
      "row: 1, col: 3, id: 11\n",
      "row: 1, col: 4, id: 12\n",
      "row: 1, col: 5, id: 13\n",
      "row: 1, col: 6, id: 14\n",
      "row: 1, col: 7, id: 15\n",
      "row: 2, col: 0, id: 16\n",
      "row: 2, col: 1, id: 17\n",
      "row: 2, col: 2, id: 18\n",
      "row: 2, col: 3, id: 19\n",
      "row: 2, col: 4, id: 20\n",
      "row: 2, col: 5, id: 21\n",
      "row: 2, col: 6, id: 22\n",
      "row: 2, col: 7, id: 23\n",
      "row: 3, col: 0, id: 24\n",
      "row: 3, col: 1, id: 25\n",
      "row: 3, col: 2, id: 26\n",
      "row: 3, col: 3, id: 27\n",
      "row: 3, col: 4, id: 28\n",
      "row: 3, col: 5, id: 29\n",
      "row: 3, col: 6, id: 30\n",
      "row: 3, col: 7, id: 31\n",
      "row: 4, col: 0, id: 32\n",
      "row: 4, col: 1, id: 33\n",
      "row: 4, col: 2, id: 34\n",
      "row: 4, col: 3, id: 35\n",
      "row: 4, col: 4, id: 36\n",
      "row: 4, col: 5, id: 37\n",
      "row: 4, col: 6, id: 38\n",
      "row: 4, col: 7, id: 39\n",
      "row: 5, col: 0, id: 40\n",
      "row: 5, col: 1, id: 41\n",
      "row: 5, col: 2, id: 42\n",
      "row: 5, col: 3, id: 43\n",
      "row: 5, col: 4, id: 44\n",
      "row: 5, col: 5, id: 45\n",
      "row: 5, col: 6, id: 46\n",
      "row: 5, col: 7, id: 47\n",
      "row: 6, col: 0, id: 48\n",
      "row: 6, col: 1, id: 49\n",
      "row: 6, col: 2, id: 50\n",
      "row: 6, col: 3, id: 51\n",
      "row: 6, col: 4, id: 52\n",
      "row: 6, col: 5, id: 53\n",
      "row: 6, col: 6, id: 54\n",
      "row: 6, col: 7, id: 55\n",
      "row: 7, col: 0, id: 56\n",
      "row: 7, col: 1, id: 57\n",
      "row: 7, col: 2, id: 58\n",
      "row: 7, col: 3, id: 59\n",
      "row: 7, col: 4, id: 60\n",
      "row: 7, col: 5, id: 61\n",
      "row: 7, col: 6, id: 62\n",
      "row: 7, col: 7, id: 63\n",
      "row: 8, col: 0, id: 64\n",
      "row: 8, col: 1, id: 65\n",
      "row: 8, col: 2, id: 66\n",
      "row: 8, col: 3, id: 67\n",
      "row: 8, col: 4, id: 68\n",
      "row: 8, col: 5, id: 69\n",
      "row: 8, col: 6, id: 70\n",
      "row: 8, col: 7, id: 71\n",
      "row: 9, col: 0, id: 72\n",
      "row: 9, col: 1, id: 73\n",
      "row: 9, col: 2, id: 74\n",
      "row: 9, col: 3, id: 75\n",
      "row: 9, col: 4, id: 76\n",
      "row: 9, col: 5, id: 77\n",
      "row: 9, col: 6, id: 78\n",
      "row: 9, col: 7, id: 79\n",
      "row: 80, col: 2, id: 642\n",
      "row: 115, col: 0, id: 920\n",
      "row: 115, col: 1, id: 921\n",
      "row: 115, col: 2, id: 922\n",
      "row: 115, col: 3, id: 923\n",
      "row: 115, col: 4, id: 924\n",
      "row: 115, col: 5, id: 925\n",
      "row: 115, col: 6, id: 926\n",
      "row: 115, col: 7, id: 927\n",
      "row: 116, col: 0, id: 928\n",
      "row: 116, col: 1, id: 929\n",
      "row: 116, col: 2, id: 930\n",
      "row: 116, col: 3, id: 931\n",
      "row: 116, col: 4, id: 932\n",
      "row: 116, col: 5, id: 933\n",
      "row: 116, col: 6, id: 934\n",
      "row: 116, col: 7, id: 935\n",
      "row: 117, col: 0, id: 936\n",
      "row: 117, col: 1, id: 937\n",
      "row: 117, col: 2, id: 938\n",
      "row: 117, col: 3, id: 939\n",
      "row: 117, col: 4, id: 940\n",
      "row: 117, col: 5, id: 941\n",
      "row: 117, col: 6, id: 942\n",
      "row: 117, col: 7, id: 943\n",
      "row: 118, col: 0, id: 944\n",
      "row: 118, col: 1, id: 945\n",
      "row: 118, col: 2, id: 946\n",
      "row: 118, col: 3, id: 947\n",
      "row: 118, col: 4, id: 948\n",
      "row: 118, col: 5, id: 949\n",
      "row: 118, col: 6, id: 950\n",
      "row: 118, col: 7, id: 951\n",
      "row: 119, col: 0, id: 952\n",
      "row: 119, col: 1, id: 953\n",
      "row: 119, col: 2, id: 954\n",
      "row: 119, col: 3, id: 955\n",
      "row: 119, col: 4, id: 956\n",
      "row: 119, col: 5, id: 957\n",
      "row: 119, col: 6, id: 958\n",
      "row: 119, col: 7, id: 959\n",
      "row: 120, col: 0, id: 960\n",
      "row: 120, col: 1, id: 961\n",
      "row: 120, col: 2, id: 962\n",
      "row: 120, col: 3, id: 963\n",
      "row: 120, col: 4, id: 964\n",
      "row: 120, col: 5, id: 965\n",
      "row: 120, col: 6, id: 966\n",
      "row: 120, col: 7, id: 967\n",
      "row: 121, col: 0, id: 968\n",
      "row: 121, col: 1, id: 969\n",
      "row: 121, col: 2, id: 970\n",
      "row: 121, col: 3, id: 971\n",
      "row: 121, col: 4, id: 972\n",
      "row: 121, col: 5, id: 973\n",
      "row: 121, col: 6, id: 974\n",
      "row: 121, col: 7, id: 975\n",
      "row: 122, col: 0, id: 976\n",
      "row: 122, col: 1, id: 977\n",
      "row: 122, col: 2, id: 978\n",
      "row: 122, col: 3, id: 979\n",
      "row: 122, col: 4, id: 980\n",
      "row: 122, col: 5, id: 981\n",
      "row: 122, col: 6, id: 982\n",
      "row: 122, col: 7, id: 983\n",
      "row: 123, col: 0, id: 984\n",
      "row: 123, col: 1, id: 985\n",
      "row: 123, col: 2, id: 986\n",
      "row: 123, col: 3, id: 987\n",
      "row: 123, col: 4, id: 988\n",
      "row: 123, col: 5, id: 989\n",
      "row: 123, col: 6, id: 990\n",
      "row: 123, col: 7, id: 991\n",
      "row: 124, col: 0, id: 992\n",
      "row: 124, col: 1, id: 993\n",
      "row: 124, col: 2, id: 994\n",
      "row: 124, col: 3, id: 995\n",
      "row: 124, col: 4, id: 996\n",
      "row: 124, col: 5, id: 997\n",
      "row: 124, col: 6, id: 998\n",
      "row: 124, col: 7, id: 999\n",
      "row: 125, col: 0, id: 1000\n",
      "row: 125, col: 1, id: 1001\n",
      "row: 125, col: 2, id: 1002\n",
      "row: 125, col: 3, id: 1003\n",
      "row: 125, col: 4, id: 1004\n",
      "row: 125, col: 5, id: 1005\n",
      "row: 125, col: 6, id: 1006\n",
      "row: 125, col: 7, id: 1007\n",
      "row: 126, col: 0, id: 1008\n",
      "row: 126, col: 1, id: 1009\n",
      "row: 126, col: 2, id: 1010\n",
      "row: 126, col: 3, id: 1011\n",
      "row: 126, col: 4, id: 1012\n",
      "row: 126, col: 5, id: 1013\n",
      "row: 126, col: 6, id: 1014\n",
      "row: 126, col: 7, id: 1015\n",
      "row: 127, col: 0, id: 1016\n",
      "row: 127, col: 1, id: 1017\n",
      "row: 127, col: 2, id: 1018\n",
      "row: 127, col: 3, id: 1019\n",
      "row: 127, col: 4, id: 1020\n",
      "row: 127, col: 5, id: 1021\n",
      "row: 127, col: 6, id: 1022\n",
      "row: 127, col: 7, id: 1023\n"
     ]
    }
   ],
   "source": [
    "for row_index in range(128):\n",
    "    for col_index in range(8):\n",
    "        if [row_index, col_index] not in row_col_list:\n",
    "            print(f'row: {row_index}, col: {col_index}, id: {(row_index * 8) + col_index}')"
   ]
  },
  {
   "cell_type": "markdown",
   "metadata": {},
   "source": [
    "There's a jump from row 9 to row 80 and then to row 115, so the missing seat must be row 80, col 2. \n",
    "ID: 642."
   ]
  },
  {
   "cell_type": "code",
   "execution_count": null,
   "metadata": {},
   "outputs": [],
   "source": []
  }
 ],
 "metadata": {
  "kernelspec": {
   "display_name": "Python 3",
   "language": "python",
   "name": "python3"
  },
  "language_info": {
   "codemirror_mode": {
    "name": "ipython",
    "version": 3
   },
   "file_extension": ".py",
   "mimetype": "text/x-python",
   "name": "python",
   "nbconvert_exporter": "python",
   "pygments_lexer": "ipython3",
   "version": "3.7.3"
  }
 },
 "nbformat": 4,
 "nbformat_minor": 2
}
