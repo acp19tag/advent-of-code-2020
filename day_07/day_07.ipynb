{
 "cells": [
  {
   "cell_type": "markdown",
   "metadata": {},
   "source": [
    "Instructions: \n",
    "\n",
    "--- Day 7: Handy Haversacks ---\n",
    "\n",
    "You land at the regional airport in time for your next flight. In fact, it looks like you'll even have time to grab some food: all flights are currently delayed due to issues in luggage processing.\n",
    "\n",
    "Due to recent aviation regulations, many rules (your puzzle input) are being enforced about bags and their contents; bags must be color-coded and must contain specific quantities of other color-coded bags. Apparently, nobody responsible for these regulations considered how long they would take to enforce!\n",
    "\n",
    "For example, consider the following rules:\n",
    "\n",
    "light red bags contain 1 bright white bag, 2 muted yellow bags.\n",
    "dark orange bags contain 3 bright white bags, 4 muted yellow bags.\n",
    "bright white bags contain 1 shiny gold bag.\n",
    "muted yellow bags contain 2 shiny gold bags, 9 faded blue bags.\n",
    "shiny gold bags contain 1 dark olive bag, 2 vibrant plum bags.\n",
    "dark olive bags contain 3 faded blue bags, 4 dotted black bags.\n",
    "vibrant plum bags contain 5 faded blue bags, 6 dotted black bags.\n",
    "faded blue bags contain no other bags.\n",
    "dotted black bags contain no other bags.\n",
    "\n",
    "These rules specify the required contents for 9 bag types. In this example, every faded blue bag is empty, every vibrant plum bag contains 11 bags (5 faded blue and 6 dotted black), and so on.\n",
    "\n",
    "You have a shiny gold bag. If you wanted to carry it in at least one other bag, how many different bag colors would be valid for the outermost bag? (In other words: how many colors can, eventually, contain at least one shiny gold bag?)\n",
    "\n",
    "In the above rules, the following options would be available to you:\n",
    "\n",
    "    A bright white bag, which can hold your shiny gold bag directly.\n",
    "    A muted yellow bag, which can hold your shiny gold bag directly, plus some other bags.\n",
    "    A dark orange bag, which can hold bright white and muted yellow bags, either of which could then hold your shiny gold bag.\n",
    "    A light red bag, which can hold bright white and muted yellow bags, either of which could then hold your shiny gold bag.\n",
    "\n",
    "So, in this example, the number of bag colors that can eventually contain at least one shiny gold bag is 4.\n",
    "\n",
    "How many bag colors can eventually contain at least one shiny gold bag? (The list of rules is quite long; make sure you get all of it.)\n"
   ]
  },
  {
   "cell_type": "code",
   "execution_count": 71,
   "metadata": {},
   "outputs": [],
   "source": [
    "puzzle_input = []\n",
    "\n",
    "with open('puzzle_input') as infile:\n",
    "    for line in infile: \n",
    "        puzzle_input.append(line.rstrip('\\n'))"
   ]
  },
  {
   "cell_type": "code",
   "execution_count": 2,
   "metadata": {},
   "outputs": [],
   "source": [
    "sample_puzzle_input = [\n",
    "    'light red bags contain 1 bright white bag, 2 muted yellow bags.',\n",
    "'dark orange bags contain 3 bright white bags, 4 muted yellow bags.',\n",
    "'bright white bags contain 1 shiny gold bag.',\n",
    "'muted yellow bags contain 2 shiny gold bags, 9 faded blue bags.',\n",
    "'shiny gold bags contain 1 dark olive bag, 2 vibrant plum bags.',\n",
    "'dark olive bags contain 3 faded blue bags, 4 dotted black bags.',\n",
    "'vibrant plum bags contain 5 faded blue bags, 6 dotted black bags.',\n",
    "'faded blue bags contain no other bags.',\n",
    "'dotted black bags contain no other bags.'\n",
    "]"
   ]
  },
  {
   "cell_type": "code",
   "execution_count": 33,
   "metadata": {},
   "outputs": [],
   "source": [
    "import re\n",
    "\n",
    "def extract_bag_dict_entry(raw_string):\n",
    "    \n",
    "    # first extract the bag in question (main bag)\n",
    "    main_bag_search = re.search('(.+ .+) bags contain ', raw_string)\n",
    "    \n",
    "    main_bag = main_bag_search.group(1)\n",
    "    \n",
    "    # extract the other bit of info\n",
    "    contents_raw = re.sub('.+ .+ bags contain ', '', raw_string)\n",
    "    \n",
    "    contents_match = re.findall('(\\d+) (.+? .+?) bag', contents_raw)\n",
    "        \n",
    "    bag_contents_dict = {}\n",
    "\n",
    "    for contents_description in contents_match:\n",
    "\n",
    "        bag_contents_dict[contents_description[1]] = int(contents_description[0])\n",
    "\n",
    "    return {main_bag: bag_contents_dict}"
   ]
  },
  {
   "cell_type": "code",
   "execution_count": 35,
   "metadata": {},
   "outputs": [
    {
     "name": "stdout",
     "output_type": "stream",
     "text": [
      "{'light red': {'bright white': 1, 'muted yellow': 2}}\n"
     ]
    }
   ],
   "source": [
    "print(extract_bag_dict_entry(sample_puzzle_input[0]))"
   ]
  },
  {
   "cell_type": "code",
   "execution_count": 43,
   "metadata": {},
   "outputs": [
    {
     "name": "stdout",
     "output_type": "stream",
     "text": [
      "light red\n"
     ]
    }
   ],
   "source": [
    "test_dict = extract_bag_dict_entry(sample_puzzle_input[0])\n",
    "print(list(test_dict.keys())[0])"
   ]
  },
  {
   "cell_type": "code",
   "execution_count": 54,
   "metadata": {},
   "outputs": [],
   "source": [
    "def create_bag_dict(puzzle_input):\n",
    "    \n",
    "    combined_bag_dict = {}\n",
    "    \n",
    "    for line in puzzle_input:\n",
    "        \n",
    "        current_bag_dict = extract_bag_dict_entry(line)\n",
    "        \n",
    "        # combine the two dictionaries using this nifty line\n",
    "        combined_bag_dict = {**combined_bag_dict, **current_bag_dict}\n",
    "        \n",
    "    return combined_bag_dict"
   ]
  },
  {
   "cell_type": "code",
   "execution_count": 57,
   "metadata": {},
   "outputs": [
    {
     "name": "stdout",
     "output_type": "stream",
     "text": [
      "{'light red': {'bright white': 1, 'muted yellow': 2}, 'dark orange': {'bright white': 3, 'muted yellow': 4}, 'bright white': {'shiny gold': 1}, 'muted yellow': {'shiny gold': 2, 'faded blue': 9}, 'shiny gold': {'dark olive': 1, 'vibrant plum': 2}, 'dark olive': {'faded blue': 3, 'dotted black': 4}, 'vibrant plum': {'faded blue': 5, 'dotted black': 6}, 'faded blue': {}, 'dotted black': {}}\n"
     ]
    }
   ],
   "source": [
    "bag_dict = create_bag_dict(sample_puzzle_input)\n",
    "print(bag_dict)"
   ]
  },
  {
   "cell_type": "code",
   "execution_count": 56,
   "metadata": {},
   "outputs": [],
   "source": [
    "def check_if_bag_can_fit(bag_to_fit, bigger_bag, bag_dict):\n",
    "    \n",
    "    # if the bag fits directly into the bag, it's a hit (so True)\n",
    "    if bag_to_fit in bag_dict[bigger_bag]:\n",
    "        \n",
    "        return True\n",
    "    \n",
    "    # if the bag can't fit anything in, it's a miss (so False)\n",
    "    elif not bag_dict[bigger_bag]:\n",
    "        \n",
    "        return False\n",
    "    \n",
    "    # if the bag doesn't fit directly, but can fit other bags, look at those:\n",
    "    else:\n",
    "        \n",
    "        return any([check_if_bag_can_fit(bag_to_fit, bag, bag_dict) for bag in bag_dict[bigger_bag]])       \n",
    "        "
   ]
  },
  {
   "cell_type": "code",
   "execution_count": 65,
   "metadata": {},
   "outputs": [
    {
     "name": "stdout",
     "output_type": "stream",
     "text": [
      "False\n"
     ]
    }
   ],
   "source": [
    "print(check_if_bag_can_fit('shiny gold', 'vibrant plum', bag_dict))"
   ]
  },
  {
   "cell_type": "code",
   "execution_count": 68,
   "metadata": {},
   "outputs": [],
   "source": [
    "def count_bag_fits(bag_to_fit, puzzle_input):\n",
    "    \n",
    "    bag_dict = create_bag_dict(puzzle_input)\n",
    "    \n",
    "    counter = 0\n",
    "    \n",
    "    for bigger_bag in bag_dict:\n",
    "        \n",
    "        if check_if_bag_can_fit(bag_to_fit, bigger_bag, bag_dict):\n",
    "            \n",
    "            counter += 1\n",
    "            \n",
    "    return counter"
   ]
  },
  {
   "cell_type": "code",
   "execution_count": 72,
   "metadata": {},
   "outputs": [
    {
     "data": {
      "text/plain": [
       "126"
      ]
     },
     "execution_count": 72,
     "metadata": {},
     "output_type": "execute_result"
    }
   ],
   "source": [
    "count_bag_fits('shiny gold', puzzle_input)"
   ]
  },
  {
   "cell_type": "markdown",
   "metadata": {},
   "source": [
    "--- Part Two ---\n",
    "\n",
    "It's getting pretty expensive to fly these days - not because of ticket prices, but because of the ridiculous number of bags you need to buy!\n",
    "\n",
    "Consider again your shiny gold bag and the rules from the above example:\n",
    "\n",
    "    faded blue bags contain 0 other bags.\n",
    "    dotted black bags contain 0 other bags.\n",
    "    vibrant plum bags contain 11 other bags: 5 faded blue bags and 6 dotted black bags.\n",
    "    dark olive bags contain 7 other bags: 3 faded blue bags and 4 dotted black bags.\n",
    "\n",
    "So, a single shiny gold bag must contain 1 dark olive bag (and the 7 bags within it) plus 2 vibrant plum bags (and the 11 bags within each of those): 1 + 1*7 + 2 + 2*11 = 32 bags!\n",
    "\n",
    "Of course, the actual rules have a small chance of going several levels deeper than this example; be sure to count all of the bags, even if the nesting becomes topologically impractical!\n",
    "\n",
    "Here's another example:\n",
    "\n",
    "shiny gold bags contain 2 dark red bags.\n",
    "dark red bags contain 2 dark orange bags.\n",
    "dark orange bags contain 2 dark yellow bags.\n",
    "dark yellow bags contain 2 dark green bags.\n",
    "dark green bags contain 2 dark blue bags.\n",
    "dark blue bags contain 2 dark violet bags.\n",
    "dark violet bags contain no other bags.\n",
    "\n",
    "In this example, a single shiny gold bag must contain 126 other bags.\n",
    "\n",
    "How many individual bags are required inside your single shiny gold bag?\n"
   ]
  },
  {
   "cell_type": "code",
   "execution_count": 73,
   "metadata": {},
   "outputs": [],
   "source": [
    "sample_puzzle_input_2 = [\n",
    "    'shiny gold bags contain 2 dark red bags.',\n",
    "'dark red bags contain 2 dark orange bags.',\n",
    "'dark orange bags contain 2 dark yellow bags.',\n",
    "'dark yellow bags contain 2 dark green bags.',\n",
    "'dark green bags contain 2 dark blue bags.',\n",
    "'dark blue bags contain 2 dark violet bags.',\n",
    "'dark violet bags contain no other bags.'\n",
    "]"
   ]
  },
  {
   "cell_type": "code",
   "execution_count": 74,
   "metadata": {},
   "outputs": [
    {
     "data": {
      "text/plain": [
       "{'light red': {'bright white': 1, 'muted yellow': 2},\n",
       " 'dark orange': {'bright white': 3, 'muted yellow': 4},\n",
       " 'bright white': {'shiny gold': 1},\n",
       " 'muted yellow': {'shiny gold': 2, 'faded blue': 9},\n",
       " 'shiny gold': {'dark olive': 1, 'vibrant plum': 2},\n",
       " 'dark olive': {'faded blue': 3, 'dotted black': 4},\n",
       " 'vibrant plum': {'faded blue': 5, 'dotted black': 6},\n",
       " 'faded blue': {},\n",
       " 'dotted black': {}}"
      ]
     },
     "execution_count": 74,
     "metadata": {},
     "output_type": "execute_result"
    }
   ],
   "source": [
    "bag_dict"
   ]
  },
  {
   "cell_type": "code",
   "execution_count": 79,
   "metadata": {},
   "outputs": [
    {
     "data": {
      "text/plain": [
       "0"
      ]
     },
     "execution_count": 79,
     "metadata": {},
     "output_type": "execute_result"
    }
   ],
   "source": [
    "sum(bag_dict['faded blue'].values())"
   ]
  },
  {
   "cell_type": "code",
   "execution_count": 88,
   "metadata": {},
   "outputs": [],
   "source": [
    "def count_total_inner_bags(outer_bag, bag_dict, count=0):\n",
    "    \n",
    "    count = sum(bag_dict[outer_bag].values())\n",
    "    \n",
    "    # if the bag can contain other bags, add on how many bags should go into that bag\n",
    "    if bag_dict[outer_bag]:\n",
    "        \n",
    "        for inner_bag in bag_dict[outer_bag]:\n",
    "            \n",
    "            count += (count_total_inner_bags(inner_bag, bag_dict, count=count)) * bag_dict[outer_bag][inner_bag]\n",
    "            \n",
    "    return count"
   ]
  },
  {
   "cell_type": "code",
   "execution_count": 90,
   "metadata": {},
   "outputs": [],
   "source": [
    "def part_2_puzzle_answer(outer_bag, puzzle_input):\n",
    "    \n",
    "    bag_dict = create_bag_dict(puzzle_input)\n",
    "    \n",
    "    return count_total_inner_bags(outer_bag, bag_dict)"
   ]
  },
  {
   "cell_type": "code",
   "execution_count": 91,
   "metadata": {},
   "outputs": [
    {
     "name": "stdout",
     "output_type": "stream",
     "text": [
      "32\n"
     ]
    }
   ],
   "source": [
    "print(part_2_puzzle_answer('shiny gold', sample_puzzle_input))"
   ]
  },
  {
   "cell_type": "code",
   "execution_count": 92,
   "metadata": {},
   "outputs": [
    {
     "name": "stdout",
     "output_type": "stream",
     "text": [
      "126\n"
     ]
    }
   ],
   "source": [
    "print(part_2_puzzle_answer('shiny gold', sample_puzzle_input_2))"
   ]
  },
  {
   "cell_type": "code",
   "execution_count": 93,
   "metadata": {},
   "outputs": [
    {
     "name": "stdout",
     "output_type": "stream",
     "text": [
      "220149\n"
     ]
    }
   ],
   "source": [
    "print(part_2_puzzle_answer('shiny gold', puzzle_input))"
   ]
  },
  {
   "cell_type": "code",
   "execution_count": null,
   "metadata": {},
   "outputs": [],
   "source": []
  }
 ],
 "metadata": {
  "kernelspec": {
   "display_name": "Python 3",
   "language": "python",
   "name": "python3"
  },
  "language_info": {
   "codemirror_mode": {
    "name": "ipython",
    "version": 3
   },
   "file_extension": ".py",
   "mimetype": "text/x-python",
   "name": "python",
   "nbconvert_exporter": "python",
   "pygments_lexer": "ipython3",
   "version": "3.7.3"
  }
 },
 "nbformat": 4,
 "nbformat_minor": 2
}
