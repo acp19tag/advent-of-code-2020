{
 "cells": [
  {
   "cell_type": "markdown",
   "metadata": {},
   "source": [
    "Instructions: \n",
    "\n",
    "--- Day 12: Rain Risk ---\n",
    "\n",
    "Your ferry made decent progress toward the island, but the storm came in faster than anyone expected. The ferry needs to take evasive actions!\n",
    "\n",
    "Unfortunately, the ship's navigation computer seems to be malfunctioning; rather than giving a route directly to safety, it produced extremely circuitous instructions. When the captain uses the PA system to ask if anyone can help, you quickly volunteer.\n",
    "\n",
    "The navigation instructions (your puzzle input) consists of a sequence of single-character actions paired with integer input values. After staring at them for a few minutes, you work out what they probably mean:\n",
    "\n",
    "    Action N means to move north by the given value.\n",
    "    Action S means to move south by the given value.\n",
    "    Action E means to move east by the given value.\n",
    "    Action W means to move west by the given value.\n",
    "    Action L means to turn left the given number of degrees.\n",
    "    Action R means to turn right the given number of degrees.\n",
    "    Action F means to move forward by the given value in the direction the ship is currently facing.\n",
    "\n",
    "The ship starts by facing east. Only the L and R actions change the direction the ship is facing. (That is, if the ship is facing east and the next instruction is N10, the ship would move north 10 units, but would still move east if the following action were F.)\n",
    "\n",
    "For example:\n",
    "\n",
    "F10\n",
    "N3\n",
    "F7\n",
    "R90\n",
    "F11\n",
    "\n",
    "These instructions would be handled as follows:\n",
    "\n",
    "    F10 would move the ship 10 units east (because the ship starts by facing east) to east 10, north 0.\n",
    "    N3 would move the ship 3 units north to east 10, north 3.\n",
    "    F7 would move the ship another 7 units east (because the ship is still facing east) to east 17, north 3.\n",
    "    R90 would cause the ship to turn right by 90 degrees and face south; it remains at east 17, north 3.\n",
    "    F11 would move the ship 11 units south to east 17, south 8.\n",
    "\n",
    "At the end of these instructions, the ship's Manhattan distance (sum of the absolute values of its east/west position and its north/south position) from its starting position is 17 + 8 = 25.\n",
    "\n",
    "Figure out where the navigation instructions lead. What is the Manhattan distance between that location and the ship's starting position?\n"
   ]
  },
  {
   "cell_type": "code",
   "execution_count": 18,
   "metadata": {},
   "outputs": [],
   "source": [
    "puzzle_input = []\n",
    "\n",
    "with open('puzzle_input') as infile:\n",
    "    for line in infile: \n",
    "        puzzle_input.append(line.rstrip('\\n'))"
   ]
  },
  {
   "cell_type": "code",
   "execution_count": 19,
   "metadata": {},
   "outputs": [],
   "source": [
    "sample_puzzle_input = [\n",
    "    'F10',\n",
    "    'N3',\n",
    "    'F7',\n",
    "    'R90',\n",
    "    'F11'\n",
    "]"
   ]
  },
  {
   "cell_type": "code",
   "execution_count": 21,
   "metadata": {},
   "outputs": [],
   "source": [
    "# create a function that can handle a turn in 90 degree increments\n",
    "\n",
    "def turn(turn_direction, degrees, facing_direction):\n",
    "    \n",
    "    cardinal_points = ['N', 'E', 'S', 'W']\n",
    "    \n",
    "    index = cardinal_points.index(facing_direction)\n",
    "    \n",
    "    # if 'left', it's a negative turn\n",
    "    if turn_direction == 'L':\n",
    "        degrees *= -1\n",
    "    \n",
    "    # update the index \n",
    "    new_index = int(((degrees/90) + index) % len(cardinal_points))\n",
    "    \n",
    "    return cardinal_points[new_index]\n",
    "    "
   ]
  },
  {
   "cell_type": "code",
   "execution_count": 22,
   "metadata": {},
   "outputs": [
    {
     "data": {
      "text/plain": [
       "'N'"
      ]
     },
     "execution_count": 22,
     "metadata": {},
     "output_type": "execute_result"
    }
   ],
   "source": [
    "turn('R', 360, 'N')"
   ]
  },
  {
   "cell_type": "code",
   "execution_count": 27,
   "metadata": {},
   "outputs": [],
   "source": [
    "def parse_instruction(instruction, facing_direction):\n",
    "    \n",
    "    direction, value = instruction[0], int(instruction[1:])\n",
    "    \n",
    "    # if forward, move in that direction equal to the value and keep the facing direction\n",
    "    if direction == 'F':\n",
    "        \n",
    "        new_movement_direction = facing_direction\n",
    "        \n",
    "        return new_movement_direction, value, facing_direction\n",
    "    \n",
    "    elif direction == 'L' or direction == 'R':\n",
    "        \n",
    "        movement_direction = 'N' # just a placeholder. 0 movement returned.\n",
    "        \n",
    "        new_facing_direction = turn(direction, value, facing_direction)\n",
    "        \n",
    "        new_value = 0\n",
    "\n",
    "        return movement_direction, new_value, new_facing_direction\n",
    "    \n",
    "    else:\n",
    "        \n",
    "        movement_direction = direction\n",
    "        \n",
    "        return movement_direction, value, facing_direction       \n",
    "        "
   ]
  },
  {
   "cell_type": "code",
   "execution_count": 30,
   "metadata": {},
   "outputs": [],
   "source": [
    "def create_movement_dictionary(puzzle_input, starting_direction='E'):\n",
    "\n",
    "    facing_direction = starting_direction\n",
    "    \n",
    "    movement_dictionary = {\n",
    "        'N':0,\n",
    "        'E':0,\n",
    "        'S':0,\n",
    "        'W':0\n",
    "    }\n",
    "    \n",
    "    for instruction in puzzle_input:\n",
    "        \n",
    "        movement_direction, value, facing_direction = parse_instruction(instruction, facing_direction)\n",
    "        \n",
    "        movement_dictionary[movement_direction] += value\n",
    "        \n",
    "    return movement_dictionary"
   ]
  },
  {
   "cell_type": "code",
   "execution_count": 31,
   "metadata": {},
   "outputs": [
    {
     "data": {
      "text/plain": [
       "{'N': 3, 'E': 17, 'S': 11, 'W': 0}"
      ]
     },
     "execution_count": 31,
     "metadata": {},
     "output_type": "execute_result"
    }
   ],
   "source": [
    "create_movement_dictionary(sample_puzzle_input)"
   ]
  },
  {
   "cell_type": "code",
   "execution_count": 35,
   "metadata": {},
   "outputs": [],
   "source": [
    "def find_manhattan_distance(movement_dictionary):\n",
    "    \n",
    "    NS = abs(movement_dictionary['N'] - movement_dictionary['S'])\n",
    "    EW = abs(movement_dictionary['E'] - movement_dictionary['W'])\n",
    "    \n",
    "    return NS + EW"
   ]
  },
  {
   "cell_type": "code",
   "execution_count": 36,
   "metadata": {},
   "outputs": [
    {
     "data": {
      "text/plain": [
       "25"
      ]
     },
     "execution_count": 36,
     "metadata": {},
     "output_type": "execute_result"
    }
   ],
   "source": [
    "find_manhattan_distance(create_movement_dictionary(sample_puzzle_input))"
   ]
  },
  {
   "cell_type": "code",
   "execution_count": 37,
   "metadata": {},
   "outputs": [
    {
     "data": {
      "text/plain": [
       "508"
      ]
     },
     "execution_count": 37,
     "metadata": {},
     "output_type": "execute_result"
    }
   ],
   "source": [
    "find_manhattan_distance(create_movement_dictionary(puzzle_input))"
   ]
  },
  {
   "cell_type": "markdown",
   "metadata": {},
   "source": [
    "--- Part Two ---\n",
    "\n",
    "Before you can give the destination to the captain, you realize that the actual action meanings were printed on the back of the instructions the whole time.\n",
    "\n",
    "Almost all of the actions indicate how to move a waypoint which is relative to the ship's position:\n",
    "\n",
    "    Action N means to move the waypoint north by the given value.\n",
    "    Action S means to move the waypoint south by the given value.\n",
    "    Action E means to move the waypoint east by the given value.\n",
    "    Action W means to move the waypoint west by the given value.\n",
    "    Action L means to rotate the waypoint around the ship left (counter-clockwise) the given number of degrees.\n",
    "    Action R means to rotate the waypoint around the ship right (clockwise) the given number of degrees.\n",
    "    Action F means to move forward to the waypoint a number of times equal to the given value.\n",
    "\n",
    "The waypoint starts 10 units east and 1 unit north relative to the ship. The waypoint is relative to the ship; that is, if the ship moves, the waypoint moves with it.\n",
    "\n",
    "For example, using the same instructions as above:\n",
    "\n",
    "    F10 moves the ship to the waypoint 10 times (a total of 100 units east and 10 units north), leaving the ship at east 100, north 10. The waypoint stays 10 units east and 1 unit north of the ship.\n",
    "    N3 moves the waypoint 3 units north to 10 units east and 4 units north of the ship. The ship remains at east 100, north 10.\n",
    "    F7 moves the ship to the waypoint 7 times (a total of 70 units east and 28 units north), leaving the ship at east 170, north 38. The waypoint stays 10 units east and 4 units north of the ship.\n",
    "    R90 rotates the waypoint around the ship clockwise 90 degrees, moving it to 4 units east and 10 units south of the ship. The ship remains at east 170, north 38.\n",
    "    F11 moves the ship to the waypoint 11 times (a total of 44 units east and 110 units south), leaving the ship at east 214, south 72. The waypoint stays 4 units east and 10 units south of the ship.\n",
    "\n",
    "After these operations, the ship's Manhattan distance from its starting position is 214 + 72 = 286.\n",
    "\n",
    "Figure out where the navigation instructions actually lead. What is the Manhattan distance between that location and the ship's starting position?\n"
   ]
  },
  {
   "cell_type": "code",
   "execution_count": 45,
   "metadata": {},
   "outputs": [],
   "source": [
    "# modify the turn function to account for the waypoint\n",
    "\n",
    "from collections import deque # for .rotate fucntion\n",
    "\n",
    "def turn(turn_direction, degrees, waypoint_dictionary):\n",
    "\n",
    "    cardinal_points = deque(['N', 'E', 'S', 'W']) # this is a special construct that can be 'rotated'\n",
    "\n",
    "    cardinal_values = [waypoint_dictionary[direction] for direction in cardinal_points]\n",
    "\n",
    "    # if 'right', it's a positive turn which corresponds to a negative rotatation of the deque construct\n",
    "    if turn_direction == 'R':\n",
    "        degrees *= -1\n",
    "\n",
    "    rotate_value = int(degrees/90)\n",
    "\n",
    "    # shift the cardinal points\n",
    "    cardinal_points.rotate(rotate_value) \n",
    "\n",
    "    updated_waypoint_dictionary = dict(zip(cardinal_points, cardinal_values))\n",
    "            \n",
    "    return updated_waypoint_dictionary\n",
    "    "
   ]
  },
  {
   "cell_type": "code",
   "execution_count": 62,
   "metadata": {},
   "outputs": [],
   "source": [
    "# modify the parse instruction function to account for the waypoint\n",
    "\n",
    "def parse_instruction(instruction, waypoint_dictionary):\n",
    "    \n",
    "    direction, value = instruction[0], int(instruction[1:])\n",
    "    \n",
    "    cardinal_points = ['N', 'E', 'S', 'W']\n",
    "    \n",
    "    movement_dictionary = {\n",
    "    'N':0,\n",
    "    'E':0,\n",
    "    'S':0,\n",
    "    'W':0\n",
    "        } # blank movement dictionary \n",
    "    \n",
    "    # if forward, move in the direction of the waypoint that many times\n",
    "    if direction == 'F':\n",
    "        \n",
    "        new_movement_dictionary = {\n",
    "                'N':waypoint_dictionary['N']*value,\n",
    "                'E':waypoint_dictionary['E']*value,\n",
    "                'S':waypoint_dictionary['S']*value,\n",
    "                'W':waypoint_dictionary['W']*value,\n",
    "        } # having some trouble with reordering here which makes zip tricker to use...\n",
    "        \n",
    "        return new_movement_dictionary, waypoint_dictionary\n",
    "    \n",
    "    elif direction == 'L' or direction == 'R':\n",
    "        \n",
    "        new_waypoint_dictionary = turn(direction, value, waypoint_dictionary)\n",
    "\n",
    "        return movement_dictionary, new_waypoint_dictionary\n",
    "    \n",
    "    else:\n",
    "        \n",
    "        waypoint_dictionary[direction] += value\n",
    "        \n",
    "        return movement_dictionary, waypoint_dictionary \n",
    "        "
   ]
  },
  {
   "cell_type": "code",
   "execution_count": 50,
   "metadata": {},
   "outputs": [
    {
     "name": "stdout",
     "output_type": "stream",
     "text": [
      "({'N': 10, 'E': 100, 'S': 0, 'W': 0}, {'N': 1, 'E': 10, 'S': 0, 'W': 0})\n",
      "({'N': 0, 'E': 0, 'S': 0, 'W': 0}, {'N': 4, 'E': 10, 'S': 0, 'W': 0})\n",
      "({'N': 28, 'E': 70, 'S': 0, 'W': 0}, {'N': 4, 'E': 10, 'S': 0, 'W': 0})\n",
      "({'N': 0, 'E': 0, 'S': 0, 'W': 0}, {'E': 4, 'S': 10, 'W': 0, 'N': 0})\n",
      "({'N': 44, 'E': 110, 'S': 0, 'W': 0}, {'N': 4, 'E': 10, 'S': 0, 'W': 0})\n"
     ]
    }
   ],
   "source": [
    "waypoint_dictionary = {\n",
    "    'N':1,\n",
    "    'E':10,\n",
    "    'S':0,\n",
    "    'W':0\n",
    "        }\n",
    "\n",
    "for instruction in sample_puzzle_input:\n",
    "    print(parse_instruction(instruction, waypoint_dictionary))"
   ]
  },
  {
   "cell_type": "code",
   "execution_count": 82,
   "metadata": {},
   "outputs": [],
   "source": [
    "# updated function\n",
    "\n",
    "def create_movement_dictionary(puzzle_input, waypoint_dictionary = {'N':1,'E':10,'S':0,'W':0}):\n",
    "  \n",
    "    final_movement_dictionary = {\n",
    "        'N':0,\n",
    "        'E':0,\n",
    "        'S':0,\n",
    "        'W':0\n",
    "    }\n",
    "    \n",
    "    for instruction in puzzle_input:\n",
    "        \n",
    "#         print(instruction)\n",
    "#         print(final_movement_dictionary)\n",
    "#         print(waypoint_dictionary)\n",
    "#         print('---')\n",
    "  \n",
    "        movement_dictionary, waypoint_dictionary = parse_instruction(instruction, waypoint_dictionary)\n",
    "    \n",
    "#         print(movement_dictionary)\n",
    "#         print(waypoint_dictionary)\n",
    "#         print()\n",
    "    \n",
    "        # update the final dictionary\n",
    "        for direction in movement_dictionary:\n",
    "            \n",
    "            final_movement_dictionary[direction] += movement_dictionary[direction]\n",
    "        \n",
    "    return final_movement_dictionary"
   ]
  },
  {
   "cell_type": "code",
   "execution_count": 89,
   "metadata": {},
   "outputs": [],
   "source": [
    "def part_2_answer(puzzle_input):\n",
    "    \n",
    "    movement_dictionary = create_movement_dictionary(puzzle_input, waypoint_dictionary = {'N':1,'E':10,'S':0,'W':0})\n",
    "    \n",
    "    print(find_manhattan_distance(movement_dictionary))"
   ]
  },
  {
   "cell_type": "code",
   "execution_count": 91,
   "metadata": {},
   "outputs": [
    {
     "name": "stdout",
     "output_type": "stream",
     "text": [
      "286\n"
     ]
    }
   ],
   "source": [
    "part_2_answer(sample_puzzle_input)"
   ]
  },
  {
   "cell_type": "code",
   "execution_count": 93,
   "metadata": {},
   "outputs": [
    {
     "name": "stdout",
     "output_type": "stream",
     "text": [
      "30761\n"
     ]
    }
   ],
   "source": [
    "part_2_answer(puzzle_input)"
   ]
  },
  {
   "cell_type": "markdown",
   "metadata": {},
   "source": [
    "Note to self - the 'waypoint dictionary' as a default value in the arguments of the create_movement_dictionary DOES NOT RESET, and keeps being updated - so it needs to be hard coded when the function is run!!"
   ]
  },
  {
   "cell_type": "code",
   "execution_count": null,
   "metadata": {},
   "outputs": [],
   "source": []
  }
 ],
 "metadata": {
  "kernelspec": {
   "display_name": "Python 3",
   "language": "python",
   "name": "python3"
  },
  "language_info": {
   "codemirror_mode": {
    "name": "ipython",
    "version": 3
   },
   "file_extension": ".py",
   "mimetype": "text/x-python",
   "name": "python",
   "nbconvert_exporter": "python",
   "pygments_lexer": "ipython3",
   "version": "3.7.3"
  }
 },
 "nbformat": 4,
 "nbformat_minor": 2
}
